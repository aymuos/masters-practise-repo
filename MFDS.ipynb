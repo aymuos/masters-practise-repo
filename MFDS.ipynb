{
  "nbformat": 4,
  "nbformat_minor": 0,
  "metadata": {
    "colab": {
      "provenance": [],
      "authorship_tag": "ABX9TyNG+kBOlzaWff93Vd0UycOE",
      "include_colab_link": true
    },
    "kernelspec": {
      "name": "python3",
      "display_name": "Python 3"
    },
    "language_info": {
      "name": "python"
    }
  },
  "cells": [
    {
      "cell_type": "markdown",
      "metadata": {
        "id": "view-in-github",
        "colab_type": "text"
      },
      "source": [
        "<a href=\"https://colab.research.google.com/github/aymuos/masters-practise-repo/blob/main/MFDS.ipynb\" target=\"_parent\"><img src=\"https://colab.research.google.com/assets/colab-badge.svg\" alt=\"Open In Colab\"/></a>"
      ]
    },
    {
      "cell_type": "code",
      "execution_count": null,
      "metadata": {
        "id": "yi6CKIKTX_KN"
      },
      "outputs": [],
      "source": []
    },
    {
      "cell_type": "markdown",
      "source": [
        "**Assignment - 1 **"
      ],
      "metadata": {
        "id": "llHj4ofVY8id"
      }
    },
    {
      "cell_type": "markdown",
      "source": [
        "Q13 :\n",
        "\n",
        "In this problem, we explore four fundamental subspaces of a matrix by using the MATLAB.\n",
        "* Generate a random matrix A ∈ R\n",
        "\n",
        "10×10 using MATLAB.\n",
        "Check if the columns of A are linearly independent by determining its rank.\n",
        "* Compute the null space of A using MATLAB verify that any vector in the null space satisfies\n",
        "Av = 0.\n",
        "* Compute the range space of A using MATLAB.\n",
        "* Determine the rank of a matrix and dimension of null space of A by MATLAB. Verify rank\n",
        "nullity Theorem.\n",
        "* Generate any vector v ∈ R^10 and check if it lies in the null space or range space of A."
      ],
      "metadata": {
        "id": "0y1MOWCWY_0B"
      }
    },
    {
      "cell_type": "markdown",
      "source": [
        "- Step 1 : Creating random 10*10 matrix"
      ],
      "metadata": {
        "id": "PgHZG2pvbuwm"
      }
    },
    {
      "cell_type": "code",
      "source": [
        "# Create a 10 * 10 matrix of random elements\n",
        "\n",
        "import numpy as np\n",
        "\n",
        "import random\n",
        "from scipy.linalg import orth\n",
        "\n",
        "\n",
        "# Generating a matrix of 7 * 10 random integers less than or equal to 20\n",
        "mtrxA_part = np.random.randint(low=0,high=20, size =(7,10))\n",
        "print(f'Print part Matrix:  : \\n{mtrxA_part}\\n')\n",
        "\n",
        "# purposefully making the others linearly dependent\n",
        "\n",
        "mtrxA = np.vstack([\n",
        "    mtrxA_part,\n",
        "    mtrxA_part[0] + mtrxA_part[1],   # Row 8 as sum of rows 1 and 2\n",
        "    2 * mtrxA_part[2] - mtrxA_part[3],  # Row 9 as a linear combination of rows 3 and 4\n",
        "    mtrxA_part[4] - mtrxA_part[5]      # Row 10 as a difference of rows 5 and 6\n",
        "])\n",
        "\n",
        "print(f'Final 10 * 10 Matrix:  :\\n{mtrxA}\\n')\n",
        "print(type(mtrxA))"
      ],
      "metadata": {
        "colab": {
          "base_uri": "https://localhost:8080/"
        },
        "id": "M3vSW2LkZHBL",
        "outputId": "4f81b290-53c0-4fe7-d3c8-2097928268b8"
      },
      "execution_count": 28,
      "outputs": [
        {
          "output_type": "stream",
          "name": "stdout",
          "text": [
            "Print part Matrix:  : \n",
            "[[ 4 13 10  7 15 13  9  5 14  9]\n",
            " [14 19 11  4  9  1  7 19 16 15]\n",
            " [ 4 13 16 10 13  4 13  3  5 11]\n",
            " [ 9 16 10 13  7  9 17  7 12  1]\n",
            " [18  1  2 16 12  6  9 15  1 10]\n",
            " [ 0 10 19 12 18  0 11  1 12 13]\n",
            " [ 3 19 10  1 10 10  7  5  4  0]]\n",
            "\n",
            "Final 10 * 10 Matrix:  :\n",
            "[[  4  13  10   7  15  13   9   5  14   9]\n",
            " [ 14  19  11   4   9   1   7  19  16  15]\n",
            " [  4  13  16  10  13   4  13   3   5  11]\n",
            " [  9  16  10  13   7   9  17   7  12   1]\n",
            " [ 18   1   2  16  12   6   9  15   1  10]\n",
            " [  0  10  19  12  18   0  11   1  12  13]\n",
            " [  3  19  10   1  10  10   7   5   4   0]\n",
            " [ 18  32  21  11  24  14  16  24  30  24]\n",
            " [ -1  10  22   7  19  -1   9  -1  -2  21]\n",
            " [ 18  -9 -17   4  -6   6  -2  14 -11  -3]]\n",
            "\n",
            "<class 'numpy.ndarray'>\n"
          ]
        }
      ]
    },
    {
      "cell_type": "markdown",
      "source": [
        "- Step 2 : Checking if columns of a are linearly independent by checking rank\n"
      ],
      "metadata": {
        "id": "-p9V9b-ab1Bc"
      }
    },
    {
      "cell_type": "code",
      "source": [
        "# find rank of matrix\n",
        "\n",
        "req_rank = np.linalg.matrix_rank(mtrxA)\n",
        "print(f'Rank of the matrix is: {req_rank}')"
      ],
      "metadata": {
        "colab": {
          "base_uri": "https://localhost:8080/"
        },
        "id": "gISVNYSNcABC",
        "outputId": "2066a135-7400-4c05-ec22-ee9a7f2e6f12"
      },
      "execution_count": 29,
      "outputs": [
        {
          "output_type": "stream",
          "name": "stdout",
          "text": [
            "Rank of the matrix is: 7\n"
          ]
        }
      ]
    },
    {
      "cell_type": "markdown",
      "source": [
        "- Step 3 : Check for linear dependence"
      ],
      "metadata": {
        "id": "wTOnaSkjfL6u"
      }
    },
    {
      "cell_type": "code",
      "source": [
        "# check linear independence\n",
        "\n",
        "if req_rank == mtrxA.shape[1]:  # number of vectors (columns)\n",
        "    print(\"The columns are linearly independent.\")\n",
        "else:\n",
        "    print(\"The columns are linearly dependent.\")"
      ],
      "metadata": {
        "colab": {
          "base_uri": "https://localhost:8080/"
        },
        "id": "lJeLACgLfQXU",
        "outputId": "900911b7-0502-42dc-881c-435537ae4849"
      },
      "execution_count": 30,
      "outputs": [
        {
          "output_type": "stream",
          "name": "stdout",
          "text": [
            "The columns are linearly dependent.\n"
          ]
        }
      ]
    },
    {
      "cell_type": "markdown",
      "source": [
        " - Step 4 :  Find linear independence"
      ],
      "metadata": {
        "id": "JgzEETNXg378"
      }
    },
    {
      "cell_type": "code",
      "source": [
        "from scipy.linalg import null_space\n",
        "\n",
        "null_space_mtrxA = null_space(mtrxA)\n",
        "\n",
        "print(f'Null space of matrix A = \\n {null_space_mtrxA}')"
      ],
      "metadata": {
        "colab": {
          "base_uri": "https://localhost:8080/"
        },
        "id": "vUJfi9Opg7lo",
        "outputId": "40f9c2a0-c289-466f-c4d3-f1a18dc264a2"
      },
      "execution_count": 31,
      "outputs": [
        {
          "output_type": "stream",
          "name": "stdout",
          "text": [
            "Null space of matrix A = \n",
            " [[ 6.77103374e-01  4.04592116e-02 -2.77394873e-01]\n",
            " [-2.22957119e-01 -1.82264266e-01 -4.40446413e-01]\n",
            " [ 2.73086120e-01  6.31492058e-01  2.49114422e-01]\n",
            " [-4.25948159e-01  2.39797326e-01 -4.05930691e-01]\n",
            " [ 1.30563365e-01 -3.91216804e-01  5.00347267e-02]\n",
            " [-3.42006363e-02  3.31282786e-01  8.64111465e-02]\n",
            " [ 6.75444586e-02 -4.71032784e-01  4.62933290e-01]\n",
            " [-4.12054218e-01  1.36437806e-01  5.06802497e-01]\n",
            " [ 1.30948670e-01  3.26533926e-04 -5.88782734e-03]\n",
            " [-1.61549741e-01 -7.46436526e-02 -1.45121648e-01]]\n"
          ]
        }
      ]
    },
    {
      "cell_type": "markdown",
      "source": [
        "Step 5 : Verify Ax= 0"
      ],
      "metadata": {
        "id": "To-XG9-7pZlG"
      }
    },
    {
      "cell_type": "code",
      "source": [
        "# Verify that each vector in the null space satisfies A * v = 0\n",
        "if null_space_mtrxA.size > 0:\n",
        "    for i in range(null_space_mtrxA.shape[1]):\n",
        "        v = null_space_mtrxA[:, i]\n",
        "        result = mtrxA @ v\n",
        "        print(f\"\\nChecking vector {i+1} in the null space:\")\n",
        "        print(\"Vector v:\", v)\n",
        "        print(\"A * v:\", result)\n",
        "        print(\"Is Av = 0?\", np.allclose(result, 0))\n",
        "else:\n",
        "    print(\"The matrix has no null space vectors (it's full rank).\")"
      ],
      "metadata": {
        "id": "71K4J5pRpcqc",
        "outputId": "e1ec1dbc-50fd-414d-c308-38dae71c83c8",
        "colab": {
          "base_uri": "https://localhost:8080/"
        }
      },
      "execution_count": 32,
      "outputs": [
        {
          "output_type": "stream",
          "name": "stdout",
          "text": [
            "\n",
            "Checking vector 1 in the null space:\n",
            "Vector v: [ 0.67710337 -0.22295712  0.27308612 -0.42594816  0.13056337 -0.03420064\n",
            "  0.06754446 -0.41205422  0.13094867 -0.16154974]\n",
            "A * v: [ 1.04360964e-14 -8.88178420e-16  6.43929354e-15  4.21884749e-15\n",
            " -3.33066907e-15  7.54951657e-15  1.77635684e-15  9.76996262e-15\n",
            "  5.77315973e-15 -1.17683641e-14]\n",
            "Is Av = 0? True\n",
            "\n",
            "Checking vector 2 in the null space:\n",
            "Vector v: [ 4.04592116e-02 -1.82264266e-01  6.31492058e-01  2.39797326e-01\n",
            " -3.91216804e-01  3.31282786e-01 -4.71032784e-01  1.36437806e-01\n",
            "  3.26533926e-04 -7.46436526e-02]\n",
            "A * v: [ 4.32986980e-15  0.00000000e+00 -1.11022302e-15 -2.55351296e-15\n",
            " -4.44089210e-15  1.33226763e-15  2.77555756e-17  4.44089210e-15\n",
            "  1.11022302e-15 -4.35762537e-15]\n",
            "Is Av = 0? True\n",
            "\n",
            "Checking vector 3 in the null space:\n",
            "Vector v: [-0.27739487 -0.44044641  0.24911442 -0.40593069  0.05003473  0.08641115\n",
            "  0.46293329  0.5068025  -0.00588783 -0.14512165]\n",
            "A * v: [-4.21884749e-15  6.66133815e-15  1.11022302e-15  3.60822483e-16\n",
            " -2.66453526e-15 -1.77635684e-15  3.33066907e-16  2.22044605e-15\n",
            "  1.33226763e-15 -2.77555756e-15]\n",
            "Is Av = 0? True\n"
          ]
        }
      ]
    },
    {
      "cell_type": "markdown",
      "source": [
        "Step 6 : Finding range space"
      ],
      "metadata": {
        "id": "p000NcrVpqGj"
      }
    },
    {
      "cell_type": "code",
      "source": [
        "# Compute the orthonormal basis for the range space (column space) of matrix A\n",
        "range_space_mtrxA = orth(mtrxA)\n",
        "\n",
        "print(f'Range space (column space) of matrix A:\\n{range_space_mtrxA}\\n')\n",
        "\n",
        "print(' ----------- ANSWER -----------')\n",
        "\n",
        "# Verification: Checking if each basis vector is indeed in the range of A\n",
        "for i in range(range_space_mtrxA.shape[1]):\n",
        "    basis_vector = range_space_mtrxA[:, i]\n",
        "    print(f\"Basis vector {i+1}:\", basis_vector)\n",
        "    # Check if this vector is in the span of columns of A\n",
        "    # This should hold since orth() finds an orthonormal basis for the column space of A\n",
        "    print(\"Is this a column combination of A?\", np.allclose(mtrxA @ np.linalg.lstsq(mtrxA, basis_vector, rcond=None)[0], basis_vector))"
      ],
      "metadata": {
        "id": "qD2yUiPjrrbt",
        "outputId": "a1fddf0b-0fd7-4fe3-dded-7e877472933d",
        "colab": {
          "base_uri": "https://localhost:8080/"
        }
      },
      "execution_count": 33,
      "outputs": [
        {
          "output_type": "stream",
          "name": "stdout",
          "text": [
            "Range space (column space) of matrix A:\n",
            "[[-0.28534637  0.0255354   0.11386115  0.23164331  0.05052384  0.67966594\n",
            "   0.23123717]\n",
            " [-0.33745048 -0.20335258  0.18443779 -0.51958175 -0.01873792 -0.44585342\n",
            "  -0.09122877]\n",
            " [-0.27571823  0.14114498 -0.21146136  0.21524355 -0.08618463 -0.24742179\n",
            "   0.27874695]\n",
            " [-0.2798686  -0.10647016  0.14744186  0.61257603  0.24089187 -0.45956718\n",
            "   0.27830133]\n",
            " [-0.2215241  -0.41251688 -0.51849896  0.10776374  0.17560609  0.08196665\n",
            "  -0.35974065]\n",
            " [-0.29962085  0.28733023 -0.23483286  0.05001855  0.42650503  0.02551251\n",
            "  -0.50411268]\n",
            " [-0.20925567  0.03833654  0.26040588  0.34825665 -0.69580898 -0.01949855\n",
            "  -0.53020574]\n",
            " [-0.62279685 -0.17781718  0.29829894 -0.28793845  0.03178592  0.23381252\n",
            "   0.14000841]\n",
            " [-0.27156787  0.38876012 -0.57036457 -0.18208893 -0.41326112 -0.03527639\n",
            "   0.27919257]\n",
            " [ 0.07809675 -0.6998471  -0.2836661   0.05774519 -0.25089894  0.05645415\n",
            "   0.14437203]]\n",
            "\n",
            "Basis vector 1: [-0.28534637 -0.33745048 -0.27571823 -0.2798686  -0.2215241  -0.29962085\n",
            " -0.20925567 -0.62279685 -0.27156787  0.07809675]\n",
            "Is this a column combination of A? True\n",
            "Basis vector 2: [ 0.0255354  -0.20335258  0.14114498 -0.10647016 -0.41251688  0.28733023\n",
            "  0.03833654 -0.17781718  0.38876012 -0.6998471 ]\n",
            "Is this a column combination of A? True\n",
            "Basis vector 3: [ 0.11386115  0.18443779 -0.21146136  0.14744186 -0.51849896 -0.23483286\n",
            "  0.26040588  0.29829894 -0.57036457 -0.2836661 ]\n",
            "Is this a column combination of A? True\n",
            "Basis vector 4: [ 0.23164331 -0.51958175  0.21524355  0.61257603  0.10776374  0.05001855\n",
            "  0.34825665 -0.28793845 -0.18208893  0.05774519]\n",
            "Is this a column combination of A? True\n",
            "Basis vector 5: [ 0.05052384 -0.01873792 -0.08618463  0.24089187  0.17560609  0.42650503\n",
            " -0.69580898  0.03178592 -0.41326112 -0.25089894]\n",
            "Is this a column combination of A? True\n",
            "Basis vector 6: [ 0.67966594 -0.44585342 -0.24742179 -0.45956718  0.08196665  0.02551251\n",
            " -0.01949855  0.23381252 -0.03527639  0.05645415]\n",
            "Is this a column combination of A? True\n",
            "Basis vector 7: [ 0.23123717 -0.09122877  0.27874695  0.27830133 -0.35974065 -0.50411268\n",
            " -0.53020574  0.14000841  0.27919257  0.14437203]\n",
            "Is this a column combination of A? True\n"
          ]
        }
      ]
    },
    {
      "cell_type": "code",
      "source": [
        "# Final\n",
        "\n",
        "# Create a 10 * 10 matrix of random elements\n",
        "\n",
        "import numpy as np\n",
        "from scipy.linalg import null_space , ortho\n",
        "import random\n",
        "\n",
        "# Generating a matrix of 100 random integers less than or equal to 20\n",
        "mtrxA = np.random.randint(low=0,high=20, size =(10,10))\n",
        "\n",
        "\n",
        "print(f'Given Matrix:  : {mtrxA}')\n",
        "print(type(mtrxA))\n",
        "\n",
        "# find rank of matrix\n",
        "\n",
        "req_rank = np.linalg.matrix_rank(mtrxA)\n",
        "print(f'Rank of the matrix is: {req_rank}')\n",
        "# check linear independence\n",
        "\n",
        "if req_rank == mtrxA.shape[1]:  # number of vectors (columns)\n",
        "    print(\"The columns are linearly independent. Thus Full Rank\")\n",
        "else:\n",
        "    print(\"The columns are linearly dependent.\")\n",
        "\n",
        "null_space_mtrxA = null_space(mtrxA)\n",
        "\n",
        "print(f'Null space of matrix A = {null_space_mtrxA}')\n"
      ],
      "metadata": {
        "colab": {
          "base_uri": "https://localhost:8080/"
        },
        "id": "ZXfkiSBphjm0",
        "outputId": "ecb9ad56-d6f8-4506-b0e9-7e9a60a63d9c"
      },
      "execution_count": 18,
      "outputs": [
        {
          "output_type": "stream",
          "name": "stdout",
          "text": [
            "Given Matrix:  : [[19  2 14  9 14 17  3  8  9 17]\n",
            " [15  6 14  5  3  4  1  7 13 14]\n",
            " [ 0 12  2 18 18  6 16  4  4 16]\n",
            " [ 8 11  1 14  8 13 15  3  2 16]\n",
            " [ 2 17  1  3  8 16 15 14 15 10]\n",
            " [ 5  7  8  2  1  0  4  8 18  3]\n",
            " [ 3 16  4 16  7 16  2 16  8 14]\n",
            " [ 8 14  7  9  3  8 18 12 15  5]\n",
            " [ 3 11 12  5  8 14 11 10 14  7]\n",
            " [11  5  2  1  2  6 16 11  0  6]]\n",
            "<class 'numpy.ndarray'>\n",
            "Rank of the matrix is: 10\n",
            "The columns are linearly independent.\n",
            "Null space of matrix A = []\n"
          ]
        }
      ]
    }
  ]
}