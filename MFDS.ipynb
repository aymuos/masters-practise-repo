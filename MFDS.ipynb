{
  "nbformat": 4,
  "nbformat_minor": 0,
  "metadata": {
    "colab": {
      "provenance": [],
      "authorship_tag": "ABX9TyNvBykbvtb2agTH0KTbKINj",
      "include_colab_link": true
    },
    "kernelspec": {
      "name": "python3",
      "display_name": "Python 3"
    },
    "language_info": {
      "name": "python"
    }
  },
  "cells": [
    {
      "cell_type": "markdown",
      "metadata": {
        "id": "view-in-github",
        "colab_type": "text"
      },
      "source": [
        "<a href=\"https://colab.research.google.com/github/aymuos/masters-practise-repo/blob/main/MFDS.ipynb\" target=\"_parent\"><img src=\"https://colab.research.google.com/assets/colab-badge.svg\" alt=\"Open In Colab\"/></a>"
      ]
    },
    {
      "cell_type": "code",
      "execution_count": null,
      "metadata": {
        "id": "yi6CKIKTX_KN"
      },
      "outputs": [],
      "source": []
    },
    {
      "cell_type": "markdown",
      "source": [
        "**Assignment - 1 **"
      ],
      "metadata": {
        "id": "llHj4ofVY8id"
      }
    },
    {
      "cell_type": "markdown",
      "source": [
        "Q13 :\n",
        "\n",
        "In this problem, we explore four fundamental subspaces of a matrix by using the MATLAB.\n",
        "• Generate a random matrix A ∈ R\n",
        "\n",
        "10×10 using MATLAB. Check if the columns of A are linearly\n",
        "\n",
        "independent by determining its rank.\n",
        "• Compute the null space of A using MATLAB verify that any vector in the null space satisfies\n",
        "Av = 0.\n",
        "• Compute the range space of A using MATLAB.\n",
        "• Determine the rank of a matrix and dimension of null space of A by MATLAB. Verify rank\n",
        "nullity Theorem.\n",
        "• Generate any vector v ∈ R\n",
        "\n",
        "10 and check if it lies in the null space or range space of A."
      ],
      "metadata": {
        "id": "0y1MOWCWY_0B"
      }
    },
    {
      "cell_type": "code",
      "source": [
        "# Create a 10 * 10 matrix of random elements\n",
        "\n",
        "import numpy as np\n",
        "\n",
        "import random\n",
        "\n",
        "# Generating an array of 100 random integers less than or equal to 20\n",
        "arry = np.random.randint(low=0,high=20, size =(10,10))\n",
        "\n",
        "\n",
        "print(arry)"
      ],
      "metadata": {
        "id": "M3vSW2LkZHBL",
        "outputId": "29f98981-18af-4239-eba2-b7f51360d5d4",
        "colab": {
          "base_uri": "https://localhost:8080/"
        }
      },
      "execution_count": 3,
      "outputs": [
        {
          "output_type": "stream",
          "name": "stdout",
          "text": [
            "[14 16 15 16 18 14 17 13 11 11 14 16  8  6 15 19  9 17 11  4 10  9 10 12\n",
            " 17 18 18 13 12 15  9  9 11 13  5  7  5 13 11 13  1  6  3  8 12  6 15  8\n",
            " 14 16  7 15  7  8 11 13  9  8 14 15  6 17 15  5  5  8 11  8  7  2 11 14\n",
            "  3 15  2  7 12 15 13  8 11 18  3  7 18  9 18  4  3  9  2  7 17 14  9 14\n",
            " 18  9  5  2]\n"
          ]
        }
      ]
    }
  ]
}