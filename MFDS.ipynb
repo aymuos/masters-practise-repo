{
  "nbformat": 4,
  "nbformat_minor": 0,
  "metadata": {
    "colab": {
      "provenance": [],
      "authorship_tag": "ABX9TyPZ8chKGDJ1xvN9P++4gnId",
      "include_colab_link": true
    },
    "kernelspec": {
      "name": "python3",
      "display_name": "Python 3"
    },
    "language_info": {
      "name": "python"
    }
  },
  "cells": [
    {
      "cell_type": "markdown",
      "metadata": {
        "id": "view-in-github",
        "colab_type": "text"
      },
      "source": [
        "<a href=\"https://colab.research.google.com/github/aymuos/masters-practise-repo/blob/main/MFDS.ipynb\" target=\"_parent\"><img src=\"https://colab.research.google.com/assets/colab-badge.svg\" alt=\"Open In Colab\"/></a>"
      ]
    },
    {
      "cell_type": "code",
      "execution_count": null,
      "metadata": {
        "id": "yi6CKIKTX_KN"
      },
      "outputs": [],
      "source": []
    },
    {
      "cell_type": "markdown",
      "source": [
        "**Assignment - 1 **"
      ],
      "metadata": {
        "id": "llHj4ofVY8id"
      }
    },
    {
      "cell_type": "markdown",
      "source": [
        "Q13 :\n",
        "\n",
        "In this problem, we explore four fundamental subspaces of a matrix by using the MATLAB.\n",
        "* Generate a random matrix A ∈ R\n",
        "\n",
        "10×10 using MATLAB.\n",
        "Check if the columns of A are linearly independent by determining its rank.\n",
        "* Compute the null space of A using MATLAB verify that any vector in the null space satisfies\n",
        "Av = 0.\n",
        "* Compute the range space of A using MATLAB.\n",
        "* Determine the rank of a matrix and dimension of null space of A by MATLAB. Verify rank\n",
        "nullity Theorem.\n",
        "* Generate any vector v ∈ R^10 and check if it lies in the null space or range space of A."
      ],
      "metadata": {
        "id": "0y1MOWCWY_0B"
      }
    },
    {
      "cell_type": "markdown",
      "source": [
        "- Step 1 : Creating random 10*10 matrix"
      ],
      "metadata": {
        "id": "PgHZG2pvbuwm"
      }
    },
    {
      "cell_type": "code",
      "source": [
        "# Create a 10 * 10 matrix of random elements\n",
        "\n",
        "import numpy as np\n",
        "\n",
        "import random\n",
        "from scipy.linalg import orth\n",
        "\n",
        "\n",
        "# Generating a matrix of 7 * 10 random integers less than or equal to 20\n",
        "mtrxA_part = np.random.randint(low=0,high=20, size =(7,10))\n",
        "print(f'Print part Matrix:  : \\n{mtrxA_part}\\n')\n",
        "\n",
        "# purposefully making the others linearly dependent\n",
        "\n",
        "mtrxA = np.vstack([\n",
        "    mtrxA_part,\n",
        "    mtrxA_part[0] + mtrxA_part[1],   # Row 8 as sum of rows 1 and 2\n",
        "    2 * mtrxA_part[2] - mtrxA_part[3],  # Row 9 as a linear combination of rows 3 and 4\n",
        "    mtrxA_part[4] - mtrxA_part[5]      # Row 10 as a difference of rows 5 and 6\n",
        "])\n",
        "\n",
        "print(f'Final 10 * 10 Matrix:  :\\n{mtrxA}\\n')\n",
        "print(type(mtrxA))"
      ],
      "metadata": {
        "colab": {
          "base_uri": "https://localhost:8080/"
        },
        "id": "M3vSW2LkZHBL",
        "outputId": "d0c22481-8ade-4f9c-fed7-c6ddb155709c"
      },
      "execution_count": 2,
      "outputs": [
        {
          "output_type": "stream",
          "name": "stdout",
          "text": [
            "Print part Matrix:  : \n",
            "[[19 14  2 11  7 18 18  0 19 10]\n",
            " [ 3  2 15  7 17 12  7 18  6  5]\n",
            " [18 14  1  0 10  1  4 15  1  2]\n",
            " [16  8 10 11 10 12 10 12 16 18]\n",
            " [13  9  0  1 13  6 17  8  3 13]\n",
            " [ 4 14 15 19  8 14 15  7  2  7]\n",
            " [ 3 10 18  4  5 11  9 19  6 12]]\n",
            "\n",
            "Final 10 * 10 Matrix:  :\n",
            "[[ 19  14   2  11   7  18  18   0  19  10]\n",
            " [  3   2  15   7  17  12   7  18   6   5]\n",
            " [ 18  14   1   0  10   1   4  15   1   2]\n",
            " [ 16   8  10  11  10  12  10  12  16  18]\n",
            " [ 13   9   0   1  13   6  17   8   3  13]\n",
            " [  4  14  15  19   8  14  15   7   2   7]\n",
            " [  3  10  18   4   5  11   9  19   6  12]\n",
            " [ 22  16  17  18  24  30  25  18  25  15]\n",
            " [ 20  20  -8 -11  10 -10  -2  18 -14 -14]\n",
            " [  9  -5 -15 -18   5  -8   2   1   1   6]]\n",
            "\n",
            "<class 'numpy.ndarray'>\n"
          ]
        }
      ]
    },
    {
      "cell_type": "markdown",
      "source": [
        "- Step 2 : Checking if columns of a are linearly independent by checking rank\n"
      ],
      "metadata": {
        "id": "-p9V9b-ab1Bc"
      }
    },
    {
      "cell_type": "code",
      "source": [
        "# find rank of matrix\n",
        "\n",
        "req_rank = np.linalg.matrix_rank(mtrxA)\n",
        "print(f'Rank of the matrix is: {req_rank}')"
      ],
      "metadata": {
        "colab": {
          "base_uri": "https://localhost:8080/"
        },
        "id": "gISVNYSNcABC",
        "outputId": "939af7cb-6fef-4b8b-e356-933129af6b74"
      },
      "execution_count": 3,
      "outputs": [
        {
          "output_type": "stream",
          "name": "stdout",
          "text": [
            "Rank of the matrix is: 7\n"
          ]
        }
      ]
    },
    {
      "cell_type": "markdown",
      "source": [
        "- Step 3 : Check for linear dependence"
      ],
      "metadata": {
        "id": "wTOnaSkjfL6u"
      }
    },
    {
      "cell_type": "code",
      "source": [
        "# check linear independence\n",
        "\n",
        "if req_rank == mtrxA.shape[1]:  # number of vectors (columns)\n",
        "    print(\"The columns are linearly independent.\")\n",
        "else:\n",
        "    print(\"The columns are linearly dependent.\")"
      ],
      "metadata": {
        "colab": {
          "base_uri": "https://localhost:8080/"
        },
        "id": "lJeLACgLfQXU",
        "outputId": "87fbc749-ab29-4d05-bdc6-ba8a7f2992cc"
      },
      "execution_count": 4,
      "outputs": [
        {
          "output_type": "stream",
          "name": "stdout",
          "text": [
            "The columns are linearly dependent.\n"
          ]
        }
      ]
    },
    {
      "cell_type": "markdown",
      "source": [
        " - Step 4 :  Find linear independence"
      ],
      "metadata": {
        "id": "JgzEETNXg378"
      }
    },
    {
      "cell_type": "code",
      "source": [
        "from scipy.linalg import null_space\n",
        "\n",
        "null_space_mtrxA = null_space(mtrxA)\n",
        "\n",
        "print(f'Null space of matrix A = \\n {null_space_mtrxA}')"
      ],
      "metadata": {
        "colab": {
          "base_uri": "https://localhost:8080/"
        },
        "id": "vUJfi9Opg7lo",
        "outputId": "1900c03f-cfc4-4eef-e903-ae9f6f570383"
      },
      "execution_count": 5,
      "outputs": [
        {
          "output_type": "stream",
          "name": "stdout",
          "text": [
            "Null space of matrix A = \n",
            " [[ 0.5482948  -0.04861413 -0.16088932]\n",
            " [-0.52338295 -0.17948295 -0.11515569]\n",
            " [ 0.26439699  0.00947288 -0.64018432]\n",
            " [-0.03246913  0.21666973  0.29010883]\n",
            " [-0.33277929 -0.18873365 -0.26744907]\n",
            " [ 0.22241589 -0.58345009  0.35812502]\n",
            " [ 0.19224015  0.50668927 -0.01325337]\n",
            " [ 0.01033254  0.27083572  0.50129927]\n",
            " [-0.37654705  0.35269752 -0.1120434 ]\n",
            " [-0.1241833  -0.29643057  0.05515267]]\n"
          ]
        }
      ]
    },
    {
      "cell_type": "markdown",
      "source": [
        "Step 5 : Verify Ax= 0"
      ],
      "metadata": {
        "id": "To-XG9-7pZlG"
      }
    },
    {
      "cell_type": "code",
      "source": [
        "# Verify that each vector in the null space satisfies A * v = 0\n",
        "if null_space_mtrxA.size > 0:\n",
        "    for i in range(null_space_mtrxA.shape[1]):\n",
        "        v = null_space_mtrxA[:, i]\n",
        "        result = mtrxA @ v   # matrix multiplication operator , introduced in py 3.5\n",
        "        print(f\"\\nChecking vector {i+1} in the null space:\")\n",
        "        print(\"Vector v:\", v)\n",
        "        print(\"A * v:\", result)\n",
        "        print(\"Is Av = 0?\", np.allclose(result, 0))\n",
        "else:\n",
        "    print(\"The matrix has no null space vectors (it's full rank).\")"
      ],
      "metadata": {
        "colab": {
          "base_uri": "https://localhost:8080/"
        },
        "id": "71K4J5pRpcqc",
        "outputId": "78b23921-2e2f-4999-963e-b62bf26d067a"
      },
      "execution_count": 6,
      "outputs": [
        {
          "output_type": "stream",
          "name": "stdout",
          "text": [
            "\n",
            "Checking vector 1 in the null space:\n",
            "Vector v: [ 0.5482948  -0.52338295  0.26439699 -0.03246913 -0.33277929  0.22241589\n",
            "  0.19224015  0.01033254 -0.37654705 -0.1241833 ]\n",
            "A * v: [-3.55271368e-15  1.77635684e-15 -8.65973959e-15 -3.55271368e-15\n",
            " -3.55271368e-15  3.99680289e-15  7.10542736e-15 -3.55271368e-15\n",
            " -1.15463195e-14 -8.21565038e-15]\n",
            "Is Av = 0? True\n",
            "\n",
            "Checking vector 2 in the null space:\n",
            "Vector v: [-0.04861413 -0.17948295  0.00947288  0.21666973 -0.18873365 -0.58345009\n",
            "  0.50668927  0.27083572  0.35269752 -0.29643057]\n",
            "A * v: [ 2.66453526e-15 -5.55111512e-15 -1.11022302e-16  0.00000000e+00\n",
            " -8.88178420e-16 -1.55431223e-15 -6.66133815e-16 -5.32907052e-15\n",
            "  6.66133815e-16  4.44089210e-16]\n",
            "Is Av = 0? True\n",
            "\n",
            "Checking vector 3 in the null space:\n",
            "Vector v: [-0.16088932 -0.11515569 -0.64018432  0.29010883 -0.26744907  0.35812502\n",
            " -0.01325337  0.50129927 -0.1120434   0.05515267]\n",
            "A * v: [ 2.22044605e-15  4.99600361e-16  1.70696790e-15  2.44249065e-15\n",
            " -2.22044605e-16  4.99600361e-16  4.94049246e-15  8.88178420e-16\n",
            "  1.88737914e-15 -6.93889390e-16]\n",
            "Is Av = 0? True\n"
          ]
        }
      ]
    },
    {
      "cell_type": "markdown",
      "source": [
        "Step 6 : Finding range space"
      ],
      "metadata": {
        "id": "p000NcrVpqGj"
      }
    },
    {
      "cell_type": "code",
      "source": [
        "# Compute the orthonormal basis for the range space (column space) of matrix A\n",
        "range_space_mtrxA = orth(mtrxA)\n",
        "\n",
        "print(f'Range space (column space) of matrix A:\\n{range_space_mtrxA}\\n')\n",
        "\n",
        "print(' ----------- ANSWER -----------')\n",
        "\n",
        "# Verification: Checking if each basis vector is indeed in the range of A\n",
        "for i in range(range_space_mtrxA.shape[1]):\n",
        "    basis_vector = range_space_mtrxA[:, i]\n",
        "    print(f\"Basis vector {i+1}:\", basis_vector)\n",
        "    # Check if this vector is in the span of columns of A\n",
        "    # This should hold since orth() finds an orthonormal basis for the column space of A\n",
        "    print(\"Is this a column combination of A?\", np.allclose(mtrxA @ np.linalg.lstsq(mtrxA, basis_vector, rcond=None)[0], basis_vector))"
      ],
      "metadata": {
        "colab": {
          "base_uri": "https://localhost:8080/"
        },
        "id": "qD2yUiPjrrbt",
        "outputId": "c12a18c2-f0e5-4ea0-86c0-f3b7a10604e4"
      },
      "execution_count": 7,
      "outputs": [
        {
          "output_type": "stream",
          "name": "stdout",
          "text": [
            "Range space (column space) of matrix A:\n",
            "[[-0.35678338 -0.04622362  0.44719614 -0.46133132 -0.04866127 -0.15462365\n",
            "  -0.31328628]\n",
            " [-0.270756   -0.02072007 -0.34332444  0.44593592 -0.39144251  0.32631884\n",
            "   0.12840088]\n",
            " [-0.19563419  0.39199123 -0.06296767 -0.0341167  -0.00566359 -0.26496765\n",
            "   0.25697211]\n",
            " [-0.35771606 -0.03737381  0.15132735  0.18215497  0.08660071 -0.52325402\n",
            "   0.60547577]\n",
            " [-0.25114883  0.18137843  0.2310561   0.11943568  0.52193797  0.46963115\n",
            "   0.10034111]\n",
            " [-0.30597709 -0.14679578 -0.31437268 -0.34619465  0.43424428  0.31885873\n",
            "   0.20633901]\n",
            " [-0.2802285  -0.03357257 -0.34337364  0.37431486  0.40609649 -0.38874724\n",
            "  -0.58846328]\n",
            " [-0.62753938 -0.0669437   0.1038717  -0.0153954  -0.44010378  0.1716952\n",
            "  -0.1848854 ]\n",
            " [-0.03355232  0.82135626 -0.27726268 -0.25038837 -0.09792789 -0.00668128\n",
            "  -0.09153154]\n",
            " [ 0.05482827  0.32817421  0.54542878  0.46563033  0.08769369  0.15077242\n",
            "  -0.1059979 ]]\n",
            "\n",
            " ----------- ANSWER -----------\n",
            "Basis vector 1: [-0.35678338 -0.270756   -0.19563419 -0.35771606 -0.25114883 -0.30597709\n",
            " -0.2802285  -0.62753938 -0.03355232  0.05482827]\n",
            "Is this a column combination of A? True\n",
            "Basis vector 2: [-0.04622362 -0.02072007  0.39199123 -0.03737381  0.18137843 -0.14679578\n",
            " -0.03357257 -0.0669437   0.82135626  0.32817421]\n",
            "Is this a column combination of A? True\n",
            "Basis vector 3: [ 0.44719614 -0.34332444 -0.06296767  0.15132735  0.2310561  -0.31437268\n",
            " -0.34337364  0.1038717  -0.27726268  0.54542878]\n",
            "Is this a column combination of A? True\n",
            "Basis vector 4: [-0.46133132  0.44593592 -0.0341167   0.18215497  0.11943568 -0.34619465\n",
            "  0.37431486 -0.0153954  -0.25038837  0.46563033]\n",
            "Is this a column combination of A? True\n",
            "Basis vector 5: [-0.04866127 -0.39144251 -0.00566359  0.08660071  0.52193797  0.43424428\n",
            "  0.40609649 -0.44010378 -0.09792789  0.08769369]\n",
            "Is this a column combination of A? True\n",
            "Basis vector 6: [-0.15462365  0.32631884 -0.26496765 -0.52325402  0.46963115  0.31885873\n",
            " -0.38874724  0.1716952  -0.00668128  0.15077242]\n",
            "Is this a column combination of A? True\n",
            "Basis vector 7: [-0.31328628  0.12840088  0.25697211  0.60547577  0.10034111  0.20633901\n",
            " -0.58846328 -0.1848854  -0.09153154 -0.1059979 ]\n",
            "Is this a column combination of A? True\n"
          ]
        }
      ]
    },
    {
      "cell_type": "markdown",
      "source": [
        "- Step 7 : Verifying rank nullity theorem"
      ],
      "metadata": {
        "id": "YYwvC0dSs4H4"
      }
    },
    {
      "cell_type": "code",
      "source": [
        "rank_A = np.linalg.matrix_rank(mtrxA)\n",
        "print(f'Rank of matrix A: {rank_A}')\n",
        "\n",
        "# Step 2: Compute the null space of A and determine its dimension\n",
        "null_space_A = null_space(mtrxA)\n",
        "nullity_A = null_space_A.shape[1]  # Number of basis vectors in the null space\n",
        "print(f'Nullity of matrix A (dimension of the null space): {nullity_A}')\n",
        "\n",
        "# Step 3: Verify the Rank-Nullity Theorem\n",
        "num_columns = mtrxA.shape[1]\n",
        "rank_nullity_sum = rank_A + nullity_A\n",
        "print(f'Sum of Rank and Nullity: {rank_nullity_sum}')\n",
        "print(f'Number of columns in A: {num_columns}')\n",
        "print(\"Rank-Nullity Theorem holds:\", rank_nullity_sum == num_columns)"
      ],
      "metadata": {
        "colab": {
          "base_uri": "https://localhost:8080/"
        },
        "id": "xqj5GMirs96-",
        "outputId": "a0c79abe-ea08-4fea-eff6-d90055454841"
      },
      "execution_count": 8,
      "outputs": [
        {
          "output_type": "stream",
          "name": "stdout",
          "text": [
            "Rank of matrix A: 7\n",
            "Nullity of matrix A (dimension of the null space): 3\n",
            "Sum of Rank and Nullity: 10\n",
            "Number of columns in A: 10\n",
            "Rank-Nullity Theorem holds: True\n"
          ]
        }
      ]
    },
    {
      "cell_type": "markdown",
      "source": [
        "- Step 8 : Generate random vector of dim 10 and check if it lies in the null space"
      ],
      "metadata": {
        "id": "8w16MXd4uQEA"
      }
    },
    {
      "cell_type": "code",
      "source": [
        "v = np.random.rand(10)\n",
        "print(f\"Random vector v:\\n{v}\\n\")\n",
        "\n",
        "# Check if v lies in the null space of A\n",
        "result_null_space = mtrxA @ v   # calculating Av\n",
        "is_in_null_space = np.allclose(result_null_space, 0)   # checks if elementwise equal to 0\n",
        "print(f\"Is v in the null space of A? {is_in_null_space}\")\n",
        "\n",
        "# Check if v lies in the range space of A\n",
        "# Solves the equation Ax = v and check if a solution exists\n",
        "try:\n",
        "    # Solves for x in Ax = v\n",
        "    x = np.linalg.lstsq(mtrxA, v, rcond=None)[0]  # least square solution\n",
        "    # Check if A * x is approximately equal to v\n",
        "    is_in_range_space = np.allclose(mtrxA @ x, v)\n",
        "    print(f\"Is v in the range space of A? {is_in_range_space}\")\n",
        "except np.linalg.LinAlgError:\n",
        "    print(\"No solution exists; v is not in the range space of A.\")"
      ],
      "metadata": {
        "colab": {
          "base_uri": "https://localhost:8080/"
        },
        "id": "7Q6JBFamSK13",
        "outputId": "054eb7dd-7429-4893-e253-04a7885c39cd"
      },
      "execution_count": 12,
      "outputs": [
        {
          "output_type": "stream",
          "name": "stdout",
          "text": [
            "Random vector v:\n",
            "[0.87681177 0.51476879 0.36387197 0.44069966 0.30313874 0.59509211\n",
            " 0.56137096 0.1055619  0.23137392 0.38613815]\n",
            "\n",
            "Is v in the null space of A? False\n",
            "Is v in the range space of A? False\n"
          ]
        }
      ]
    },
    {
      "cell_type": "code",
      "source": [
        "# # Final\n",
        "\n",
        "# # Create a 10 * 10 matrix of random elements\n",
        "\n",
        "# import numpy as np\n",
        "# from scipy.linalg import null_space , ortho\n",
        "# import random\n",
        "\n",
        "# # Generating a matrix of 100 random integers less than or equal to 20\n",
        "# mtrxA = np.random.randint(low=0,high=20, size =(10,10))\n",
        "\n",
        "\n",
        "# print(f'Given Matrix:  : {mtrxA}')\n",
        "# print(type(mtrxA))\n",
        "\n",
        "# # find rank of matrix\n",
        "\n",
        "# req_rank = np.linalg.matrix_rank(mtrxA)\n",
        "# print(f'Rank of the matrix is: {req_rank}')\n",
        "# # check linear independence\n",
        "\n",
        "# if req_rank == mtrxA.shape[1]:  # number of vectors (columns)\n",
        "#     print(\"The columns are linearly independent. Thus Full Rank\")\n",
        "# else:\n",
        "#     print(\"The columns are linearly dependent.\")\n",
        "\n",
        "# null_space_mtrxA = null_space(mtrxA)\n",
        "\n",
        "# print(f'Null space of matrix A = {null_space_mtrxA}')\n"
      ],
      "metadata": {
        "colab": {
          "base_uri": "https://localhost:8080/"
        },
        "id": "ZXfkiSBphjm0",
        "outputId": "ecb9ad56-d6f8-4506-b0e9-7e9a60a63d9c"
      },
      "execution_count": 18,
      "outputs": [
        {
          "output_type": "stream",
          "name": "stdout",
          "text": [
            "Given Matrix:  : [[19  2 14  9 14 17  3  8  9 17]\n",
            " [15  6 14  5  3  4  1  7 13 14]\n",
            " [ 0 12  2 18 18  6 16  4  4 16]\n",
            " [ 8 11  1 14  8 13 15  3  2 16]\n",
            " [ 2 17  1  3  8 16 15 14 15 10]\n",
            " [ 5  7  8  2  1  0  4  8 18  3]\n",
            " [ 3 16  4 16  7 16  2 16  8 14]\n",
            " [ 8 14  7  9  3  8 18 12 15  5]\n",
            " [ 3 11 12  5  8 14 11 10 14  7]\n",
            " [11  5  2  1  2  6 16 11  0  6]]\n",
            "<class 'numpy.ndarray'>\n",
            "Rank of the matrix is: 10\n",
            "The columns are linearly independent.\n",
            "Null space of matrix A = []\n"
          ]
        }
      ]
    },
    {
      "cell_type": "markdown",
      "source": [
        " ------------------------------------------------------------------------------------------------------------------------------------------\n",
        "\n",
        " # 2nd Question\n",
        " -----------------------------------------------------------------------\n",
        "\n",
        " In this problem, we explore Linear regression by using MATLAB.\n",
        "* Generate 50 data points (xi, yi) by using the following equation\n",
        "yi = 3xi + 2 + ui , with xi is an uniformly distributed random variable between (−10, 10) and ui is a normal random variable with zero mean and unit standard deviation.\n",
        "* For the data generated in the above question solve a least square problem to fit a linear model yi = axi + b.\n",
        "\n",
        "* Find out the output yi for each training data xi by using the linear model. Then compute the\n",
        "minimum least squared error (MSE)."
      ],
      "metadata": {
        "id": "WR3QiaYJTuct"
      }
    },
    {
      "cell_type": "code",
      "source": [
        "import numpy as np\n",
        "from sklearn.linear_model import LinearRegression\n",
        "from sklearn.metrics import mean_squared_error\n",
        "\n",
        "# Step 1: Generate 50 data points\n",
        "np.random.seed(0)  # For reproducibility\n",
        "\n",
        "# Generate x values uniformly distributed between -10 and 10\n",
        "x = np.random.uniform(-10, 10, 50)\n",
        "\n",
        "print(f'Generated uniformly distributed values are:\\n {x} \\n')\n",
        "\n",
        "# Generate u values from a normal distribution with mean 0 and standard deviation 1\n",
        "u = np.random.normal(0, 1, 50)\n",
        "print(f'Generated normally distributed values are:\\n {x} \\n')\n",
        "# Calculate y using the given equation y = 3x + 2 + u\n",
        "y = 3 * x + 2 + u\n",
        "\n",
        "# Reshape x to fit the model (50, 1) because sklearn expects a 2D array for input features\n",
        "x = x.reshape(-1, 1)\n",
        "\n",
        "# Step 2: Fit a linear regression model y = ax + b\n",
        "model = LinearRegression()\n",
        "model.fit(x, y)\n",
        "\n",
        "# Extract coefficients a and b\n",
        "a = model.coef_[0]\n",
        "b = model.intercept_\n",
        "print(f\"Fitted model: y = {a:.2f}x + {b:.2f}\")  # 2 decimal places\n",
        "\n",
        "# Step 3: Predict y values using the fitted model\n",
        "y_pred = model.predict(x)\n",
        "\n",
        "# Calculate Mean Squared Error\n",
        "mse = mean_squared_error(y, y_pred)\n",
        "print(f\"Mean Squared Error (MSE): {mse:.2f}\")\n"
      ],
      "metadata": {
        "colab": {
          "base_uri": "https://localhost:8080/"
        },
        "id": "P0-U7qwrTt02",
        "outputId": "0eaa5905-aa42-4187-e20e-8f6981d8ae13"
      },
      "execution_count": 13,
      "outputs": [
        {
          "output_type": "stream",
          "name": "stdout",
          "text": [
            "Values generated are:\n",
            " [ 0.97627008  4.30378733  2.05526752  0.89766366 -1.52690401  2.91788226\n",
            " -1.24825577  7.83546002  9.27325521 -2.33116962  5.83450076  0.5778984\n",
            "  1.36089122  8.51193277 -8.57927884 -8.25741401 -9.59563205  6.65239691\n",
            "  5.56313502  7.40024296  9.57236684  5.98317128 -0.77041275  5.61058353\n",
            " -7.63451148  2.79842043 -7.13293425  8.89337834  0.43696644 -1.7067612\n",
            " -4.70888776  5.48467379 -0.87699336  1.36867898 -9.62420399  2.35270994\n",
            "  2.24191445  2.33867994  8.87496157  3.63640598 -2.80984199 -1.25936092\n",
            "  3.95262392 -8.79549057  3.33533431  3.41275739 -5.79234878 -7.42147405\n",
            " -3.69143298 -2.72578458] \n",
            "\n",
            "Fitted model: y = 2.98x + 1.84\n",
            "Mean Squared Error (MSE): 0.86\n"
          ]
        }
      ]
    }
  ]
}