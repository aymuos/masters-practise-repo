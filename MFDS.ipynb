{
  "nbformat": 4,
  "nbformat_minor": 0,
  "metadata": {
    "colab": {
      "provenance": [],
      "authorship_tag": "ABX9TyMiU3+BjYBKzH6a4Xr5AUcR",
      "include_colab_link": true
    },
    "kernelspec": {
      "name": "python3",
      "display_name": "Python 3"
    },
    "language_info": {
      "name": "python"
    }
  },
  "cells": [
    {
      "cell_type": "markdown",
      "metadata": {
        "id": "view-in-github",
        "colab_type": "text"
      },
      "source": [
        "<a href=\"https://colab.research.google.com/github/aymuos/masters-practise-repo/blob/main/MFDS.ipynb\" target=\"_parent\"><img src=\"https://colab.research.google.com/assets/colab-badge.svg\" alt=\"Open In Colab\"/></a>"
      ]
    },
    {
      "cell_type": "code",
      "execution_count": null,
      "metadata": {
        "id": "yi6CKIKTX_KN"
      },
      "outputs": [],
      "source": []
    },
    {
      "cell_type": "markdown",
      "source": [
        "**Assignment - 1 **"
      ],
      "metadata": {
        "id": "llHj4ofVY8id"
      }
    },
    {
      "cell_type": "markdown",
      "source": [
        "Q13 :\n",
        "\n",
        "In this problem, we explore four fundamental subspaces of a matrix by using the MATLAB.\n",
        "* Generate a random matrix A ∈ R\n",
        "\n",
        "10×10 using MATLAB.\n",
        "Check if the columns of A are linearly independent by determining its rank.\n",
        "* Compute the null space of A using MATLAB verify that any vector in the null space satisfies\n",
        "Av = 0.\n",
        "* Compute the range space of A using MATLAB.\n",
        "* Determine the rank of a matrix and dimension of null space of A by MATLAB. Verify rank\n",
        "nullity Theorem.\n",
        "* Generate any vector v ∈ R^10 and check if it lies in the null space or range space of A."
      ],
      "metadata": {
        "id": "0y1MOWCWY_0B"
      }
    },
    {
      "cell_type": "markdown",
      "source": [
        "- Step 1 : Creating random 10*10 matrix"
      ],
      "metadata": {
        "id": "PgHZG2pvbuwm"
      }
    },
    {
      "cell_type": "code",
      "source": [
        "# Create a 10 * 10 matrix of random elements\n",
        "\n",
        "import numpy as np\n",
        "\n",
        "import random\n",
        "\n",
        "# Generating a matrix of 100 random integers less than or equal to 20\n",
        "mtrxA = np.random.randint(low=0,high=20, size =(10,10))\n",
        "\n",
        "\n",
        "print(f'Given Matrix:  : {mtrxA}')\n",
        "print(type(mtrxA))"
      ],
      "metadata": {
        "colab": {
          "base_uri": "https://localhost:8080/"
        },
        "id": "M3vSW2LkZHBL",
        "outputId": "bc56d01d-1fb3-4c7d-9f18-05a5869e7050"
      },
      "execution_count": 14,
      "outputs": [
        {
          "output_type": "stream",
          "name": "stdout",
          "text": [
            "Given Matrix:  : [[ 6 19  1  5  5 13 19  0  4 16]\n",
            " [ 6  6 16  7 13  4 12 14  2 13]\n",
            " [ 4 18 16 11 12 18  9  8 13 11]\n",
            " [ 2 11  0  3 10 19 18 13  1  8]\n",
            " [ 7 18  6  6  2  4  7 12 12  4]\n",
            " [17  8 19  4 16 12  2  4  0 17]\n",
            " [12 19 11  8  8 10 15 13 18 17]\n",
            " [ 9  4  3  0  3 13 18 18  8  9]\n",
            " [ 5  4  7  0 11  1  1 14 14 12]\n",
            " [12  2 14  3 18  0  9 16  4  3]]\n",
            "<class 'numpy.ndarray'>\n"
          ]
        }
      ]
    },
    {
      "cell_type": "markdown",
      "source": [
        "- Step 2 : Checking if columns of a are linearly independent by checking rank\n"
      ],
      "metadata": {
        "id": "-p9V9b-ab1Bc"
      }
    },
    {
      "cell_type": "code",
      "source": [
        "# find rank of matrix\n",
        "\n",
        "req_rank = np.linalg.matrix_rank(mtrxA)\n",
        "print(f'Rank of the matrix is: {req_rank}')"
      ],
      "metadata": {
        "colab": {
          "base_uri": "https://localhost:8080/"
        },
        "id": "gISVNYSNcABC",
        "outputId": "78780fe1-12f3-4d7a-ff5e-770e24be9725"
      },
      "execution_count": 15,
      "outputs": [
        {
          "output_type": "stream",
          "name": "stdout",
          "text": [
            "Rank of the matrix is: 10\n"
          ]
        }
      ]
    },
    {
      "cell_type": "markdown",
      "source": [
        "- Step 3 : Check for linear dependence"
      ],
      "metadata": {
        "id": "wTOnaSkjfL6u"
      }
    },
    {
      "cell_type": "code",
      "source": [
        "# check linear independence\n",
        "\n",
        "if req_rank == mtrxA.shape[1]:  # number of vectors (columns)\n",
        "    print(\"The columns are linearly independent.\")\n",
        "else:\n",
        "    print(\"The columns are linearly dependent.\")"
      ],
      "metadata": {
        "colab": {
          "base_uri": "https://localhost:8080/"
        },
        "id": "lJeLACgLfQXU",
        "outputId": "53526638-8e10-4278-9c43-af7f835a40ed"
      },
      "execution_count": 16,
      "outputs": [
        {
          "output_type": "stream",
          "name": "stdout",
          "text": [
            "The columns are linearly independent.\n"
          ]
        }
      ]
    },
    {
      "cell_type": "markdown",
      "source": [
        " - Step 4 :  Find linear independence"
      ],
      "metadata": {
        "id": "JgzEETNXg378"
      }
    },
    {
      "cell_type": "code",
      "source": [
        "from scipy.linalg import null_space\n",
        "\n",
        "null_space_mtrxA = null_space(mtrxA)\n",
        "\n",
        "print(f'Null space of matrix A = {null_space_mtrxA}')"
      ],
      "metadata": {
        "colab": {
          "base_uri": "https://localhost:8080/"
        },
        "id": "vUJfi9Opg7lo",
        "outputId": "64ea2a00-635e-4a7d-90f5-ad1238d9bbc4"
      },
      "execution_count": 17,
      "outputs": [
        {
          "output_type": "stream",
          "name": "stdout",
          "text": [
            "Null space of matrix A = []\n"
          ]
        }
      ]
    },
    {
      "cell_type": "code",
      "source": [
        "# Final\n",
        "\n",
        "# Create a 10 * 10 matrix of random elements\n",
        "\n",
        "import numpy as np\n",
        "from scipy.linalg import null_space\n",
        "import random\n",
        "\n",
        "# Generating a matrix of 100 random integers less than or equal to 20\n",
        "mtrxA = np.random.randint(low=0,high=20, size =(10,10))\n",
        "\n",
        "\n",
        "print(f'Given Matrix:  : {mtrxA}')\n",
        "print(type(mtrxA))\n",
        "\n",
        "# find rank of matrix\n",
        "\n",
        "req_rank = np.linalg.matrix_rank(mtrxA)\n",
        "print(f'Rank of the matrix is: {req_rank}')\n",
        "# check linear independence\n",
        "\n",
        "if req_rank == mtrxA.shape[1]:  # number of vectors (columns)\n",
        "    print(\"The columns are linearly independent. Thus Full Rank\")\n",
        "else:\n",
        "    print(\"The columns are linearly dependent.\")\n",
        "\n",
        "null_space_mtrxA = null_space(mtrxA)\n",
        "\n",
        "print(f'Null space of matrix A = {null_space_mtrxA}')\n"
      ],
      "metadata": {
        "colab": {
          "base_uri": "https://localhost:8080/"
        },
        "id": "ZXfkiSBphjm0",
        "outputId": "ecb9ad56-d6f8-4506-b0e9-7e9a60a63d9c"
      },
      "execution_count": 18,
      "outputs": [
        {
          "output_type": "stream",
          "name": "stdout",
          "text": [
            "Given Matrix:  : [[19  2 14  9 14 17  3  8  9 17]\n",
            " [15  6 14  5  3  4  1  7 13 14]\n",
            " [ 0 12  2 18 18  6 16  4  4 16]\n",
            " [ 8 11  1 14  8 13 15  3  2 16]\n",
            " [ 2 17  1  3  8 16 15 14 15 10]\n",
            " [ 5  7  8  2  1  0  4  8 18  3]\n",
            " [ 3 16  4 16  7 16  2 16  8 14]\n",
            " [ 8 14  7  9  3  8 18 12 15  5]\n",
            " [ 3 11 12  5  8 14 11 10 14  7]\n",
            " [11  5  2  1  2  6 16 11  0  6]]\n",
            "<class 'numpy.ndarray'>\n",
            "Rank of the matrix is: 10\n",
            "The columns are linearly independent.\n",
            "Null space of matrix A = []\n"
          ]
        }
      ]
    }
  ]
}