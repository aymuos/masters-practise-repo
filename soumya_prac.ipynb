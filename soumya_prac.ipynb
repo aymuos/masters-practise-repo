{
  "nbformat": 4,
  "nbformat_minor": 0,
  "metadata": {
    "colab": {
      "provenance": [],
      "authorship_tag": "ABX9TyPEiffc/rolKTaaAEusJ8WZ",
      "include_colab_link": true
    },
    "kernelspec": {
      "name": "python3",
      "display_name": "Python 3"
    },
    "language_info": {
      "name": "python"
    }
  },
  "cells": [
    {
      "cell_type": "markdown",
      "metadata": {
        "id": "view-in-github",
        "colab_type": "text"
      },
      "source": [
        "<a href=\"https://colab.research.google.com/github/aymuos/masters-practise-repo/blob/main/soumya_prac.ipynb\" target=\"_parent\"><img src=\"https://colab.research.google.com/assets/colab-badge.svg\" alt=\"Open In Colab\"/></a>"
      ]
    },
    {
      "cell_type": "code",
      "execution_count": null,
      "metadata": {
        "colab": {
          "base_uri": "https://localhost:8080/"
        },
        "id": "owxnmjYG7Nhs",
        "outputId": "9e2dd0e8-64a9-4b7c-fdcc-de543bdf65ff"
      },
      "outputs": [
        {
          "output_type": "stream",
          "name": "stdout",
          "text": [
            "Requirement already satisfied: numpy in /usr/local/lib/python3.10/dist-packages (1.26.4)\n"
          ]
        }
      ],
      "source": [
        "!pip install numpy\n"
      ]
    },
    {
      "cell_type": "markdown",
      "source": [
        "All of the practise materials are taken from : https://python-course.eu/numerical-programming/introduction-to-numpy.php\n"
      ],
      "metadata": {
        "id": "imXWtLzzjckO"
      }
    },
    {
      "cell_type": "markdown",
      "source": [
        "Basic numpy"
      ],
      "metadata": {
        "id": "B1flDBlkl4Wy"
      }
    },
    {
      "cell_type": "code",
      "source": [
        "import numpy as np\n",
        "\n",
        "temp_list = [20.1, 20.8, 21.9, 22.5, 22.7, 22.3, 21.8, 21.2, 20.9, 20.1]\n",
        "\n",
        "# turn into 1D numpy array\n",
        "\n",
        "t_numpy = np.array(temp_list)\n",
        "\n",
        "print(t_numpy)\n",
        "\n",
        "print(type(t_numpy))\n",
        "\n",
        "print(t_numpy * 9 / 5 + 32)"
      ],
      "metadata": {
        "colab": {
          "base_uri": "https://localhost:8080/"
        },
        "id": "jVmsZ9vLjbWS",
        "outputId": "5db64229-93ea-4800-9824-090cb9b6fadb"
      },
      "execution_count": 3,
      "outputs": [
        {
          "output_type": "stream",
          "name": "stdout",
          "text": [
            "[20.1 20.8 21.9 22.5 22.7 22.3 21.8 21.2 20.9 20.1]\n",
            "<class 'numpy.ndarray'>\n",
            "[68.18 69.44 71.42 72.5  72.86 72.14 71.24 70.16 69.62 68.18]\n"
          ]
        }
      ]
    },
    {
      "cell_type": "markdown",
      "source": [],
      "metadata": {
        "id": "YnvJ6hdDjky8"
      }
    }
  ]
}