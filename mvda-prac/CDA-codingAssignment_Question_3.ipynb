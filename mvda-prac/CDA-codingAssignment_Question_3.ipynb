{
  "nbformat": 4,
  "nbformat_minor": 0,
  "metadata": {
    "colab": {
      "provenance": []
    },
    "kernelspec": {
      "name": "python3",
      "display_name": "Python 3"
    },
    "language_info": {
      "name": "python"
    }
  },
  "cells": [
    {
      "cell_type": "markdown",
      "source": [
        "# Instructions for Assignment 2 Question 3 : PCR Problem Using Kernel PCA\n",
        "\n",
        "## Notebook Organization:\n",
        "1. **Structure:** Ensure the notebook is well-structured and modular.\n",
        "2. **Library Imports:** Include all necessary library imports at the beginning of the notebook.\n",
        "3. **Helper Functions:** Define any helper functions or intermediate steps in earlier cells in a clear and logical sequence.\n",
        "4. **Final Function:** Write the final function, `test_kernel_pcr(poly_kernel_deg, num_of_PC)`, in the last cell of the notebook.\n",
        "   - This function should calculate the RMSE for the given polynomial kernel degree and a specific number of principal components provided in the dataset : `PCR-Data.pickle`.\n",
        "   - It should return a tuple: `(poly_kernel_deg, num_of_PC, RMSE)`.\n",
        "\n",
        "---\n",
        "\n",
        "## **Function Implementation:**\n",
        "In the last cell, include the following function:\n",
        "\n",
        "```python\n",
        "def test_kernel_pcr(poly_kernel_deg=10, num_of_PC=2):\n",
        "    \"\"\"\n",
        "    Write your implementation inside this function.\n",
        "\n",
        "    Goal:\n",
        "    - Calculate the RMSE when using a specific number of principal components\n",
        "      for the given polynomial kernel degree in PCR.\n",
        "\n",
        "    Return:\n",
        "    - A tuple (poly_kernel_deg, num_of_PC, RMSE), where RMSE is the calculated floating-point value.\n",
        "    \"\"\"\n",
        "    # YOUR IMPLEMENTATION HERE\n",
        "    return poly_kernel_deg, num_of_PC, RMSE\n",
        "```\n",
        "\n",
        "---\n",
        "\n",
        "## **Testing and Expected Output:**\n",
        "Use the following example to test your function:\n",
        "\n",
        "```python\n",
        "poly_kernel_deg, num_of_PC, RMSE = test_kernel_pcr(poly_kernel_deg=10, num_of_PC=2)\n",
        "```\n",
        "\n",
        "For the given test case:\n",
        "- **Expected Output:**\n",
        "  - `poly_kernel_deg = 10`\n",
        "  - `num_of_PC = 2`\n",
        "  - `RMSE = 1445`\n",
        "\n",
        "## **Submission Guidelines:**\n",
        "1. Ensure your notebook is clean, with proper formatting, clear comments, and well-documented code.\n",
        "2. Verify your function’s output matches the expected format and values for the given test case before submission.\n",
        "3. Remove any extraneous code or debugging prints.\n",
        "4. Upload the completed notebook file to the designated submission portal.\n",
        "```\n"
      ],
      "metadata": {
        "id": "4XqRWtxzmkky"
      }
    },
    {
      "cell_type": "code",
      "source": [
        "import pickle\n",
        "import numpy as np\n",
        "from sklearn.model_selection import train_test_split\n",
        "from sklearn.linear_model import LinearRegression\n",
        "from sklearn.metrics import mean_squared_error\n",
        "from sklearn.preprocessing import PolynomialFeatures\n",
        "from sklearn.decomposition import KernelPCA\n",
        "from sklearn.preprocessing import StandardScaler\n",
        "import math"
      ],
      "metadata": {
        "id": "0YNPd1kWliuX"
      },
      "execution_count": 1,
      "outputs": []
    },
    {
      "cell_type": "code",
      "source": [
        "def test_kernel_pcr(poly_kernel_deg=10, num_of_PC=2):\n",
        "\n",
        "    # Load the data from the pickle file\n",
        "    with open('PCR-Data.pickle', 'rb') as f:\n",
        "      data = pickle.load(f)\n",
        "\n",
        "    # split data squentially\n",
        "    X_train, X_test, y_train, y_test = train_test_split(data['X'], data['Y'], train_size=0.7, shuffle=False)\n",
        "\n",
        "    # scale data\n",
        "    scaler = StandardScaler()\n",
        "    x_train_scaled = scaler.fit_transform(X_train)\n",
        "    x_test_scaled =  scaler.transform(X_test)\n",
        "\n",
        "    # apply poly kernel\n",
        "    kpca = KernelPCA(kernel='poly', degree=poly_kernel_deg, n_components=num_of_PC)\n",
        "    x_train_kpca = kpca.fit_transform(x_train_scaled)\n",
        "    x_test_kpca = kpca.transform(x_test_scaled)\n",
        "\n",
        "    # Perform Regression\n",
        "    reg = LinearRegression()\n",
        "    reg.fit(x_train_kpca,y_train)\n",
        "    y_pred = reg.predict(x_test_kpca)\n",
        "\n",
        "    # calculate RMSE\n",
        "    RMSE = math.sqrt(mean_squared_error(y_test,y_pred))\n",
        "\n",
        "    return (poly_kernel_deg, num_of_PC, RMSE)"
      ],
      "metadata": {
        "id": "CGsUhAFsh72E"
      },
      "execution_count": 18,
      "outputs": []
    },
    {
      "cell_type": "code",
      "source": [
        "poly_kernel_deg, num_of_PC, RMSE = test_kernel_pcr(poly_kernel_deg=10, num_of_PC=2)\n",
        "print(poly_kernel_deg, num_of_PC, RMSE )"
      ],
      "metadata": {
        "id": "HqPYdLC6h9-I",
        "colab": {
          "base_uri": "https://localhost:8080/"
        },
        "outputId": "d53ed54e-49cd-43f2-d608-90b1f2bf93c8"
      },
      "execution_count": 19,
      "outputs": [
        {
          "output_type": "stream",
          "name": "stdout",
          "text": [
            "10 2 15.594674990622845\n"
          ]
        }
      ]
    }
  ]
}