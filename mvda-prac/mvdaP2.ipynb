{
  "cells": [
    {
      "cell_type": "markdown",
      "metadata": {
        "colab_type": "text",
        "id": "view-in-github"
      },
      "source": [
        "<a href=\"https://colab.research.google.com/github/aymuos/masters-practise-repo/blob/main/mvdaP2.ipynb\" target=\"_parent\"><img src=\"https://colab.research.google.com/assets/colab-badge.svg\" alt=\"Open In Colab\"/></a>"
      ]
    },
    {
      "cell_type": "code",
      "execution_count": null,
      "metadata": {
        "id": "kiAs4bkXc387"
      },
      "outputs": [],
      "source": [
        "Q . A textile designer sets product prices based on factors such as quality and design. Using Total Least Squares (TLS) regression, analyze the relationship between quality, color, and price using the data provided in the file textile data.csv\n",
        "\n",
        "Use TLS method to find the regression coefficients in the form of Price = β2× Color + β1× Quality +β0\n",
        "\n",
        "The value of  β2 is \n"
      ]
    },
    {
      "cell_type": "markdown",
      "metadata": {},
      "source": []
    }
  ],
  "metadata": {
    "colab": {
      "authorship_tag": "ABX9TyOYX/Qe5IaqGt1O69NcPsSI",
      "include_colab_link": true,
      "provenance": []
    },
    "kernelspec": {
      "display_name": "Python 3",
      "name": "python3"
    },
    "language_info": {
      "name": "python"
    }
  },
  "nbformat": 4,
  "nbformat_minor": 0
}
