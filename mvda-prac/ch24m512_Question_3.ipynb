{
  "cells": [
    {
      "cell_type": "markdown",
      "metadata": {
        "id": "4XqRWtxzmkky"
      },
      "source": [
        "# Instructions for Assignment 2 Question 3 : PCR Problem Using Kernel PCA\n",
        "\n",
        "## Notebook Organization:\n",
        "1. **Structure:** Ensure the notebook is well-structured and modular.\n",
        "2. **Library Imports:** Include all necessary library imports at the beginning of the notebook.\n",
        "3. **Helper Functions:** Define any helper functions or intermediate steps in earlier cells in a clear and logical sequence.\n",
        "4. **Final Function:** Write the final function, `test_kernel_pcr(poly_kernel_deg, num_of_PC)`, in the last cell of the notebook.\n",
        "   - This function should calculate the RMSE for the given polynomial kernel degree and a specific number of principal components provided in the dataset : `PCR-Data.pickle`.\n",
        "   - It should return a tuple: `(poly_kernel_deg, num_of_PC, RMSE)`.\n",
        "\n",
        "---\n",
        "\n",
        "## **Function Implementation:**\n",
        "In the last cell, include the following function:\n",
        "\n",
        "```python\n",
        "def test_kernel_pcr(poly_kernel_deg=10, num_of_PC=2):\n",
        "    \"\"\"\n",
        "    Write your implementation inside this function.\n",
        "\n",
        "    Goal:\n",
        "    - Calculate the RMSE when using a specific number of principal components\n",
        "      for the given polynomial kernel degree in PCR.\n",
        "\n",
        "    Return:\n",
        "    - A tuple (poly_kernel_deg, num_of_PC, RMSE), where RMSE is the calculated floating-point value.\n",
        "    \"\"\"\n",
        "    # YOUR IMPLEMENTATION HERE\n",
        "    return poly_kernel_deg, num_of_PC, RMSE\n",
        "```\n",
        "\n",
        "---\n",
        "\n",
        "## **Testing and Expected Output:**\n",
        "Use the following example to test your function:\n",
        "\n",
        "```python\n",
        "poly_kernel_deg, num_of_PC, RMSE = test_kernel_pcr(poly_kernel_deg=10, num_of_PC=2)\n",
        "```\n",
        "\n",
        "For the given test case:\n",
        "- **Expected Output:**\n",
        "  - `poly_kernel_deg = 10`\n",
        "  - `num_of_PC = 2`\n",
        "  - `RMSE = 1445`\n",
        "\n",
        "## **Submission Guidelines:**\n",
        "1. Ensure your notebook is clean, with proper formatting, clear comments, and well-documented code.\n",
        "2. Verify your function’s output matches the expected format and values for the given test case before submission.\n",
        "3. Remove any extraneous code or debugging prints.\n",
        "4. Upload the completed notebook file to the designated submission portal.\n",
        "```\n"
      ]
    },
    {
      "cell_type": "code",
      "execution_count": 1,
      "metadata": {
        "id": "0YNPd1kWliuX"
      },
      "outputs": [],
      "source": [
        "import pickle\n",
        "import numpy as np\n",
        "from sklearn.preprocessing import StandardScaler\n",
        "from sklearn.decomposition import KernelPCA\n",
        "from sklearn.linear_model import LinearRegression\n",
        "from sklearn.metrics import mean_squared_error"
      ]
    },
    {
      "cell_type": "code",
      "execution_count": 15,
      "metadata": {
        "colab": {
          "base_uri": "https://localhost:8080/"
        },
        "id": "5gQxIHs-_6F2",
        "outputId": "14d4ee68-19ef-458f-f15c-2f1acbe8122e"
      },
      "outputs": [
        {
          "name": "stdout",
          "output_type": "stream",
          "text": [
            "poly_kernel_deg = 10\n",
            "num_of_PC = 2\n",
            "RMSE = 15.594674990622877\n"
          ]
        }
      ],
      "source": [
        "poly_kernel_deg, num_of_PC, RMSE = test_kernel_pcr(poly_kernel_deg=10, num_of_PC=2)\n",
        "print(f\"poly_kernel_deg = {poly_kernel_deg}\")\n",
        "print(f\"num_of_PC = {num_of_PC}\")\n",
        "print(f\"RMSE = {RMSE}\")\n"
      ]
    },
    {
      "cell_type": "code",
      "execution_count": 13,
      "metadata": {
        "id": "v2F8I-YtTQnk"
      },
      "outputs": [],
      "source": [
        "with open('/content/PCR-Data.pickle', 'rb') as f:\n",
        "      data = pickle.load(f)\n",
        "\n",
        "#Reading Data from pickle file\n",
        "X = data['X']\n",
        "Y = data['Y']\n",
        "\n",
        "#Spliting dataset into train and test\n",
        "train_size = int(len(X) *0.7)\n",
        "X_train, X_test = X[:train_size,:],X[train_size:,:]\n",
        "Y_train, Y_test = Y[:train_size,:],Y[train_size:,:]\n",
        "\n",
        "#Scaling independent varable using standard scaler\n",
        "std_scaler = StandardScaler()\n",
        "std_scaler.fit(X_train)\n",
        "\n",
        "X_train_scaled = std_scaler.transform(X_train)\n",
        "X_test_scaled = std_scaler.transform(X_test)"
      ]
    },
    {
      "cell_type": "code",
      "execution_count": 14,
      "metadata": {
        "id": "EiIyvn95_NIt"
      },
      "outputs": [],
      "source": [
        "def test_kernel_pcr(poly_kernel_deg=10, num_of_PC=2):\n",
        "    \"\"\"\n",
        "    Write your implementation inside this function.\n",
        "\n",
        "    Goal:\n",
        "    - Calculate the RMSE when using a specific number of principal components\n",
        "      for the given polynomial kernel degree in PCR.\n",
        "\n",
        "    Return:\n",
        "    - A tuple (poly_kernel_deg, num_of_PC, RMSE), where RMSE is the calculated floating-point value.\n",
        "    \"\"\"\n",
        "    # YOUR IMPLEMENTATION HERE\n",
        "\n",
        "    #Training and transforming data using Kernal PCA\n",
        "    kpca = KernelPCA(kernel='poly',degree=poly_kernel_deg,n_components=None)\n",
        "    X_train_kpca = kpca.fit_transform(X_train_scaled)\n",
        "    X_test_kpca = kpca.transform(X_test_scaled)\n",
        "\n",
        "    X_train_transformed = X_train_kpca[:, :num_of_PC]\n",
        "    X_test_transformed = X_test_kpca[:, :num_of_PC]\n",
        "\n",
        "    #Using Linear Regression to get predicted values of test set\n",
        "    model = LinearRegression()\n",
        "    model.fit(X_train_transformed,Y_train)\n",
        "    y_pred = model.predict(X_test_transformed)\n",
        "\n",
        "    rmse = np.sqrt(mean_squared_error(Y_test, y_pred))\n",
        "\n",
        "    return poly_kernel_deg, num_of_PC, rmse"
      ]
    },
    {
      "cell_type": "code",
      "execution_count": null,
      "metadata": {
        "id": "kEVUQzqV_jxM"
      },
      "outputs": [],
      "source": []
    }
  ],
  "metadata": {
    "colab": {
      "provenance": []
    },
    "kernelspec": {
      "display_name": ".venv",
      "language": "python",
      "name": "python3"
    },
    "language_info": {
      "codemirror_mode": {
        "name": "ipython",
        "version": 3
      },
      "file_extension": ".py",
      "mimetype": "text/x-python",
      "name": "python",
      "nbconvert_exporter": "python",
      "pygments_lexer": "ipython3",
      "version": "3.12.0"
    }
  },
  "nbformat": 4,
  "nbformat_minor": 0
}
