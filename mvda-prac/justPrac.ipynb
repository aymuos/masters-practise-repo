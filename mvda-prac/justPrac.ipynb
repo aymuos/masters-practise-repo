{
 "cells": [
  {
   "cell_type": "code",
   "execution_count": 1,
   "metadata": {},
   "outputs": [
    {
     "name": "stdout",
     "output_type": "stream",
     "text": [
      "Collecting seaborn\n",
      "  Downloading seaborn-0.13.2-py3-none-any.whl.metadata (5.4 kB)\n",
      "Collecting pandas\n",
      "  Downloading pandas-2.2.3-cp312-cp312-win_amd64.whl.metadata (19 kB)\n",
      "Collecting numpy!=1.24.0,>=1.20 (from seaborn)\n",
      "  Downloading numpy-2.2.1-cp312-cp312-win_amd64.whl.metadata (60 kB)\n",
      "Collecting matplotlib!=3.6.1,>=3.4 (from seaborn)\n",
      "  Downloading matplotlib-3.10.0-cp312-cp312-win_amd64.whl.metadata (11 kB)\n",
      "Requirement already satisfied: python-dateutil>=2.8.2 in d:\\documents\\github\\masters-practise-repo\\.venv\\lib\\site-packages (from pandas) (2.9.0.post0)\n",
      "Collecting pytz>=2020.1 (from pandas)\n",
      "  Downloading pytz-2024.2-py2.py3-none-any.whl.metadata (22 kB)\n",
      "Collecting tzdata>=2022.7 (from pandas)\n",
      "  Downloading tzdata-2024.2-py2.py3-none-any.whl.metadata (1.4 kB)\n",
      "Collecting contourpy>=1.0.1 (from matplotlib!=3.6.1,>=3.4->seaborn)\n",
      "  Downloading contourpy-1.3.1-cp312-cp312-win_amd64.whl.metadata (5.4 kB)\n",
      "Collecting cycler>=0.10 (from matplotlib!=3.6.1,>=3.4->seaborn)\n",
      "  Downloading cycler-0.12.1-py3-none-any.whl.metadata (3.8 kB)\n",
      "Collecting fonttools>=4.22.0 (from matplotlib!=3.6.1,>=3.4->seaborn)\n",
      "  Downloading fonttools-4.55.3-cp312-cp312-win_amd64.whl.metadata (168 kB)\n",
      "Collecting kiwisolver>=1.3.1 (from matplotlib!=3.6.1,>=3.4->seaborn)\n",
      "  Downloading kiwisolver-1.4.8-cp312-cp312-win_amd64.whl.metadata (6.3 kB)\n",
      "Requirement already satisfied: packaging>=20.0 in d:\\documents\\github\\masters-practise-repo\\.venv\\lib\\site-packages (from matplotlib!=3.6.1,>=3.4->seaborn) (24.2)\n",
      "Collecting pillow>=8 (from matplotlib!=3.6.1,>=3.4->seaborn)\n",
      "  Downloading pillow-11.0.0-cp312-cp312-win_amd64.whl.metadata (9.3 kB)\n",
      "Collecting pyparsing>=2.3.1 (from matplotlib!=3.6.1,>=3.4->seaborn)\n",
      "  Downloading pyparsing-3.2.1-py3-none-any.whl.metadata (5.0 kB)\n",
      "Requirement already satisfied: six>=1.5 in d:\\documents\\github\\masters-practise-repo\\.venv\\lib\\site-packages (from python-dateutil>=2.8.2->pandas) (1.17.0)\n",
      "Downloading seaborn-0.13.2-py3-none-any.whl (294 kB)\n",
      "Downloading pandas-2.2.3-cp312-cp312-win_amd64.whl (11.5 MB)\n",
      "   ---------------------------------------- 0.0/11.5 MB ? eta -:--:--\n",
      "   -------- ------------------------------- 2.4/11.5 MB 12.2 MB/s eta 0:00:01\n",
      "   ----------------- ---------------------- 5.0/11.5 MB 11.6 MB/s eta 0:00:01\n",
      "   ------------------------- -------------- 7.3/11.5 MB 11.9 MB/s eta 0:00:01\n",
      "   ---------------------------------- ----- 10.0/11.5 MB 11.7 MB/s eta 0:00:01\n",
      "   ---------------------------------------- 11.5/11.5 MB 11.6 MB/s eta 0:00:00\n",
      "Downloading matplotlib-3.10.0-cp312-cp312-win_amd64.whl (8.0 MB)\n",
      "   ---------------------------------------- 0.0/8.0 MB ? eta -:--:--\n",
      "   ----------- ---------------------------- 2.4/8.0 MB 11.2 MB/s eta 0:00:01\n",
      "   ----------------------- ---------------- 4.7/8.0 MB 11.4 MB/s eta 0:00:01\n",
      "   ------------------------------------ --- 7.3/8.0 MB 11.6 MB/s eta 0:00:01\n",
      "   ---------------------------------------- 8.0/8.0 MB 10.6 MB/s eta 0:00:00\n",
      "Downloading numpy-2.2.1-cp312-cp312-win_amd64.whl (12.6 MB)\n",
      "   ---------------------------------------- 0.0/12.6 MB ? eta -:--:--\n",
      "   ------- -------------------------------- 2.4/12.6 MB 11.2 MB/s eta 0:00:01\n",
      "   -------------- ------------------------- 4.7/12.6 MB 11.0 MB/s eta 0:00:01\n",
      "   ---------------------- ----------------- 7.1/12.6 MB 11.5 MB/s eta 0:00:01\n",
      "   ------------------------------ --------- 9.7/12.6 MB 11.4 MB/s eta 0:00:01\n",
      "   ------------------------------------- -- 11.8/12.6 MB 11.2 MB/s eta 0:00:01\n",
      "   ---------------------------------------- 12.6/12.6 MB 10.5 MB/s eta 0:00:00\n",
      "Downloading pytz-2024.2-py2.py3-none-any.whl (508 kB)\n",
      "Downloading tzdata-2024.2-py2.py3-none-any.whl (346 kB)\n",
      "Downloading contourpy-1.3.1-cp312-cp312-win_amd64.whl (220 kB)\n",
      "Downloading cycler-0.12.1-py3-none-any.whl (8.3 kB)\n",
      "Downloading fonttools-4.55.3-cp312-cp312-win_amd64.whl (2.2 MB)\n",
      "   ---------------------------------------- 0.0/2.2 MB ? eta -:--:--\n",
      "   ------------------------------------- -- 2.1/2.2 MB 9.0 MB/s eta 0:00:01\n",
      "   ---------------------------------------- 2.2/2.2 MB 8.9 MB/s eta 0:00:00\n",
      "Downloading kiwisolver-1.4.8-cp312-cp312-win_amd64.whl (71 kB)\n",
      "Downloading pillow-11.0.0-cp312-cp312-win_amd64.whl (2.6 MB)\n",
      "   ---------------------------------------- 0.0/2.6 MB ? eta -:--:--\n",
      "   ------------------------------------ --- 2.4/2.6 MB 12.2 MB/s eta 0:00:01\n",
      "   ---------------------------------------- 2.6/2.6 MB 11.4 MB/s eta 0:00:00\n",
      "Downloading pyparsing-3.2.1-py3-none-any.whl (107 kB)\n",
      "Installing collected packages: pytz, tzdata, pyparsing, pillow, numpy, kiwisolver, fonttools, cycler, pandas, contourpy, matplotlib, seaborn\n",
      "Successfully installed contourpy-1.3.1 cycler-0.12.1 fonttools-4.55.3 kiwisolver-1.4.8 matplotlib-3.10.0 numpy-2.2.1 pandas-2.2.3 pillow-11.0.0 pyparsing-3.2.1 pytz-2024.2 seaborn-0.13.2 tzdata-2024.2\n"
     ]
    }
   ],
   "source": [
    "!pip install seaborn pandas seaborn"
   ]
  },
  {
   "cell_type": "code",
   "execution_count": 7,
   "metadata": {},
   "outputs": [],
   "source": [
    "import seaborn as sns \n",
    "import pandas as pd \n",
    "import matplotlib.pyplot as plt\n",
    "import numpy as np\n",
    "\n"
   ]
  },
  {
   "cell_type": "markdown",
   "metadata": {},
   "source": [
    "Loading iris dataset"
   ]
  },
  {
   "cell_type": "code",
   "execution_count": 4,
   "metadata": {},
   "outputs": [
    {
     "name": "stdout",
     "output_type": "stream",
     "text": [
      "     sepal_length  sepal_width  petal_length  petal_width    species\n",
      "0             5.1          3.5           1.4          0.2     setosa\n",
      "1             4.9          3.0           1.4          0.2     setosa\n",
      "2             4.7          3.2           1.3          0.2     setosa\n",
      "3             4.6          3.1           1.5          0.2     setosa\n",
      "4             5.0          3.6           1.4          0.2     setosa\n",
      "..            ...          ...           ...          ...        ...\n",
      "145           6.7          3.0           5.2          2.3  virginica\n",
      "146           6.3          2.5           5.0          1.9  virginica\n",
      "147           6.5          3.0           5.2          2.0  virginica\n",
      "148           6.2          3.4           5.4          2.3  virginica\n",
      "149           5.9          3.0           5.1          1.8  virginica\n",
      "\n",
      "[150 rows x 5 columns]\n"
     ]
    }
   ],
   "source": [
    "data = sns.load_dataset(\"iris\")\n",
    "\n",
    "print(data)"
   ]
  },
  {
   "cell_type": "markdown",
   "metadata": {},
   "source": [
    "Removing things"
   ]
  },
  {
   "cell_type": "code",
   "execution_count": 10,
   "metadata": {},
   "outputs": [
    {
     "name": "stdout",
     "output_type": "stream",
     "text": [
      "     sepal_length  sepal_width  petal_length  petal_width\n",
      "0             5.1          3.5           1.4          0.2\n",
      "1             4.9          3.0           1.4          0.2\n",
      "2             4.7          3.2           1.3          0.2\n",
      "3             4.6          3.1           1.5          0.2\n",
      "4             5.0          3.6           1.4          0.2\n",
      "..            ...          ...           ...          ...\n",
      "145           6.7          3.0           5.2          2.3\n",
      "146           6.3          2.5           5.0          1.9\n",
      "147           6.5          3.0           5.2          2.0\n",
      "148           6.2          3.4           5.4          2.3\n",
      "149           5.9          3.0           5.1          1.8\n",
      "\n",
      "[150 rows x 4 columns]\n"
     ]
    },
    {
     "data": {
      "text/plain": [
       "sepal_length    5.843333\n",
       "sepal_width     3.057333\n",
       "petal_length    3.758000\n",
       "petal_width     1.199333\n",
       "dtype: float64"
      ]
     },
     "execution_count": 10,
     "metadata": {},
     "output_type": "execute_result"
    }
   ],
   "source": [
    "d = data.drop('species',axis=1)\n",
    "\n",
    "# axis = 1 drops columns , 0 drops rows\n",
    "\n",
    "print(d)\n",
    "\n",
    "np.mean(d,axis=0)\n",
    "\n",
    "# since i want to have mean of each column I do axis = 0 . If i want mean of a row , i need to do axis = 1 \n"
   ]
  },
  {
   "cell_type": "code",
   "execution_count": 11,
   "metadata": {},
   "outputs": [
    {
     "data": {
      "text/plain": [
       "<bound method DataFrame.cov of      sepal_length  sepal_width  petal_length  petal_width\n",
       "0             5.1          3.5           1.4          0.2\n",
       "1             4.9          3.0           1.4          0.2\n",
       "2             4.7          3.2           1.3          0.2\n",
       "3             4.6          3.1           1.5          0.2\n",
       "4             5.0          3.6           1.4          0.2\n",
       "..            ...          ...           ...          ...\n",
       "145           6.7          3.0           5.2          2.3\n",
       "146           6.3          2.5           5.0          1.9\n",
       "147           6.5          3.0           5.2          2.0\n",
       "148           6.2          3.4           5.4          2.3\n",
       "149           5.9          3.0           5.1          1.8\n",
       "\n",
       "[150 rows x 4 columns]>"
      ]
     },
     "execution_count": 11,
     "metadata": {},
     "output_type": "execute_result"
    }
   ],
   "source": [
    "# finding covariance matrix \n",
    "\n",
    "d.cov"
   ]
  },
  {
   "cell_type": "code",
   "execution_count": 14,
   "metadata": {},
   "outputs": [
    {
     "name": "stdout",
     "output_type": "stream",
     "text": [
      "[np.float64(-0.32904888888888895), np.float64(0.054084444444444775), np.float64(-0.1631155555555554), np.float64(-0.0530488888888886), np.float64(-0.4576488888888889), np.float64(-0.37358222222222204), np.float64(-0.4260488888888886), np.float64(-0.288982222222222), np.float64(0.2270844444444451), np.float64(-0.04024888888888865), np.float64(-0.2849155555555555), np.float64(-0.3575155555555553), np.float64(0.05981777777777817), np.float64(0.08848444444444502), np.float64(-0.0408488888888894), np.float64(-0.19244888888888917), np.float64(-0.37358222222222204), np.float64(-0.32904888888888895), np.float64(-0.10644888888888897), np.float64(-0.552048888888889), np.float64(-0.15191555555555536), np.float64(-0.4777155555555559), np.float64(-0.6747155555555556), np.float64(-0.180382222222222), np.float64(-0.3575155555555553), np.float64(0.04835111111111143), np.float64(-0.288982222222222), np.float64(-0.2847822222222221), np.float64(-0.22044888888888867), np.float64(-0.1631155555555554), np.float64(-0.04451555555555531), np.float64(-0.15191555555555536), np.float64(-0.670782222222222), np.float64(-0.3923155555555559), np.float64(-0.04024888888888865), np.float64(-0.12031555555555547), np.float64(-0.15198222222222227), np.float64(-0.5119155555555553), np.float64(0.08275111111111161), np.float64(-0.2547155555555555), np.float64(-0.37331555555555546), np.float64(1.0173511111111122), np.float64(-0.20591555555555532), np.float64(-0.37331555555555546), np.float64(-0.552048888888889), np.float64(0.05981777777777817), np.float64(-0.552048888888889), np.float64(-0.1773822222222221), np.float64(-0.3491822222222225), np.float64(-0.20464888888888855), np.float64(0.16501777777777754), np.float64(0.07941777777777768), np.float64(0.04508444444444417), np.float64(0.26001777777777824), np.float64(-0.16898222222222248), np.float64(0.036884444444444574), np.float64(0.1108177777777774), np.float64(0.6200844444444449), np.float64(-0.1190488888888891), np.float64(0.2298844444444446), np.float64(0.8916844444444452), np.float64(-0.003248888888888907), np.float64(-0.13431555555555524), np.float64(-0.040382222222222215), np.float64(0.03828444444444467), np.float64(0.03655111111111088), np.float64(0.013951111111111237), np.float64(0.015484444444444651), np.float64(-0.3057822222222221), np.float64(0.13561777777777828), np.float64(0.008084444444444432), np.float64(-0.06604888888888884), np.float64(-0.2545155555555554), np.float64(-0.06604888888888884), np.float64(-0.08758222222222246), np.float64(-0.04338222222222244), np.float64(-0.24618222222222258), np.float64(-0.04911555555555584), np.float64(-0.024648888888888897), np.float64(0.06555111111111124), np.float64(0.22568444444444485), np.float64(0.22568444444444485), np.float64(0.015484444444444651), np.float64(-0.055982222222222114), np.float64(0.02541777777777793), np.float64(0.05368444444444424), np.float64(0.03655111111111088), np.float64(-0.3458488888888887), np.float64(0.013951111111111237), np.float64(0.19135111111111144), np.float64(0.15701777777777803), np.float64(-0.014715555555555603), np.float64(0.019817777777778045), np.float64(0.6386844444444452), np.float64(0.08695111111111141), np.float64(0.00821777777777784), np.float64(0.022551111111111206), np.float64(-0.05611555555555568), np.float64(0.4142844444444451), np.float64(0.036884444444444574), np.float64(0.1108177777777774), np.float64(0.015484444444444651), np.float64(-0.07204888888888929), np.float64(-0.071848888888889), np.float64(-0.03764888888888909), np.float64(-0.10071555555555613), np.float64(0.5257511111111115), np.float64(-0.22918222222222276), np.float64(-0.4774488888888891), np.float64(0.7362177777777773), np.float64(0.09368444444444428), np.float64(-0.19891555555555565), np.float64(-0.05484888888888919), np.float64(0.0798844444444446), np.float64(0.011151111111111276), np.float64(0.07941777777777768), np.float64(-0.03764888888888909), np.float64(1.3788844444444432), np.float64(-0.849115555555556), np.float64(-0.13431555555555524), np.float64(0.15075111111111092), np.float64(0.06261777777777809), np.float64(-0.47778222222222316), np.float64(-0.1631822222222221), np.float64(0.20788444444444396), np.float64(0.19355111111111084), np.float64(-0.09178222222222236), np.float64(-0.014715555555555603), np.float64(-0.14324888888888918), np.float64(-0.07778222222222268), np.float64(-0.400582222222223), np.float64(1.5274177777777767), np.float64(-0.14324888888888918), np.float64(-0.11751555555555565), np.float64(-0.11738222222222196), np.float64(-0.10644888888888952), np.float64(0.15648444444444407), np.float64(0.023751111111110966), np.float64(-0.008982222222222254), np.float64(0.04508444444444417), np.float64(0.03655111111111088), np.float64(0.04508444444444417), np.float64(0.015484444444444651), np.float64(0.13648444444444421), np.float64(0.20788444444444396), np.float64(-0.04911555555555584), np.float64(-0.2545155555555554), np.float64(-0.03764888888888909), np.float64(0.12221777777777755), np.float64(-0.003248888888888907)]\n",
      "-0.04243400447427291\n"
     ]
    }
   ],
   "source": [
    "# writing covariance matrix \n",
    "\n",
    "X= d['sepal_length']\n",
    "Y= d['sepal_width']\n",
    "\n",
    "L=[]\n",
    "\n",
    "for i in range(0,len(X)):\n",
    "    l = (X[i] - np.mean(X))*(Y[i]- np.mean(Y))\n",
    "    L.append(l)\n",
    "\n",
    "print(L)\n",
    "\n",
    "covX_Y = sum(L)/(len(X) - 1) \n",
    "\n",
    "# think of formula of covariance x_y\n",
    "print(covX_Y)"
   ]
  },
  {
   "cell_type": "code",
   "execution_count": 22,
   "metadata": {},
   "outputs": [
    {
     "name": "stdout",
     "output_type": "stream",
     "text": [
      "[np.float64(0.5525444444444455), np.float64(0.8898777777777778), np.float64(1.3072111111111115), np.float64(1.5458777777777797), np.float64(0.7112111111111118), np.float64(0.19654444444444447), np.float64(1.5458777777777797), np.float64(0.7112111111111118), np.float64(2.0832111111111113), np.float64(0.8898777777777778), np.float64(0.19654444444444447), np.float64(1.0885444444444456), np.float64(1.0885444444444456), np.float64(2.3818777777777793), np.float64(0.001877777777777826), np.float64(0.0205444444444445), np.float64(0.19654444444444447), np.float64(0.5525444444444455), np.float64(0.0205444444444445), np.float64(0.5525444444444455), np.float64(0.19654444444444447), np.float64(0.5525444444444455), np.float64(1.5458777777777797), np.float64(0.5525444444444455), np.float64(1.0885444444444456), np.float64(0.7112111111111118), np.float64(0.7112111111111118), np.float64(0.413877777777778), np.float64(0.413877777777778), np.float64(1.3072111111111115), np.float64(1.0885444444444456), np.float64(0.19654444444444447), np.float64(0.413877777777778), np.float64(0.11787777777777804), np.float64(0.8898777777777778), np.float64(0.7112111111111118), np.float64(0.11787777777777804), np.float64(0.8898777777777778), np.float64(2.0832111111111113), np.float64(0.5525444444444455), np.float64(0.7112111111111118), np.float64(1.8045444444444454), np.float64(2.0832111111111113), np.float64(0.7112111111111118), np.float64(0.5525444444444455), np.float64(1.0885444444444456), np.float64(0.5525444444444455), np.float64(1.5458777777777797), np.float64(0.2952111111111117), np.float64(0.7112111111111118), np.float64(1.3378777777777768), np.float64(0.30987777777777775), np.float64(1.1165444444444443), np.float64(0.11787777777777804), np.float64(0.4312111111111106), np.float64(0.0205444444444445), np.float64(0.20854444444444395), np.float64(0.8898777777777778), np.float64(0.5725444444444433), np.float64(0.413877777777778), np.float64(0.7112111111111118), np.float64(0.0032111111111111086), np.float64(0.024544444444444327), np.float64(0.0658777777777774), np.float64(0.05921111111111147), np.float64(0.7338777777777774), np.float64(0.05921111111111147), np.float64(0.001877777777777826), np.float64(0.12721111111111097), np.float64(0.05921111111111147), np.float64(0.0032111111111111086), np.float64(0.0658777777777774), np.float64(0.20854444444444395), np.float64(0.0658777777777774), np.float64(0.30987777777777775), np.float64(0.5725444444444433), np.float64(0.9152111111111101), np.float64(0.7338777777777774), np.float64(0.024544444444444327), np.float64(0.0205444444444445), np.float64(0.11787777777777804), np.float64(0.11787777777777804), np.float64(0.001877777777777826), np.float64(0.024544444444444327), np.float64(0.19654444444444447), np.float64(0.024544444444444327), np.float64(0.7338777777777774), np.float64(0.20854444444444395), np.float64(0.05921111111111147), np.float64(0.11787777777777804), np.float64(0.11787777777777804), np.float64(0.0658777777777774), np.float64(0.001877777777777826), np.float64(0.7112111111111118), np.float64(0.05921111111111147), np.float64(0.0205444444444445), np.float64(0.0205444444444445), np.float64(0.12721111111111097), np.float64(0.5525444444444455), np.float64(0.0205444444444445), np.float64(0.20854444444444395), np.float64(0.001877777777777826), np.float64(1.5792111111111093), np.float64(0.20854444444444395), np.float64(0.4312111111111106), np.float64(3.085877777777775), np.float64(0.8898777777777778), np.float64(2.121877777777776), np.float64(0.7338777777777774), np.float64(1.8405444444444439), np.float64(0.4312111111111106), np.float64(0.30987777777777775), np.float64(0.9152111111111101), np.float64(0.0205444444444445), np.float64(0.001877777777777826), np.float64(0.30987777777777775), np.float64(0.4312111111111106), np.float64(3.4472111111111103), np.float64(3.4472111111111103), np.float64(0.024544444444444327), np.float64(1.1165444444444443), np.float64(0.05921111111111147), np.float64(3.4472111111111103), np.float64(0.20854444444444395), np.float64(0.7338777777777774), np.float64(1.8405444444444439), np.float64(0.12721111111111097), np.float64(0.0658777777777774), np.float64(0.30987777777777775), np.float64(1.8405444444444439), np.float64(2.423211111111111), np.float64(4.229877777777777), np.float64(0.30987777777777775), np.float64(0.20854444444444395), np.float64(0.0658777777777774), np.float64(3.4472111111111103), np.float64(0.20854444444444395), np.float64(0.30987777777777775), np.float64(0.024544444444444327), np.float64(1.1165444444444443), np.float64(0.7338777777777774), np.float64(1.1165444444444443), np.float64(0.001877777777777826), np.float64(0.9152111111111101), np.float64(0.7338777777777774), np.float64(0.7338777777777774), np.float64(0.20854444444444395), np.float64(0.4312111111111106), np.float64(0.12721111111111097), np.float64(0.0032111111111111086)]\n",
      "0.6856935123042504\n",
      "Standard deviation of X is:0.8280661279778628\n"
     ]
    }
   ],
   "source": [
    "#Finding covariance of XX\n",
    "\n",
    "L2=[]\n",
    "\n",
    "for i in range(0,len(X)):\n",
    "\n",
    "    multiplied_val = (X[i]- np.mean(X))*(X[i] - np.mean(X))\n",
    "    L2.append(multiplied_val)\n",
    "\n",
    "print(L2)\n",
    "\n",
    "CovX_X = sum(L2)/ (len(L2)-1)\n",
    "\n",
    "print(CovX_X)\n",
    "\n",
    "# standard_deviation = sqrt covariance of x with x \n",
    "\n",
    "std_x = np.sqrt(CovX_X)\n",
    "\n",
    "print(f'Standard deviation of X is:{std_x}')\n",
    "\n",
    "\n"
   ]
  },
  {
   "cell_type": "code",
   "execution_count": 21,
   "metadata": {},
   "outputs": [
    {
     "name": "stdout",
     "output_type": "stream",
     "text": [
      "[np.float64(0.19595377777777748), np.float64(0.0032871111111111508), np.float64(0.02035377777777773), np.float64(0.0018204444444444225), np.float64(0.2944871111111108), np.float64(0.7100871111111103), np.float64(0.11742044444444415), np.float64(0.11742044444444415), np.float64(0.024753777777777916), np.float64(0.0018204444444444225), np.float64(0.41302044444444425), np.float64(0.11742044444444415), np.float64(0.0032871111111111508), np.float64(0.0032871111111111508), np.float64(0.8886204444444438), np.float64(1.8027537777777778), np.float64(0.7100871111111103), np.float64(0.19595377777777748), np.float64(0.551553777777777), np.float64(0.551553777777777), np.float64(0.11742044444444415), np.float64(0.41302044444444425), np.float64(0.2944871111111108), np.float64(0.058887111111110856), np.float64(0.11742044444444415), np.float64(0.0032871111111111508), np.float64(0.11742044444444415), np.float64(0.19595377777777748), np.float64(0.11742044444444415), np.float64(0.02035377777777773), np.float64(0.0018204444444444225), np.float64(0.11742044444444415), np.float64(1.0871537777777762), np.float64(1.3056871111111108), np.float64(0.0018204444444444225), np.float64(0.02035377777777773), np.float64(0.19595377777777748), np.float64(0.2944871111111108), np.float64(0.0032871111111111508), np.float64(0.11742044444444415), np.float64(0.19595377777777748), np.float64(0.5735537777777786), np.float64(0.02035377777777773), np.float64(0.19595377777777748), np.float64(0.551553777777777), np.float64(0.0032871111111111508), np.float64(0.551553777777777), np.float64(0.02035377777777773), np.float64(0.41302044444444425), np.float64(0.058887111111110856), np.float64(0.02035377777777773), np.float64(0.02035377777777773), np.float64(0.0018204444444444225), np.float64(0.5735537777777786), np.float64(0.06622044444444472), np.float64(0.06622044444444472), np.float64(0.058887111111110856), np.float64(0.4320871111111117), np.float64(0.024753777777777916), np.float64(0.12768711111111122), np.float64(1.1179537777777786), np.float64(0.0032871111111111508), np.float64(0.7350204444444447), np.float64(0.024753777777777916), np.float64(0.024753777777777916), np.float64(0.0018204444444444225), np.float64(0.0032871111111111508), np.float64(0.12768711111111122), np.float64(0.7350204444444447), np.float64(0.3106204444444448), np.float64(0.02035377777777773), np.float64(0.06622044444444472), np.float64(0.3106204444444448), np.float64(0.06622044444444472), np.float64(0.024753777777777916), np.float64(0.0032871111111111508), np.float64(0.06622044444444472), np.float64(0.0032871111111111508), np.float64(0.024753777777777916), np.float64(0.20915377777777802), np.float64(0.4320871111111117), np.float64(0.4320871111111117), np.float64(0.12768711111111122), np.float64(0.12768711111111122), np.float64(0.0032871111111111508), np.float64(0.11742044444444415), np.float64(0.0018204444444444225), np.float64(0.5735537777777786), np.float64(0.0032871111111111508), np.float64(0.3106204444444448), np.float64(0.20915377777777802), np.float64(0.0032871111111111508), np.float64(0.20915377777777802), np.float64(0.5735537777777786), np.float64(0.12768711111111122), np.float64(0.0032871111111111508), np.float64(0.024753777777777916), np.float64(0.024753777777777916), np.float64(0.3106204444444448), np.float64(0.06622044444444472), np.float64(0.058887111111110856), np.float64(0.12768711111111122), np.float64(0.0032871111111111508), np.float64(0.024753777777777916), np.float64(0.0032871111111111508), np.float64(0.0032871111111111508), np.float64(0.3106204444444448), np.float64(0.024753777777777916), np.float64(0.3106204444444448), np.float64(0.2944871111111108), np.float64(0.02035377777777773), np.float64(0.12768711111111122), np.float64(0.0032871111111111508), np.float64(0.3106204444444448), np.float64(0.06622044444444472), np.float64(0.02035377777777773), np.float64(0.0032871111111111508), np.float64(0.551553777777777), np.float64(0.20915377777777802), np.float64(0.7350204444444447), np.float64(0.02035377777777773), np.float64(0.06622044444444472), np.float64(0.06622044444444472), np.float64(0.12768711111111122), np.float64(0.058887111111110856), np.float64(0.02035377777777773), np.float64(0.06622044444444472), np.float64(0.0032871111111111508), np.float64(0.06622044444444472), np.float64(0.0032871111111111508), np.float64(0.06622044444444472), np.float64(0.551553777777777), np.float64(0.06622044444444472), np.float64(0.06622044444444472), np.float64(0.20915377777777802), np.float64(0.0032871111111111508), np.float64(0.11742044444444415), np.float64(0.0018204444444444225), np.float64(0.0032871111111111508), np.float64(0.0018204444444444225), np.float64(0.0018204444444444225), np.float64(0.0018204444444444225), np.float64(0.12768711111111122), np.float64(0.02035377777777773), np.float64(0.058887111111110856), np.float64(0.0032871111111111508), np.float64(0.3106204444444448), np.float64(0.0032871111111111508), np.float64(0.11742044444444415), np.float64(0.0032871111111111508)]\n",
      "0.18997941834451895\n",
      "Standard deviation of y is:0.43586628493669816\n"
     ]
    }
   ],
   "source": [
    "#Finding covariance of YY\n",
    "\n",
    "L3=[]\n",
    "\n",
    "for i in range(0,len(Y)):\n",
    "\n",
    "    multiplied_val = (Y[i]- np.mean(Y))*(Y[i] - np.mean(Y))\n",
    "    L3.append(multiplied_val)\n",
    "\n",
    "print(L3)\n",
    "\n",
    "CovY_Y = sum(L3)/ (len(L3)-1)\n",
    "\n",
    "print(CovY_Y)\n",
    "\n",
    "# standard_deviation = sqrt covariance of x with x \n",
    "\n",
    "std_y = np.sqrt(CovY_Y)\n",
    "\n",
    "print(f'Standard deviation of y is:{std_y}')\n"
   ]
  },
  {
   "cell_type": "code",
   "execution_count": 23,
   "metadata": {},
   "outputs": [],
   "source": [
    "# writing covariance matrix \n",
    "\n",
    "covariance = np.array([[CovX_X , covX_Y],[covX_Y,CovY_Y]])\n",
    "\n",
    "print(f'Covariance is : {covariance}')"
   ]
  }
 ],
 "metadata": {
  "kernelspec": {
   "display_name": ".venv",
   "language": "python",
   "name": "python3"
  },
  "language_info": {
   "codemirror_mode": {
    "name": "ipython",
    "version": 3
   },
   "file_extension": ".py",
   "mimetype": "text/x-python",
   "name": "python",
   "nbconvert_exporter": "python",
   "pygments_lexer": "ipython3",
   "version": "3.12.0"
  }
 },
 "nbformat": 4,
 "nbformat_minor": 2
}
