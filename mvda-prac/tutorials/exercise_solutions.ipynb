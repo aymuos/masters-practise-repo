{
 "cells": [
  {
   "cell_type": "markdown",
   "metadata": {},
   "source": [
    "# Exercise questions on Linear Regression"
   ]
  },
  {
   "cell_type": "markdown",
   "metadata": {},
   "source": [
    "# Q1"
   ]
  },
  {
   "cell_type": "markdown",
   "metadata": {},
   "source": [
    "Imagine you're trying to model the relationship between consumer spending, income and price of goods. However, you suspect that the relationship may not be linear, and as an economist you have a clue that spending is directly proportional to log of income, and inversely proportional to price. \n",
    "\n",
    "Fit a model and find the relevant coefficients for the given data in 'consumers.csv' file."
   ]
  },
  {
   "cell_type": "markdown",
   "metadata": {},
   "source": [
    "Import required libraries:"
   ]
  },
  {
   "cell_type": "code",
   "execution_count": 1,
   "metadata": {},
   "outputs": [],
   "source": [
    "import numpy as np\n",
    "import pandas as pd\n",
    "import matplotlib.pyplot as plt\n",
    "import seaborn as sns\n",
    "from sklearn.model_selection import train_test_split\n",
    "from sklearn.linear_model import LinearRegression\n",
    "from sklearn.preprocessing import PolynomialFeatures\n",
    "from sklearn.metrics import mean_absolute_error,mean_squared_error,r2_score"
   ]
  },
  {
   "cell_type": "code",
   "execution_count": 3,
   "metadata": {},
   "outputs": [],
   "source": [
    "def metrics(y_test,predictions):\n",
    "    residuals=y_test-predictions\n",
    "\n",
    "    print(f'\\nThe Mean Absolute Error on the test data is: {mean_absolute_error(y_test,predictions):.3f}\\n')\n",
    "    print(f'\\nThe RMSE on the test data is: {mean_squared_error(y_test,predictions)**0.5:.3f}\\n')\n",
    "    print(f'\\nThe R2 value is: {r2_score(y_test,predictions):.3f}\\n')"
   ]
  },
  {
   "cell_type": "markdown",
   "metadata": {},
   "source": [
    "Load the data:"
   ]
  },
  {
   "cell_type": "code",
   "execution_count": 12,
   "metadata": {},
   "outputs": [
    {
     "data": {
      "text/html": [
       "<div>\n",
       "<style scoped>\n",
       "    .dataframe tbody tr th:only-of-type {\n",
       "        vertical-align: middle;\n",
       "    }\n",
       "\n",
       "    .dataframe tbody tr th {\n",
       "        vertical-align: top;\n",
       "    }\n",
       "\n",
       "    .dataframe thead th {\n",
       "        text-align: right;\n",
       "    }\n",
       "</style>\n",
       "<table border=\"1\" class=\"dataframe\">\n",
       "  <thead>\n",
       "    <tr style=\"text-align: right;\">\n",
       "      <th></th>\n",
       "      <th>Income</th>\n",
       "      <th>Price</th>\n",
       "      <th>Spending</th>\n",
       "    </tr>\n",
       "  </thead>\n",
       "  <tbody>\n",
       "    <tr>\n",
       "      <th>0</th>\n",
       "      <td>4370.861070</td>\n",
       "      <td>4.111489</td>\n",
       "      <td>273.088771</td>\n",
       "    </tr>\n",
       "    <tr>\n",
       "      <th>1</th>\n",
       "      <td>9556.428758</td>\n",
       "      <td>64.004631</td>\n",
       "      <td>280.607753</td>\n",
       "    </tr>\n",
       "    <tr>\n",
       "      <th>2</th>\n",
       "      <td>7587.945476</td>\n",
       "      <td>32.121242</td>\n",
       "      <td>259.492918</td>\n",
       "    </tr>\n",
       "    <tr>\n",
       "      <th>3</th>\n",
       "      <td>6387.926358</td>\n",
       "      <td>51.348498</td>\n",
       "      <td>210.312997</td>\n",
       "    </tr>\n",
       "    <tr>\n",
       "      <th>4</th>\n",
       "      <td>2404.167764</td>\n",
       "      <td>90.849081</td>\n",
       "      <td>164.197755</td>\n",
       "    </tr>\n",
       "  </tbody>\n",
       "</table>\n",
       "</div>"
      ],
      "text/plain": [
       "        Income      Price    Spending\n",
       "0  4370.861070   4.111489  273.088771\n",
       "1  9556.428758  64.004631  280.607753\n",
       "2  7587.945476  32.121242  259.492918\n",
       "3  6387.926358  51.348498  210.312997\n",
       "4  2404.167764  90.849081  164.197755"
      ]
     },
     "execution_count": 12,
     "metadata": {},
     "output_type": "execute_result"
    }
   ],
   "source": [
    "df=pd.read_csv('consumers.csv')\n",
    "df.head()"
   ]
  },
  {
   "cell_type": "markdown",
   "metadata": {},
   "source": [
    "Are there any missing values?"
   ]
  },
  {
   "cell_type": "code",
   "execution_count": 13,
   "metadata": {},
   "outputs": [
    {
     "name": "stdout",
     "output_type": "stream",
     "text": [
      "<class 'pandas.core.frame.DataFrame'>\n",
      "RangeIndex: 100 entries, 0 to 99\n",
      "Data columns (total 3 columns):\n",
      " #   Column    Non-Null Count  Dtype  \n",
      "---  ------    --------------  -----  \n",
      " 0   Income    100 non-null    float64\n",
      " 1   Price     100 non-null    float64\n",
      " 2   Spending  100 non-null    float64\n",
      "dtypes: float64(3)\n",
      "memory usage: 2.5 KB\n"
     ]
    }
   ],
   "source": [
    "df.info()"
   ]
  },
  {
   "cell_type": "markdown",
   "metadata": {},
   "source": [
    "Fit a suitable model, and check its performance:"
   ]
  },
  {
   "cell_type": "code",
   "execution_count": 15,
   "metadata": {},
   "outputs": [
    {
     "name": "stdout",
     "output_type": "stream",
     "text": [
      "\n",
      "The Mean Absolute Error on the test data is: 23.252\n",
      "\n",
      "\n",
      "The RMSE on the test data is: 27.406\n",
      "\n",
      "\n",
      "The R2 value is: 0.855\n",
      "\n"
     ]
    }
   ],
   "source": [
    "x1=np.log(df['Income'].values).reshape(-1,1)\n",
    "x2=(1/df['Price']).values.reshape(-1,1)\n",
    "X=np.hstack((x1,x2))\n",
    "y=df['Spending'].values.reshape(-1,1)\n",
    "X_train,X_test,y_train,y_test=train_test_split(X, y, test_size=0.3, random_state=42)\n",
    "model=LinearRegression()\n",
    "model.fit(X_train,y_train)\n",
    "predictions=model.predict(X_test)\n",
    "metrics(y_test,predictions)"
   ]
  },
  {
   "cell_type": "markdown",
   "metadata": {},
   "source": [
    "## Q2 - Multivariate Linear Regression"
   ]
  },
  {
   "cell_type": "markdown",
   "metadata": {},
   "source": [
    "'wine_data' consists of various attributes of red wine such as acidic, sugar,chloride and sulfur content and density. We are interested in being able to model alcohol content and quality given the attribute data. \n",
    "Build such a model and comment on the fit of your model. Assume linear relationships between dependent and independent sets of variables."
   ]
  },
  {
   "cell_type": "markdown",
   "metadata": {},
   "source": [
    "Load the data"
   ]
  },
  {
   "cell_type": "code",
   "execution_count": 16,
   "metadata": {},
   "outputs": [],
   "source": [
    "data=pd.read_csv('wine_data.csv')"
   ]
  },
  {
   "cell_type": "code",
   "execution_count": 17,
   "metadata": {},
   "outputs": [
    {
     "data": {
      "text/html": [
       "<div>\n",
       "<style scoped>\n",
       "    .dataframe tbody tr th:only-of-type {\n",
       "        vertical-align: middle;\n",
       "    }\n",
       "\n",
       "    .dataframe tbody tr th {\n",
       "        vertical-align: top;\n",
       "    }\n",
       "\n",
       "    .dataframe thead th {\n",
       "        text-align: right;\n",
       "    }\n",
       "</style>\n",
       "<table border=\"1\" class=\"dataframe\">\n",
       "  <thead>\n",
       "    <tr style=\"text-align: right;\">\n",
       "      <th></th>\n",
       "      <th>fixed acidity</th>\n",
       "      <th>residual sugar</th>\n",
       "      <th>chlorides</th>\n",
       "      <th>Sulphates</th>\n",
       "      <th>density</th>\n",
       "      <th>alcohol</th>\n",
       "      <th>quality</th>\n",
       "    </tr>\n",
       "  </thead>\n",
       "  <tbody>\n",
       "    <tr>\n",
       "      <th>0</th>\n",
       "      <td>5.488135</td>\n",
       "      <td>13.556331</td>\n",
       "      <td>0.000312</td>\n",
       "      <td>0.906555</td>\n",
       "      <td>13.556331</td>\n",
       "      <td>47.266304</td>\n",
       "      <td>-43.775853</td>\n",
       "    </tr>\n",
       "    <tr>\n",
       "      <th>1</th>\n",
       "      <td>7.151894</td>\n",
       "      <td>5.400159</td>\n",
       "      <td>0.000696</td>\n",
       "      <td>0.774047</td>\n",
       "      <td>5.400159</td>\n",
       "      <td>26.183714</td>\n",
       "      <td>-4.191843</td>\n",
       "    </tr>\n",
       "    <tr>\n",
       "      <th>2</th>\n",
       "      <td>6.027634</td>\n",
       "      <td>14.703880</td>\n",
       "      <td>0.000378</td>\n",
       "      <td>0.333145</td>\n",
       "      <td>14.703880</td>\n",
       "      <td>56.564180</td>\n",
       "      <td>-50.673865</td>\n",
       "    </tr>\n",
       "    <tr>\n",
       "      <th>3</th>\n",
       "      <td>5.448832</td>\n",
       "      <td>19.243771</td>\n",
       "      <td>0.000180</td>\n",
       "      <td>0.081101</td>\n",
       "      <td>19.243771</td>\n",
       "      <td>68.564888</td>\n",
       "      <td>-58.720789</td>\n",
       "    </tr>\n",
       "    <tr>\n",
       "      <th>4</th>\n",
       "      <td>4.236548</td>\n",
       "      <td>4.975063</td>\n",
       "      <td>0.000025</td>\n",
       "      <td>0.407241</td>\n",
       "      <td>4.975063</td>\n",
       "      <td>22.498105</td>\n",
       "      <td>-8.607858</td>\n",
       "    </tr>\n",
       "  </tbody>\n",
       "</table>\n",
       "</div>"
      ],
      "text/plain": [
       "   fixed acidity  residual sugar  chlorides  Sulphates    density    alcohol  \\\n",
       "0       5.488135       13.556331   0.000312   0.906555  13.556331  47.266304   \n",
       "1       7.151894        5.400159   0.000696   0.774047   5.400159  26.183714   \n",
       "2       6.027634       14.703880   0.000378   0.333145  14.703880  56.564180   \n",
       "3       5.448832       19.243771   0.000180   0.081101  19.243771  68.564888   \n",
       "4       4.236548        4.975063   0.000025   0.407241   4.975063  22.498105   \n",
       "\n",
       "     quality  \n",
       "0 -43.775853  \n",
       "1  -4.191843  \n",
       "2 -50.673865  \n",
       "3 -58.720789  \n",
       "4  -8.607858  "
      ]
     },
     "execution_count": 17,
     "metadata": {},
     "output_type": "execute_result"
    }
   ],
   "source": [
    "data.head()"
   ]
  },
  {
   "cell_type": "markdown",
   "metadata": {},
   "source": [
    "Build and test the model:"
   ]
  },
  {
   "cell_type": "code",
   "execution_count": 18,
   "metadata": {},
   "outputs": [],
   "source": [
    "X,y=data.drop(['alcohol','quality'],axis=1).values,data[['alcohol','quality']].values\n",
    "X_train,X_test,y_train,y_test=train_test_split(X, y, test_size=0.3, random_state=42)\n",
    "model=LinearRegression()\n",
    "model.fit(X_train,y_train)\n",
    "predictions=model.predict(X_test)\n"
   ]
  },
  {
   "cell_type": "markdown",
   "metadata": {},
   "source": [
    "How is it performing?"
   ]
  },
  {
   "cell_type": "code",
   "execution_count": 19,
   "metadata": {},
   "outputs": [
    {
     "name": "stdout",
     "output_type": "stream",
     "text": [
      "The metrics for alcohol is as follows: \n",
      "\n",
      "\n",
      "The Mean Absolute Error on the test data is: 0.798\n",
      "\n",
      "\n",
      "The RMSE on the test data is: 0.992\n",
      "\n",
      "\n",
      "The R2 value is: 0.997\n",
      "\n"
     ]
    }
   ],
   "source": [
    "print('The metrics for alcohol is as follows: \\n')\n",
    "metrics(y_test[:,0],predictions[:,0])"
   ]
  },
  {
   "cell_type": "code",
   "execution_count": 20,
   "metadata": {},
   "outputs": [
    {
     "name": "stdout",
     "output_type": "stream",
     "text": [
      "The metrics for quality is as follows: \n",
      "\n",
      "\n",
      "The Mean Absolute Error on the test data is: 3.447\n",
      "\n",
      "\n",
      "The RMSE on the test data is: 4.054\n",
      "\n",
      "\n",
      "The R2 value is: 0.972\n",
      "\n"
     ]
    }
   ],
   "source": [
    "\n",
    "print('The metrics for quality is as follows: \\n')\n",
    "metrics(y_test[:,1],predictions[:,1])"
   ]
  }
 ],
 "metadata": {
  "kernelspec": {
   "display_name": "Python 3 (ipykernel)",
   "language": "python",
   "name": "python3"
  },
  "language_info": {
   "codemirror_mode": {
    "name": "ipython",
    "version": 3
   },
   "file_extension": ".py",
   "mimetype": "text/x-python",
   "name": "python",
   "nbconvert_exporter": "python",
   "pygments_lexer": "ipython3",
   "version": "3.11.5"
  }
 },
 "nbformat": 4,
 "nbformat_minor": 2
}
