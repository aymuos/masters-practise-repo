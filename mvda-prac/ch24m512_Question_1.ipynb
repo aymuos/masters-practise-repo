{
  "cells": [
    {
      "cell_type": "markdown",
      "metadata": {
        "id": "GBC5NzkIbp5B"
      },
      "source": [
        "**Instructions for Assignment 2: TLS Problem on Textile Data**\n",
        "\n",
        "1. **Objective**:  \n",
        "   In this assignment, you will write modular Python code in the provided Colab notebook to solve the TLS problem for textile data.\n",
        "\n",
        "2. **Notebook Organization**:  \n",
        "   - Ensure the notebook is well-structured and modular.  \n",
        "   - Include all necessary library imports and helper functions in the earlier cells.  \n",
        "   - Write the final function, `test_TLS(data_set)`, in the **last cell** of the notebook.\n",
        "\n",
        "3. **Function Requirements**:  \n",
        "   - Define the function `test_TLS(data_set)` to perform the following:\n",
        "     - Compute the **regression coefficients**: `b2`, `b1`, `b0`.\n",
        "     - Calculate the **Frobenius norm**: `norm`.  \n",
        "   - The input `data_set` will be a pandas DataFrame created from a CSV file.  \n",
        "   - The function must return a tuple in the format:  \n",
        "     ```python\n",
        "     (b2, b1, b0, norm)\n",
        "     ```\n",
        "   - Ensure all returned values are rounded to **2 decimal places**.\n",
        "\n",
        "4. **Regression Coefficient Format**:  \n",
        "   - The coefficients should be presented in the format:  \n",
        "     `b2 × Color + b1 × Quality + b0`\n",
        "\n",
        "5. **Testing the Function**:  \n",
        "   - Your function will be tested using a call like this:  \n",
        "     ```python\n",
        "     (b2, b1, b0, norm) = test_TLS(public_data_set)\n",
        "     ```\n",
        "   - The `public_data_set` is a pandas DataFrame created from the file `textile_data.csv`.\n",
        "\n",
        "6. **Expected Output Ranges**:  \n",
        "   For the provided **public dataset**, your function should produce results in the following ranges:  \n",
        "   - `b2`: Between 2.0 and 2.1  \n",
        "   - `b1`: Between 1.5 and 1.6  \n",
        "   - `b0`: Between 0.19 and 0.21  \n",
        "   - `norm`: Between 62 and 63  \n",
        "\n",
        "7. **Evaluation Process**:  \n",
        "   - The evaluation of your notebook will involve running **all the cells sequentially** and testing the function with **private test cases**.  \n",
        "   - Ensure the following:  \n",
        "     1. **Order of Functions and Declarations**: Maintain the proper sequence of functions and declarations in the notebook.  \n",
        "     2. **No Additional or Unwanted Code**: Remove any extra cells, variables, or function declarations that are not relevant to the solution. Your final submission should only contain the necessary code to solve the problem.\n",
        "\n",
        "8. **Submission Guidelines**:  \n",
        "   - Ensure your notebook is clean, with appropriate comments and well-documented code.  \n",
        "   - Verify your function’s output matches the expected ranges before submission."
      ]
    },
    {
      "cell_type": "code",
      "execution_count": 56,
      "metadata": {
        "id": "l7W4Rzx8bi-j"
      },
      "outputs": [],
      "source": [
        "import pandas as pd\n",
        "import numpy as np\n",
        "from sklearn.preprocessing import StandardScaler\n",
        "from scipy.linalg import svd"
      ]
    },
    {
      "cell_type": "code",
      "execution_count": 57,
      "metadata": {
        "id": "iEPl-Ilig2pt"
      },
      "outputs": [],
      "source": [
        "def frobenius_norm(matrix):\n",
        "    return np.linalg.norm(matrix, 'fro')\n",
        "\n",
        "def get_corrected_estimates(data, scaler_X, scaler_Y):\n",
        "    # Separate the features (X) and the target variable (Y)\n",
        "    X = data[['Color', 'Quality']].values\n",
        "    Y = data['Price'].values\n",
        "\n",
        "    # Scale the data\n",
        "    X_scaled = scaler_X.fit_transform(X)\n",
        "    Y_scaled = scaler_Y.fit_transform(Y.reshape(-1, 1))\n",
        "\n",
        "    # Construct the augmented data matrix with an intercept\n",
        "    ones = np.ones((X_scaled.shape[0], 1))\n",
        "    X_aug = np.hstack((ones, X_scaled, Y_scaled))\n",
        "\n",
        "    # Perform SVD on the augmented data matrix\n",
        "    U, S, Vt = svd(X_aug)\n",
        "    V = Vt.T\n",
        "\n",
        "    # Set the smallest singular value to zero\n",
        "    S[-1] = 0\n",
        "\n",
        "    # Reconstruct the augmented data matrix\n",
        "    X_aug_corrected = np.dot(U[:, :len(S)], np.dot(np.diag(S), Vt[:len(S), :]))\n",
        "    # Extract the corrected estimates for X and y\n",
        "    X_corrected = X_aug_corrected[:, 1:-1]\n",
        "    Y_corrected = X_aug_corrected[:, -1]\n",
        "\n",
        "    # Transform corrected estimates back to original scale\n",
        "    X_corrected_original = scaler_X.inverse_transform(X_corrected)\n",
        "    Y_corrected_original = scaler_Y.inverse_transform(Y_corrected.reshape(-1, 1))\n",
        "\n",
        "    return X_corrected_original, Y_corrected_original\n"
      ]
    },
    {
      "cell_type": "code",
      "execution_count": 61,
      "metadata": {
        "id": "aTollyNChLZG"
      },
      "outputs": [],
      "source": [
        "def test_TLS(data_set):\n",
        "\n",
        "    # Compute the regression coefficients\n",
        "    X = data_set[['Color', 'Quality']].values\n",
        "    Y = data_set['Price'].values\n",
        "\n",
        "    # Scale the data\n",
        "    scaler_X = StandardScaler()\n",
        "    scaler_Y = StandardScaler()\n",
        "    X_scaled = scaler_X.fit_transform(X)\n",
        "    Y_scaled = scaler_Y.fit_transform(Y.reshape(-1, 1))\n",
        "\n",
        "    # Construct the augmented data matrix with an intercept\n",
        "    ones = np.ones((X_scaled.shape[0], 1))\n",
        "    X_aug = np.hstack((ones, X_scaled, Y_scaled))\n",
        "\n",
        "    # Perform SVD on the augmented data matrix\n",
        "    U, S, Vt = svd(X_aug)\n",
        "    V = Vt.T\n",
        "\n",
        "    # Identify the smallest singular value and its corresponding right singular vector\n",
        "    v_n_plus_1 = V[:, -1]\n",
        "\n",
        "    # Partition the singular vector\n",
        "    v_ones = v_n_plus_1[0]\n",
        "    v_X = v_n_plus_1[1:-1]\n",
        "    v_Y = v_n_plus_1[-1]\n",
        "\n",
        "\n",
        "\n",
        "    # Compute the regression coefficients\n",
        "    beta = -v_X / v_Y\n",
        "\n",
        "\n",
        "\n",
        "    # Get corrected estimates for the data matrices\n",
        "    X_corrected, Y_corrected = get_corrected_estimates(data_set, scaler_X, scaler_Y)\n",
        "\n",
        "    # Calculate the total Frobenius Norm\n",
        "    norm = frobenius_norm(np.hstack((X_corrected, Y_corrected)))\n",
        "\n",
        "    # Inverse transform the coefficients\n",
        "    beta_original = scaler_Y.scale_ * beta / scaler_X.scale_\n",
        "    beta_0_original = scaler_Y.mean_ - np.dot(scaler_X.mean_, beta_original)\n",
        "\n",
        "    # Round the results to 2 decimal places\n",
        "    beta_0_original = np.round(beta_0_original, 2)\n",
        "    beta_original = np.round(beta_original, 2)\n",
        "    norm = np.round(norm, 2)\n",
        "\n",
        "    return (beta_original[0], beta_original[1], beta_0_original[0], norm)\n"
      ]
    },
    {
      "cell_type": "code",
      "execution_count": 1,
      "metadata": {
        "colab": {
          "base_uri": "https://localhost:8080/"
        },
        "id": "vcqMIUd0haup",
        "outputId": "39289c8d-96f1-46af-e91b-e3d25e1808ba"
      },
      "outputs": [
        {
          "ename": "NameError",
          "evalue": "name 'pd' is not defined",
          "output_type": "error",
          "traceback": [
            "\u001b[1;31m---------------------------------------------------------------------------\u001b[0m",
            "\u001b[1;31mNameError\u001b[0m                                 Traceback (most recent call last)",
            "Cell \u001b[1;32mIn[1], line 1\u001b[0m\n\u001b[1;32m----> 1\u001b[0m public_data_set \u001b[38;5;241m=\u001b[39m \u001b[43mpd\u001b[49m\u001b[38;5;241m.\u001b[39mread_csv(\u001b[38;5;124m'\u001b[39m\u001b[38;5;124mtextile_data.csv\u001b[39m\u001b[38;5;124m'\u001b[39m)\n\u001b[0;32m      2\u001b[0m test_TLS(public_data_set)\n",
            "\u001b[1;31mNameError\u001b[0m: name 'pd' is not defined"
          ]
        }
      ],
      "source": [
        "public_data_set = pd.read_csv('textile_data.csv')\n",
        "test_TLS(public_data_set)"
      ]
    }
  ],
  "metadata": {
    "colab": {
      "provenance": []
    },
    "kernelspec": {
      "display_name": ".venv",
      "language": "python",
      "name": "python3"
    },
    "language_info": {
      "codemirror_mode": {
        "name": "ipython",
        "version": 3
      },
      "file_extension": ".py",
      "mimetype": "text/x-python",
      "name": "python",
      "nbconvert_exporter": "python",
      "pygments_lexer": "ipython3",
      "version": "3.12.0"
    }
  },
  "nbformat": 4,
  "nbformat_minor": 0
}
