{
  "cells": [
    {
      "cell_type": "markdown",
      "metadata": {
        "id": "view-in-github",
        "colab_type": "text"
      },
      "source": [
        "<a href=\"https://colab.research.google.com/github/aymuos/masters-practise-repo/blob/main/TERM3/AI_at_Scale/Assignment1/question1/q1.ipynb\" target=\"_parent\"><img src=\"https://colab.research.google.com/assets/colab-badge.svg\" alt=\"Open In Colab\"/></a>"
      ]
    },
    {
      "cell_type": "markdown",
      "id": "4a1c8746",
      "metadata": {
        "id": "4a1c8746"
      },
      "source": [
        "q1"
      ]
    },
    {
      "cell_type": "code",
      "execution_count": 6,
      "id": "ad9a1a3b",
      "metadata": {
        "id": "ad9a1a3b"
      },
      "outputs": [],
      "source": [
        "! pip install -q pyspark"
      ]
    },
    {
      "cell_type": "code",
      "execution_count": 7,
      "id": "6281940f",
      "metadata": {
        "id": "6281940f"
      },
      "outputs": [],
      "source": [
        "# imports\n",
        "from pyspark.sql import SparkSession\n",
        "from pyspark.sql.types import StructType,StructField, StringType, IntegerType\n"
      ]
    },
    {
      "cell_type": "code",
      "execution_count": 8,
      "id": "eebe58c7",
      "metadata": {
        "id": "eebe58c7"
      },
      "outputs": [],
      "source": [
        "\n",
        "spark = SparkSession.builder \\\n",
        "    .appName(\"assignment1_CH24M571\") \\\n",
        "    .master(\"local[*]\") \\\n",
        "    .config(\"spark.executor.memory\", \"512m\") \\\n",
        "    .config(\"spark.executor.core\", \"4\") \\\n",
        "    .config(\"spark.driver.memory\", \"2g\") \\\n",
        "    .config(\"spark.executor.instances\", \"2\")\\\n",
        "    .config(\"spark.driver.core\", \"2\") \\\n",
        "    .getOrCreate()\n",
        "\n",
        "spark.sparkContext.setLogLevel(\"INFO\")\n",
        "\n",
        "\n",
        "# # spark = SparkSession.builder \\: This starts the process of building a SparkSession.\n",
        "# .appName(\"Assignment1\") \\: This sets the name of the Spark application to \"Assignment1\".\n",
        "# .master(\"local[*]\") \\: This configures Spark to run locally on your machine using all available cores.\n",
        "# .config(\"spark.executor.memory\", \"512m\") \\: This sets the amount of memory allocated to each executor (the processes that perform the actual computations) to 512 megabytes.\n",
        "# .config(\"spark.executor.core\", \"4\") \\: This sets the number of cores used by each executor to 4.\n",
        "# .config(\"spark.driver.memory\", \"2g\") \\: This sets the amount of memory allocated to the Spark driver (the process that coordinates the execution) to 2 gigabytes.\n",
        "# .config(\"spark.executor.instances\", \"2\")\\: This sets the number of executor instances to 2.\n",
        "# .config(\"spark.driver.core\", \"2\") \\: This sets the number of cores used by the driver to 2.\n",
        "# .getOrCreate(): This retrieves an existing SparkSession if one is already running, or creates a new one if not.\n",
        "# spark.sparkContext.setLogLevel(\"INFO\"): This sets the logging level for the Spark context to \"INFO\", which means informational messages will be displayed."
      ]
    },
    {
      "cell_type": "code",
      "source": [
        "# setting the schemas for the 3 csv s\n",
        "\n",
        "from pyspark.sql.types import StructType, StructField, StringType, IntegerType, FloatType, ArrayType, StructType\n",
        "\n",
        "# Customers schema\n",
        "customer_schema = StructType([\n",
        "    StructField(\"customer_id\", StringType(), False),\n",
        "    StructField(\"name\", StringType(), True),\n",
        "    StructField(\"age\", IntegerType(), True),\n",
        "    StructField(\"email\", StringType(), True),\n",
        "    StructField(\"preferences\", StringType(), True),  # Will parse to ArrayType later\n",
        "    StructField(\"address\", StringType(), True)       # Will parse to StructType later\n",
        "])\n",
        "\n",
        "# Orders schema\n",
        "order_schema = StructType([\n",
        "    StructField(\"order_id\", StringType(), False),\n",
        "    StructField(\"customer_id\", StringType(), True),\n",
        "    StructField(\"order_date\", StringType(), True),\n",
        "    StructField(\"items\", StringType(), True)\n",
        "    StructField(\"shipping_address\", StringType(), True),\n",
        "    StructField(\"total_amount\", FloatType(), True)\n",
        "])\n",
        "\n",
        "# Products schema\n",
        "product_schema = StructType([\n",
        "    StructField(\"product_id\", StringType(), False),\n",
        "    StructField(\"name\", StringType(), True),\n",
        "    StructField(\"category\", StringType(), True),\n",
        "    StructField(\"price\", FloatType(), True),\n",
        "    StructField(\"tags\", IntegerType(), True)\n",
        "])"
      ],
      "metadata": {
        "id": "PTt_JyaGcAdg"
      },
      "id": "PTt_JyaGcAdg",
      "execution_count": null,
      "outputs": []
    },
    {
      "cell_type": "code",
      "execution_count": null,
      "id": "6f6cf714",
      "metadata": {
        "colab": {
          "base_uri": "https://localhost:8080/"
        },
        "id": "6f6cf714",
        "outputId": "ff7f1a5c-5012-49bc-c639-8bc58a043170"
      },
      "outputs": [
        {
          "output_type": "stream",
          "name": "stdout",
          "text": [
            "+-----------+-----------+---+--------------------+---------------+--------------------+\n",
            "|customer_id|       name|age|               email|    preferences|             address|\n",
            "+-----------+-----------+---+--------------------+---------------+--------------------+\n",
            "| CUST000001| Customer_1| 61|customer1@example...|   \"[\"\"sports\"\"|          \"\"travel\"\"|\n",
            "| CUST000002| Customer_2| 55|customer2@example...|           NULL|\"{\"\"street\"\": \"\"5...|\n",
            "| CUST000003| Customer_3| 79|customer3@example...|   \"[\"\"movies\"\"|           \"\"books\"\"|\n",
            "| CUST000004| Customer_4| 73|customer4@example...|    \"[\"\"books\"\"|         \"\"fitness\"\"|\n",
            "| CUST000005| Customer_5| 80|customer5@example...|    \"[\"\"music\"\"|           \"\"books\"\"|\n",
            "| CUST000006| Customer_6| 44|customer6@example...|   \"[\"\"travel\"\"|       \"\"fitness\"\"]\"|\n",
            "| CUST000007| Customer_7| 57|customer7@example...|    \"[\"\"music\"\"|          \"\"movies\"\"|\n",
            "| CUST000008| Customer_8| 20|                NULL|    \"[\"\"books\"\"|         \"\"fitness\"\"|\n",
            "| CUST000009| Customer_9| 57|customer9@example...|\"[\"\"fitness\"\"]\"|\"{\"\"street\"\": \"\"3...|\n",
            "| CUST000010|Customer_10| 29|customer10@exampl...|   \"[\"\"travel\"\"|         \"\"books\"\"]\"|\n",
            "| CUST000011|Customer_11| 39|customer11@exampl...| \"[\"\"travel\"\"]\"|\"{\"\"street\"\": \"\"8...|\n",
            "| CUST000012|Customer_12| 22|customer12@exampl...| \"[\"\"sports\"\"]\"|\"{\"\"street\"\": \"\"9...|\n",
            "| CUST000013|Customer_13| 38|customer13example...| \"[\"\"movies\"\"]\"|\"{\"\"street\"\": \"\"5...|\n",
            "| CUST000014|Customer_14| 47|customer14@exampl...|  \"[\"\"fitness\"\"|           \"\"books\"\"|\n",
            "| CUST000015|Customer_15| 80|customer15@exampl...|           NULL|\"{\"\"street\"\": \"\"8...|\n",
            "| CUST000016|Customer_16| 70|customer16@exampl...|   \"[\"\"travel\"\"|        \"\"movies\"\"]\"|\n",
            "| CUST000017|Customer_17| 18|customer17@exampl...|  \"[\"\"books\"\"]\"|\"{\"\"street\"\": \"\"1...|\n",
            "| CUST000018|Customer_18| 80|customer18@exampl...|    \"[\"\"music\"\"|        \"\"sports\"\"]\"|\n",
            "| CUST000019|Customer_19| 58|customer19@exampl...|    \"[\"\"music\"\"|         \"\"books\"\"]\"|\n",
            "| CUST000020|Customer_20| 75|customer20@exampl...|  \"[\"\"fitness\"\"|           \"\"books\"\"|\n",
            "+-----------+-----------+---+--------------------+---------------+--------------------+\n",
            "only showing top 20 rows\n",
            "\n"
          ]
        }
      ],
      "source": [
        "# defining file paths\n",
        "\n",
        "customer_csv= './customers.csv'\n",
        "orders_csv = './orders.csv'\n",
        "product_csv = './product.csv'\n",
        "\n",
        "\n",
        "# read csv file\n",
        "customer_df = spark.read.csv(customer_csv, header=True, inferSchema=True)\n",
        "# show the dataframe\n",
        "customer_df.show()"
      ]
    },
    {
      "cell_type": "code",
      "source": [
        "# read csv file\n",
        "orders_df = spark.read.csv(orders_csv, header=True, inferSchema=True)\n",
        "# show the dataframe\n",
        "orders_df.show()"
      ],
      "metadata": {
        "id": "3fVEm05GQjy7",
        "outputId": "aaf9cc39-1bdd-40cc-e803-f212ce10b666",
        "colab": {
          "base_uri": "https://localhost:8080/"
        }
      },
      "id": "3fVEm05GQjy7",
      "execution_count": null,
      "outputs": [
        {
          "output_type": "stream",
          "name": "stdout",
          "text": [
            "+----------+-----------+----------+--------------------+----------------+--------------------+\n",
            "|  order_id|customer_id|order_date|               items|shipping_address|        total_amount|\n",
            "+----------+-----------+----------+--------------------+----------------+--------------------+\n",
            "|ORD0000001| CUST000046|2023-08-16|\"[{\"\"product_id\"\"...| \"\"quantity\"\": 3| \"\"price\"\": 370.9...|\n",
            "|ORD0000002| CUST000027|2023-11-20|\"[{\"\"product_id\"\"...| \"\"quantity\"\": 2|   \"\"price\"\": 40.45}|\n",
            "|ORD0000003| CUST000093|2023-11-27|\"[{\"\"product_id\"\"...| \"\"quantity\"\": 3|  \"\"price\"\": 428.33}|\n",
            "|ORD0000004| CUST000017|2023-04-08|\"[{\"\"product_id\"\"...| \"\"quantity\"\": 2|   \"\"price\"\": 176.2}|\n",
            "|ORD0000005| CUST000092|2023-09-24|\"[{\"\"product_id\"\"...| \"\"quantity\"\": 3|  \"\"price\"\": 370.91}|\n",
            "|ORD0000006| CUST000029|2023-09-04|\"[{\"\"product_id\"\"...| \"\"quantity\"\": 2| \"\"price\"\": 400.4...|\n",
            "|ORD0000007| CUST000093|2023-10-22|\"[{\"\"product_id\"\"...| \"\"quantity\"\": 1|  \"\"price\"\": 370.91}|\n",
            "|ORD0000008| CUST000094|2023-10-20|\"[{\"\"product_id\"\"...| \"\"quantity\"\": 3| \"\"price\"\": 40.45}]\"|\n",
            "|ORD0000009| CUST000094|2023-01-22|\"[{\"\"product_id\"\"...| \"\"quantity\"\": 3| \"\"price\"\": 370.9...|\n",
            "|ORD0000010| CUST000042|2023-05-18|\"[{\"\"product_id\"\"...| \"\"quantity\"\": 3|   \"\"price\"\": 135.9}|\n",
            "|ORD0000011| CUST000035|2023-10-29|\"[{\"\"product_id\"\"...| \"\"quantity\"\": 1|  \"\"price\"\": 187.57}|\n",
            "|ORD0000012| CUST000084|2023-02-04|\"[{\"\"product_id\"\"...| \"\"quantity\"\": 3|   \"\"price\"\": 69.84}|\n",
            "|ORD0000013| CUST000068|2023-08-27|\"[{\"\"product_id\"\"...| \"\"quantity\"\": 3|  \"\"price\"\": 187.57}|\n",
            "|ORD0000014| CUST000033|2023-11-25|\"[{\"\"product_id\"\"...| \"\"quantity\"\": 3|   \"\"price\"\": 59.11}|\n",
            "|ORD0000015| CUST000041|2023-12-13|\"[{\"\"product_id\"\"...| \"\"quantity\"\": 3|   \"\"price\"\": 135.9}|\n",
            "|ORD0000016| CUST000087|2023-03-24|\"[{\"\"product_id\"\"...| \"\"quantity\"\": 1|   \"\"price\"\": 176.2}|\n",
            "|ORD0000017| CUST000050|2023-10-09|\"[{\"\"product_id\"\"...| \"\"quantity\"\": 2| \"\"price\"\": 400.4...|\n",
            "|ORD0000018| CUST000078|2023-10-27|\"[{\"\"product_id\"\"...| \"\"quantity\"\": 2|   \"\"price\"\": 176.2}|\n",
            "|ORD0000019| CUST000075|2023-11-09|\"[{\"\"product_id\"\"...| \"\"quantity\"\": 2|  \"\"price\"\": 400.44}|\n",
            "|ORD0000020| CUST000003|2023-05-20|\"[{\"\"product_id\"\"...| \"\"quantity\"\": 2|   \"\"price\"\": 59.11}|\n",
            "+----------+-----------+----------+--------------------+----------------+--------------------+\n",
            "only showing top 20 rows\n",
            "\n"
          ]
        }
      ]
    },
    {
      "cell_type": "code",
      "source": [
        "# read csv file\n",
        "customer_df = spark.read.csv(customer_csv, header=True, inferSchema=True)\n",
        "# show the dataframe\n",
        "customer_df.show()"
      ],
      "metadata": {
        "id": "CueZzkyWQkil",
        "outputId": "1d6f6752-e4ea-48e0-8d59-34e1064aa62b",
        "colab": {
          "base_uri": "https://localhost:8080/"
        }
      },
      "id": "CueZzkyWQkil",
      "execution_count": null,
      "outputs": [
        {
          "output_type": "stream",
          "name": "stdout",
          "text": [
            "+-----------+-----------+---+--------------------+---------------+--------------------+\n",
            "|customer_id|       name|age|               email|    preferences|             address|\n",
            "+-----------+-----------+---+--------------------+---------------+--------------------+\n",
            "| CUST000001| Customer_1| 61|customer1@example...|   \"[\"\"sports\"\"|          \"\"travel\"\"|\n",
            "| CUST000002| Customer_2| 55|customer2@example...|           NULL|\"{\"\"street\"\": \"\"5...|\n",
            "| CUST000003| Customer_3| 79|customer3@example...|   \"[\"\"movies\"\"|           \"\"books\"\"|\n",
            "| CUST000004| Customer_4| 73|customer4@example...|    \"[\"\"books\"\"|         \"\"fitness\"\"|\n",
            "| CUST000005| Customer_5| 80|customer5@example...|    \"[\"\"music\"\"|           \"\"books\"\"|\n",
            "| CUST000006| Customer_6| 44|customer6@example...|   \"[\"\"travel\"\"|       \"\"fitness\"\"]\"|\n",
            "| CUST000007| Customer_7| 57|customer7@example...|    \"[\"\"music\"\"|          \"\"movies\"\"|\n",
            "| CUST000008| Customer_8| 20|                NULL|    \"[\"\"books\"\"|         \"\"fitness\"\"|\n",
            "| CUST000009| Customer_9| 57|customer9@example...|\"[\"\"fitness\"\"]\"|\"{\"\"street\"\": \"\"3...|\n",
            "| CUST000010|Customer_10| 29|customer10@exampl...|   \"[\"\"travel\"\"|         \"\"books\"\"]\"|\n",
            "| CUST000011|Customer_11| 39|customer11@exampl...| \"[\"\"travel\"\"]\"|\"{\"\"street\"\": \"\"8...|\n",
            "| CUST000012|Customer_12| 22|customer12@exampl...| \"[\"\"sports\"\"]\"|\"{\"\"street\"\": \"\"9...|\n",
            "| CUST000013|Customer_13| 38|customer13example...| \"[\"\"movies\"\"]\"|\"{\"\"street\"\": \"\"5...|\n",
            "| CUST000014|Customer_14| 47|customer14@exampl...|  \"[\"\"fitness\"\"|           \"\"books\"\"|\n",
            "| CUST000015|Customer_15| 80|customer15@exampl...|           NULL|\"{\"\"street\"\": \"\"8...|\n",
            "| CUST000016|Customer_16| 70|customer16@exampl...|   \"[\"\"travel\"\"|        \"\"movies\"\"]\"|\n",
            "| CUST000017|Customer_17| 18|customer17@exampl...|  \"[\"\"books\"\"]\"|\"{\"\"street\"\": \"\"1...|\n",
            "| CUST000018|Customer_18| 80|customer18@exampl...|    \"[\"\"music\"\"|        \"\"sports\"\"]\"|\n",
            "| CUST000019|Customer_19| 58|customer19@exampl...|    \"[\"\"music\"\"|         \"\"books\"\"]\"|\n",
            "| CUST000020|Customer_20| 75|customer20@exampl...|  \"[\"\"fitness\"\"|           \"\"books\"\"|\n",
            "+-----------+-----------+---+--------------------+---------------+--------------------+\n",
            "only showing top 20 rows\n",
            "\n"
          ]
        }
      ]
    },
    {
      "cell_type": "code",
      "source": [],
      "metadata": {
        "id": "lN_bszONRci5"
      },
      "id": "lN_bszONRci5",
      "execution_count": null,
      "outputs": []
    }
  ],
  "metadata": {
    "kernelspec": {
      "display_name": ".venv",
      "language": "python",
      "name": "python3"
    },
    "language_info": {
      "codemirror_mode": {
        "name": "ipython",
        "version": 3
      },
      "file_extension": ".py",
      "mimetype": "text/x-python",
      "name": "python",
      "nbconvert_exporter": "python",
      "pygments_lexer": "ipython3",
      "version": "3.10.12"
    },
    "colab": {
      "provenance": [],
      "include_colab_link": true
    }
  },
  "nbformat": 4,
  "nbformat_minor": 5
}