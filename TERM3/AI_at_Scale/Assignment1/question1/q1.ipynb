{
  "cells": [
    {
      "cell_type": "markdown",
      "metadata": {
        "id": "view-in-github",
        "colab_type": "text"
      },
      "source": [
        "<a href=\"https://colab.research.google.com/github/aymuos/masters-practise-repo/blob/main/TERM3/AI_at_Scale/Assignment1/question1/q1.ipynb\" target=\"_parent\"><img src=\"https://colab.research.google.com/assets/colab-badge.svg\" alt=\"Open In Colab\"/></a>"
      ]
    },
    {
      "cell_type": "markdown",
      "id": "4a1c8746",
      "metadata": {
        "id": "4a1c8746"
      },
      "source": [
        "q1"
      ]
    },
    {
      "cell_type": "code",
      "execution_count": 19,
      "id": "ad9a1a3b",
      "metadata": {
        "id": "ad9a1a3b"
      },
      "outputs": [],
      "source": [
        "! pip install -q pyspark"
      ]
    },
    {
      "cell_type": "code",
      "execution_count": 20,
      "id": "6281940f",
      "metadata": {
        "id": "6281940f"
      },
      "outputs": [],
      "source": [
        "# imports\n",
        "from pyspark.sql import SparkSession\n",
        "from pyspark.sql.types import StructType,StructField, StringType, IntegerType\n",
        "from pyspark.sql.functions import col, sum , mean , mode , when\n",
        "\n",
        "\n",
        "base_path = f'./'\n",
        "\n",
        "#base_path = f\"/opt/spark/data/{student_id}/\"\n"
      ]
    },
    {
      "cell_type": "code",
      "execution_count": 21,
      "id": "eebe58c7",
      "metadata": {
        "id": "eebe58c7"
      },
      "outputs": [],
      "source": [
        "\n",
        "spark = SparkSession.builder \\\n",
        "    .appName(\"assignment1_CH24M571\") \\\n",
        "    .master(\"local[*]\") \\\n",
        "    .config(\"spark.executor.memory\", \"512m\") \\\n",
        "    .config(\"spark.executor.core\", \"4\") \\\n",
        "    .config(\"spark.driver.memory\", \"2g\") \\\n",
        "    .config(\"spark.executor.instances\", \"2\")\\\n",
        "    .config(\"spark.driver.core\", \"2\") \\\n",
        "    .getOrCreate()\n",
        "\n",
        "spark.sparkContext.setLogLevel(\"INFO\")\n",
        "\n",
        "\n",
        "# # spark = SparkSession.builder \\: This starts the process of building a SparkSession.\n",
        "# .appName(\"Assignment1\") \\: This sets the name of the Spark application to \"Assignment1\".\n",
        "# .master(\"local[*]\") \\: This configures Spark to run locally on your machine using all available cores.\n",
        "# .config(\"spark.executor.memory\", \"512m\") \\: This sets the amount of memory allocated to each executor (the processes that perform the actual computations) to 512 megabytes.\n",
        "# .config(\"spark.executor.core\", \"4\") \\: This sets the number of cores used by each executor to 4.\n",
        "# .config(\"spark.driver.memory\", \"2g\") \\: This sets the amount of memory allocated to the Spark driver (the process that coordinates the execution) to 2 gigabytes.\n",
        "# .config(\"spark.executor.instances\", \"2\")\\: This sets the number of executor instances to 2.\n",
        "# .config(\"spark.driver.core\", \"2\") \\: This sets the number of cores used by the driver to 2.\n",
        "# .getOrCreate(): This retrieves an existing SparkSession if one is already running, or creates a new one if not.\n",
        "# spark.sparkContext.setLogLevel(\"INFO\"): This sets the logging level for the Spark context to \"INFO\", which means informational messages will be displayed."
      ]
    },
    {
      "cell_type": "code",
      "source": [
        "# a timer decorator\n",
        "\n",
        "import time\n",
        "from functools import wraps\n",
        "\n",
        "def timer_decorator(func):\n",
        "  \"\"\"\n",
        "  A decorator that measures the execution time of a function.\n",
        "  \"\"\"\n",
        "  @wraps(func)\n",
        "  def wrapper(*args, **kwargs):\n",
        "    start_time = time.time()\n",
        "    result = func(*args, **kwargs)\n",
        "    end_time = time.time()\n",
        "    execution_time = end_time - start_time\n",
        "    print(f\"Function '{func.__name__}' executed in {execution_time:.4f} seconds\")\n",
        "    return result\n",
        "  return wrapper"
      ],
      "metadata": {
        "id": "i0u4obXW5hsl"
      },
      "id": "i0u4obXW5hsl",
      "execution_count": 22,
      "outputs": []
    },
    {
      "cell_type": "code",
      "source": [
        "# setting the schemas for the 3 csv s\n",
        "\n",
        "from pyspark.sql.types import StructType, StructField, StringType, IntegerType, FloatType, ArrayType, StructType\n",
        "\n",
        "# Customers schema\n",
        "customers_schema = StructType([\n",
        "    StructField(\"customer_id\", StringType(), nullable=False),\n",
        "    StructField(\"name\", StringType(), True),\n",
        "    StructField(\"age\", IntegerType(), True),\n",
        "    StructField(\"email\", StringType(), True),\n",
        "    StructField(\"preferences\", StringType(), True),  # Will parse to ArrayType later\n",
        "    StructField(\"address\", StringType(), True)       # Will parse to StructType later\n",
        "])\n",
        "\n",
        "# Orders schema\n",
        "orders_schema = StructType([\n",
        "    StructField(\"order_id\", StringType(), nullable=False),\n",
        "    StructField(\"customer_id\", StringType(), True),\n",
        "    StructField(\"order_date\", StringType(), True),\n",
        "    StructField(\"items\", StringType(), True),\n",
        "    StructField(\"shipping_address\", StringType(), True),\n",
        "    StructField(\"total_amount\", FloatType(), True)\n",
        "])\n",
        "\n",
        "# Products schema\n",
        "products_schema = StructType([\n",
        "    StructField(\"product_id\", StringType(), nullable=False),\n",
        "    StructField(\"name\", StringType(), True),\n",
        "    StructField(\"category\", StringType(), True),\n",
        "    StructField(\"price\", FloatType(), True),\n",
        "    StructField(\"tags\", StringType(), True)\n",
        "])"
      ],
      "metadata": {
        "id": "PTt_JyaGcAdg"
      },
      "id": "PTt_JyaGcAdg",
      "execution_count": 23,
      "outputs": []
    },
    {
      "cell_type": "code",
      "source": [
        "# defining file paths\n",
        "\n",
        "customers_csv= base_path +'customers.csv'\n",
        "orders_csv = base_path +'orders.csv'\n",
        "products_csv = base_path +'products.csv'"
      ],
      "metadata": {
        "id": "yAH4Stp9loA8"
      },
      "id": "yAH4Stp9loA8",
      "execution_count": 24,
      "outputs": []
    },
    {
      "cell_type": "code",
      "execution_count": 25,
      "id": "6f6cf714",
      "metadata": {
        "colab": {
          "base_uri": "https://localhost:8080/"
        },
        "id": "6f6cf714",
        "outputId": "2b357cdb-54af-4a9e-b0a9-418f10393e73"
      },
      "outputs": [
        {
          "output_type": "stream",
          "name": "stdout",
          "text": [
            "+-----------+-----------+---+--------------------+--------------------+--------------------+\n",
            "|customer_id|       name|age|               email|         preferences|             address|\n",
            "+-----------+-----------+---+--------------------+--------------------+--------------------+\n",
            "| CUST000001| Customer_1| 61|customer1@example...|[\"sports\", \"trave...|{\"street\": \"2796 ...|\n",
            "| CUST000002| Customer_2| 55|customer2@example...|                NULL|{\"street\": \"5409 ...|\n",
            "| CUST000003| Customer_3| 79|customer3@example...|[\"movies\", \"books...|{\"street\": \"6081 ...|\n",
            "| CUST000004| Customer_4| 73|customer4@example...|[\"books\", \"fitnes...|{\"street\": \"3303 ...|\n",
            "| CUST000005| Customer_5| 80|customer5@example...|[\"music\", \"books\"...|{\"street\": \"4864 ...|\n",
            "| CUST000006| Customer_6| 44|customer6@example...|[\"travel\", \"fitne...|{\"street\": \"3592 ...|\n",
            "| CUST000007| Customer_7| 57|customer7@example...|[\"music\", \"movies...|{\"street\": \"2932 ...|\n",
            "| CUST000008| Customer_8| 20|                NULL|[\"books\", \"fitnes...|{\"street\": \"8148 ...|\n",
            "| CUST000009| Customer_9| 57|customer9@example...|         [\"fitness\"]|{\"street\": \"375 M...|\n",
            "| CUST000010|Customer_10| 29|customer10@exampl...| [\"travel\", \"books\"]|{\"street\": \"7677 ...|\n",
            "| CUST000011|Customer_11| 39|customer11@exampl...|          [\"travel\"]|{\"street\": \"813 M...|\n",
            "| CUST000012|Customer_12| 22|customer12@exampl...|          [\"sports\"]|{\"street\": \"9355 ...|\n",
            "| CUST000013|Customer_13| 38|customer13example...|          [\"movies\"]|{\"street\": \"5511 ...|\n",
            "| CUST000014|Customer_14| 47|customer14@exampl...|[\"fitness\", \"book...|{\"street\": \"1411 ...|\n",
            "| CUST000015|Customer_15| 80|customer15@exampl...|                NULL|{\"street\": \"8376 ...|\n",
            "| CUST000016|Customer_16| 70|customer16@exampl...|[\"travel\", \"movies\"]|{\"street\": \"2764 ...|\n",
            "| CUST000017|Customer_17| 18|customer17@exampl...|           [\"books\"]|{\"street\": \"1329 ...|\n",
            "| CUST000018|Customer_18| 80|customer18@exampl...| [\"music\", \"sports\"]|{\"street\": \"3926 ...|\n",
            "| CUST000019|Customer_19| 58|customer19@exampl...|  [\"music\", \"books\"]|{\"street\": \"4571 ...|\n",
            "| CUST000020|Customer_20| 75|customer20@exampl...|[\"fitness\", \"book...|{\"street\": \"9780 ...|\n",
            "+-----------+-----------+---+--------------------+--------------------+--------------------+\n",
            "only showing top 20 rows\n",
            "\n"
          ]
        }
      ],
      "source": [
        "\n",
        "# read csv file\n",
        "customers_df = spark.read.csv(customers_csv, header=True, schema=customers_schema,escape=\"\\\"\",quote=\"\\\"\")\n",
        "# show the dataframe\n",
        "customers_df.show()"
      ]
    },
    {
      "cell_type": "code",
      "source": [
        "# read csv file\n",
        "orders_df = spark.read.csv(orders_csv,header=True, schema=orders_schema,escape=\"\\\"\",quote=\"\\\"\")\n",
        "# show the dataframe\n",
        "orders_df.show()"
      ],
      "metadata": {
        "id": "3fVEm05GQjy7",
        "outputId": "651db04a-6700-4e4e-c492-096f4770c96d",
        "colab": {
          "base_uri": "https://localhost:8080/"
        }
      },
      "id": "3fVEm05GQjy7",
      "execution_count": 26,
      "outputs": [
        {
          "output_type": "stream",
          "name": "stdout",
          "text": [
            "+----------+-----------+----------+--------------------+--------------------+------------+\n",
            "|  order_id|customer_id|order_date|               items|    shipping_address|total_amount|\n",
            "+----------+-----------+----------+--------------------+--------------------+------------+\n",
            "|ORD0000001| CUST000046|2023-08-16|[{\"product_id\": \"...|{\"street\": \"703 M...|     1112.73|\n",
            "|ORD0000002| CUST000027|2023-11-20|[{\"product_id\": \"...|{\"street\": \"6503 ...|      456.04|\n",
            "|ORD0000003| CUST000093|2023-11-27|[{\"product_id\": \"...|{\"street\": \"9664 ...|     1420.89|\n",
            "|ORD0000004| CUST000017|2023-04-08|[{\"product_id\": \"...|{\"street\": \"1329 ...|     1450.66|\n",
            "|ORD0000005| CUST000092|2023-09-24|[{\"product_id\": \"...|{\"street\": \"3075 ...|     2016.47|\n",
            "|ORD0000006| CUST000029|2023-09-04|[{\"product_id\": \"...|{\"street\": \"176 M...|      800.88|\n",
            "|ORD0000007| CUST000093|2023-10-22|[{\"product_id\": \"...|{\"street\": \"9664 ...|        NULL|\n",
            "|ORD0000008| CUST000094|2023-10-20|[{\"product_id\": \"...|{\"street\": \"4391 ...|      121.35|\n",
            "|ORD0000009| CUST000094|2023-01-22|[{\"product_id\": \"...|                NULL|     1112.73|\n",
            "|ORD0000010| CUST000042|2023-05-18|[{\"product_id\": \"...|{\"street\": \"6033 ...|     1609.02|\n",
            "|ORD0000011| CUST000035|2023-10-29|[{\"product_id\": \"...|{\"street\": \"3299 ...|      192.89|\n",
            "|ORD0000012| CUST000084|2023-02-04|[{\"product_id\": \"...|{\"street\": \"3490 ...|      1071.3|\n",
            "|ORD0000013| CUST000068|2023-08-27|[{\"product_id\": \"...|{\"street\": \"1228 ...|      973.79|\n",
            "|ORD0000014| CUST000033|2023-11-25|[{\"product_id\": \"...|{\"street\": \"7338 ...|      712.38|\n",
            "|ORD0000015| CUST000041|2023-12-13|[{\"product_id\": \"...|{\"street\": \"4560 ...|     1326.85|\n",
            "|ORD0000016| CUST000087|2023-03-24|[{\"product_id\": \"...|{\"street\": \"6819 ...|       448.0|\n",
            "|ORD0000017| CUST000050|2023-10-09|[{\"product_id\": \"...|{\"street\": \"337 M...|      800.88|\n",
            "|ORD0000018| CUST000078|2023-10-27|[{\"product_id\": \"...|{\"street\": \"8458 ...|      363.04|\n",
            "|ORD0000019| CUST000075|2023-11-09|[{\"product_id\": \"...|{\"street\": \"1783 ...|     1660.92|\n",
            "|ORD0000020| CUST000003|2023-05-20|[{\"product_id\": \"...|{\"street\": \"6081 ...|     1518.71|\n",
            "+----------+-----------+----------+--------------------+--------------------+------------+\n",
            "only showing top 20 rows\n",
            "\n"
          ]
        }
      ]
    },
    {
      "cell_type": "code",
      "source": [
        "# read csv file\n",
        "products_df = spark.read.csv(products_csv, header=True, schema=products_schema,escape=\"\\\"\",quote=\"\\\"\")\n",
        "# show the dataframe\n",
        "products_df.show()"
      ],
      "metadata": {
        "id": "CueZzkyWQkil",
        "outputId": "56543765-7b48-4fed-fae2-abd7a70de23e",
        "colab": {
          "base_uri": "https://localhost:8080/"
        }
      },
      "id": "CueZzkyWQkil",
      "execution_count": 27,
      "outputs": [
        {
          "output_type": "stream",
          "name": "stdout",
          "text": [
            "+----------+----------+-----------+------+--------------------+\n",
            "|product_id|      name|   category| price|                tags|\n",
            "+----------+----------+-----------+------+--------------------+\n",
            "| PROD00001| Product_1|electronics|  5.32|[\"new\", \"sale\", \"...|\n",
            "| PROD00002| Product_2|     sports| 59.11|[\"limited\", \"eco-...|\n",
            "| PROD00003| Product_3|     sports|370.91|             [\"new\"]|\n",
            "| PROD00004| Product_4|     sports| 69.84|            [\"sale\"]|\n",
            "| PROD00005| Product_5|     sports| 135.9|[\"sale\", \"new\", \"...|\n",
            "| PROD00006| Product_6|electronics|428.33|[\"new\", \"limited\"...|\n",
            "| PROD00007| Product_7|electronics|400.44|         [\"popular\"]|\n",
            "| PROD00008| Product_8|     sports| 40.45|[\"limited\", \"popu...|\n",
            "| PROD00009| Product_9|     sports|187.57|[\"limited\", \"new\"...|\n",
            "| PROD00010|Product_10|  furniture| 176.2|  [\"popular\", \"new\"]|\n",
            "+----------+----------+-----------+------+--------------------+\n",
            "\n"
          ]
        }
      ]
    },
    {
      "cell_type": "markdown",
      "source": [
        "- Print the size of each dataframe and schema"
      ],
      "metadata": {
        "id": "mgenbkYXr2ye"
      },
      "id": "mgenbkYXr2ye"
    },
    {
      "cell_type": "code",
      "source": [
        "print(f\"Rows: {customers_df.count()}\")\n",
        "print(f\"Columns: {len(customers_df.columns)}\")\n",
        "customers_df.printSchema()\n",
        "print(\"-------------------------------------\")\n",
        "print(f\"Rows: {orders_df.count()}\")\n",
        "print(f\"Columns: {len(orders_df.columns)}\")\n",
        "orders_df.printSchema()\n",
        "print(\"-------------------------------------\")\n",
        "print(f\"Rows: {products_df.count()}\")\n",
        "print(f\"Columns: {len(products_df.columns)}\")\n",
        "products_df.printSchema()\n",
        "print(\"-------------------------------------\")"
      ],
      "metadata": {
        "id": "lN_bszONRci5",
        "colab": {
          "base_uri": "https://localhost:8080/"
        },
        "outputId": "0d58a6f5-5825-4fac-952f-16dea59011dc"
      },
      "id": "lN_bszONRci5",
      "execution_count": 28,
      "outputs": [
        {
          "output_type": "stream",
          "name": "stdout",
          "text": [
            "Rows: 100\n",
            "Columns: 6\n",
            "root\n",
            " |-- customer_id: string (nullable = true)\n",
            " |-- name: string (nullable = true)\n",
            " |-- age: integer (nullable = true)\n",
            " |-- email: string (nullable = true)\n",
            " |-- preferences: string (nullable = true)\n",
            " |-- address: string (nullable = true)\n",
            "\n",
            "-------------------------------------\n",
            "Rows: 500\n",
            "Columns: 6\n",
            "root\n",
            " |-- order_id: string (nullable = true)\n",
            " |-- customer_id: string (nullable = true)\n",
            " |-- order_date: string (nullable = true)\n",
            " |-- items: string (nullable = true)\n",
            " |-- shipping_address: string (nullable = true)\n",
            " |-- total_amount: float (nullable = true)\n",
            "\n",
            "-------------------------------------\n",
            "Rows: 10\n",
            "Columns: 5\n",
            "root\n",
            " |-- product_id: string (nullable = true)\n",
            " |-- name: string (nullable = true)\n",
            " |-- category: string (nullable = true)\n",
            " |-- price: float (nullable = true)\n",
            " |-- tags: string (nullable = true)\n",
            "\n",
            "-------------------------------------\n"
          ]
        }
      ]
    },
    {
      "cell_type": "markdown",
      "source": [
        "-\n",
        "Identify the corrupt values in each file and report the number of corrupt rows and\n",
        "total corrupt values in each file."
      ],
      "metadata": {
        "id": "FSfHYBtVwbBd"
      },
      "id": "FSfHYBtVwbBd"
    },
    {
      "cell_type": "code",
      "metadata": {
        "colab": {
          "base_uri": "https://localhost:8080/"
        },
        "id": "ee80454e",
        "outputId": "972a8336-b943-42e0-d266-eadadf7c8e54"
      },
      "source": [
        "# Check for null values in customers_df\n",
        "\n",
        "# CHECKING JUST THE IDS - IDEALLY THERE SHOULDNT BE NONE\n",
        "\n",
        "customers_null_counts = customers_df.select(\n",
        "    sum(col(\"customer_id\")\n",
        "    .isNull()         # check if each value in column is null , if so cast the value as 0 or 1\n",
        "    .cast(\"integer\"))\n",
        "    .alias(\"customer_id_nulls\")).collect()[0]  # aggregate and put into a new column\n",
        "\n",
        "    #\n",
        "print(f\"Customers DataFrame - Nulls in customer_id: {customers_null_counts['customer_id_nulls']}\")\n",
        "\n",
        "# Check for null values in orders_df\n",
        "\n",
        "orders_null_counts = orders_df.select(\n",
        "    sum(col(\"order_id\").isNull().cast(\"integer\")).alias(\"order_id_nulls\"),\n",
        "    sum(col(\"customer_id\").isNull().cast(\"integer\")).alias(\"customer_id_nulls\")\n",
        ").collect()[0]\n",
        "\n",
        "print(f\"Orders DataFrame - Nulls in order_id: {orders_null_counts['order_id_nulls']}\")\n",
        "print(f\"Orders DataFrame - Nulls in customer_id: {orders_null_counts['customer_id_nulls']}\")\n",
        "\n",
        "\n",
        "# Check for null values in products_df\n",
        "products_null_counts = products_df.select(sum(col(\"product_id\").isNull().cast(\"integer\")).alias(\"product_id_nulls\")).collect()[0]\n",
        "print(f\"Products DataFrame - Nulls in product_id: {products_null_counts['product_id_nulls']}\")"
      ],
      "id": "ee80454e",
      "execution_count": 29,
      "outputs": [
        {
          "output_type": "stream",
          "name": "stdout",
          "text": [
            "Customers DataFrame - Nulls in customer_id: 0\n",
            "Orders DataFrame - Nulls in order_id: 0\n",
            "Orders DataFrame - Nulls in customer_id: 0\n",
            "Products DataFrame - Nulls in product_id: 0\n"
          ]
        }
      ]
    },
    {
      "cell_type": "code",
      "metadata": {
        "colab": {
          "base_uri": "https://localhost:8080/"
        },
        "id": "d8666d5c",
        "outputId": "681e4fe1-b75e-44c9-dca3-540aae0f4893"
      },
      "source": [
        "\n",
        "# Check for null values in all columns of customers_df\n",
        "\n",
        "print(\"Null counts for customers_df:\")\n",
        "\n",
        "customers_df.agg(*(sum(col(c).isNull().cast(\"integer\")).alias(c) for c in customers_df.columns)).show()\n",
        "\n",
        "# loop over all columns and check for null values\n",
        "\n",
        "# Check for null values in all columns of orders_df\n",
        "print(\"Null counts for orders_df:\")\n",
        "orders_df.agg(*(sum(col(c).isNull().cast(\"integer\")).alias(c) for c in orders_df.columns)).show()\n",
        "\n",
        "# Check for null values in all columns of products_df\n",
        "print(\"Null counts for products_df:\")\n",
        "products_df.agg(*(sum(col(c).isNull().cast(\"integer\")).alias(c) for c in products_df.columns)).show()"
      ],
      "id": "d8666d5c",
      "execution_count": 30,
      "outputs": [
        {
          "output_type": "stream",
          "name": "stdout",
          "text": [
            "Null counts for customers_df:\n",
            "+-----------+----+---+-----+-----------+-------+\n",
            "|customer_id|name|age|email|preferences|address|\n",
            "+-----------+----+---+-----+-----------+-------+\n",
            "|          0|   0|  1|    5|          5|      0|\n",
            "+-----------+----+---+-----+-----------+-------+\n",
            "\n",
            "Null counts for orders_df:\n",
            "+--------+-----------+----------+-----+----------------+------------+\n",
            "|order_id|customer_id|order_date|items|shipping_address|total_amount|\n",
            "+--------+-----------+----------+-----+----------------+------------+\n",
            "|       0|          0|         0|    0|              23|          14|\n",
            "+--------+-----------+----------+-----+----------------+------------+\n",
            "\n",
            "Null counts for products_df:\n",
            "+----------+----+--------+-----+----+\n",
            "|product_id|name|category|price|tags|\n",
            "+----------+----+--------+-----+----+\n",
            "|         0|   0|       0|    0|   0|\n",
            "+----------+----+--------+-----+----+\n",
            "\n"
          ]
        }
      ]
    },
    {
      "cell_type": "markdown",
      "source": [
        "For numerical columns, fill the missing values with mean value"
      ],
      "metadata": {
        "id": "uVj68QGV82hQ"
      },
      "id": "uVj68QGV82hQ"
    },
    {
      "cell_type": "code",
      "metadata": {
        "id": "2a8f1345",
        "outputId": "1926f1bf-1316-4911-bf84-55bc576c631f",
        "colab": {
          "base_uri": "https://localhost:8080/"
        }
      },
      "source": [
        "from pyspark.sql.functions import mean\n",
        "\n",
        "# age and total_amount are the only numerical columns\n",
        "# price has no nulls\n",
        "\n",
        "\n",
        "# mean 'age' column in customers_df\n",
        "mean_age = customers_df.select(mean(col(\"age\"))).collect()[0][0]\n",
        "\n",
        "# Fill null values in the 'age' column with the calculated mean\n",
        "customers_df = customers_df.na.fill(mean_age, subset=[\"age\"])\n",
        "\n",
        "print(\"-----------------\")\n",
        "\n",
        "# Calculate the mean of the 'total_amount' column in orders_df\n",
        "mean_total_amount = orders_df.select(mean(col(\"total_amount\"))).collect()[0][0]\n",
        "\n",
        "# Fill null values in the 'total_amount' column with the calculated mean\n",
        "orders_df = orders_df.na.fill(mean_total_amount, subset=[\"total_amount\"])\n",
        "\n",
        "print(\"-----------------\")\n",
        "\n",
        "mean_price = products_df.select(mean(col(\"price\"))).collect()[0][0]\n",
        "\n",
        "# Fill null values in the 'price' column with the calculated mean\n",
        "products_df = products_df.na.fill(mean_price, subset=[\"price\"])\n",
        "\n",
        "\n",
        "print(\"Null counts for customers_df after filling 'age' nulls:\")\n",
        "customers_df.agg(*(sum(col(c).isNull().cast(\"integer\")).alias(c) for c in customers_df.columns)).show()\n",
        "\n",
        "print(\"Null counts for orders_df after filling 'total_amount' nulls:\")\n",
        "orders_df.agg(*(sum(col(c).isNull().cast(\"integer\")).alias(c) for c in orders_df.columns)).show()\n",
        "\n",
        "# doing for price just in case\n",
        "print(\"Null counts for products_df after filling 'price' nulls:\")\n",
        "products_df.agg(*(sum(col(c).isNull().cast(\"integer\")).alias(c) for c in products_df.columns)).show()"
      ],
      "id": "2a8f1345",
      "execution_count": 31,
      "outputs": [
        {
          "output_type": "stream",
          "name": "stdout",
          "text": [
            "-----------------\n",
            "-----------------\n",
            "Null counts for customers_df after filling 'age' nulls:\n",
            "+-----------+----+---+-----+-----------+-------+\n",
            "|customer_id|name|age|email|preferences|address|\n",
            "+-----------+----+---+-----+-----------+-------+\n",
            "|          0|   0|  0|    5|          5|      0|\n",
            "+-----------+----+---+-----+-----------+-------+\n",
            "\n",
            "Null counts for orders_df after filling 'total_amount' nulls:\n",
            "+--------+-----------+----------+-----+----------------+------------+\n",
            "|order_id|customer_id|order_date|items|shipping_address|total_amount|\n",
            "+--------+-----------+----------+-----+----------------+------------+\n",
            "|       0|          0|         0|    0|              23|           0|\n",
            "+--------+-----------+----------+-----+----------------+------------+\n",
            "\n",
            "Null counts for products_df after filling 'price' nulls:\n",
            "+----------+----+--------+-----+----+\n",
            "|product_id|name|category|price|tags|\n",
            "+----------+----+--------+-----+----+\n",
            "|         0|   0|       0|    0|   0|\n",
            "+----------+----+--------+-----+----+\n",
            "\n"
          ]
        }
      ]
    },
    {
      "cell_type": "markdown",
      "source": [
        "- For categorical or string columns, fill the missing values with most frequent value."
      ],
      "metadata": {
        "id": "EusKpcST9SGC"
      },
      "id": "EusKpcST9SGC"
    },
    {
      "cell_type": "code",
      "source": [
        "def categorical_cols(customers_df, orders_df, products_df):\n",
        "  ''' will return a tuple of list for each input df '''\n",
        "\n",
        "  string_cols_customers = [c for c, t in customers_df.dtypes if t == 'string']\n",
        "  string_cols_orders = [c for c, t in orders_df.dtypes if t == 'string']\n",
        "  string_cols_products = [c for c, t in products_df.dtypes if t == 'string']\n",
        "\n",
        "  return string_cols_customers, string_cols_orders, string_cols_products\n"
      ],
      "metadata": {
        "id": "NlzjHJwK7aGc"
      },
      "id": "NlzjHJwK7aGc",
      "execution_count": 32,
      "outputs": []
    },
    {
      "cell_type": "code",
      "source": [
        "string_cols_customers, string_cols_orders, string_cols_products = categorical_cols(customers_df, orders_df, products_df)\n",
        "\n",
        "# for col_name in string_cols_customers:\n",
        "#     # Calculate and fill nulls with the mode value\n",
        "#     mode_result = customers_df.groupBy(col_name).count().orderBy(\"count\", ascending=False).first()\n",
        "#     if mode_result is not None:\n",
        "#         mode_value = mode_result[0]\n",
        "#         customers_df = customers_df.na.fill(mode_value, subset=[col_name])\n",
        "#     else:\n",
        "#         print(f\"Skipping fill for column '{col_name}' in customers_df as mode is None (column might be all nulls).\")\n",
        "\n",
        "\n",
        "# customers_df.show(3)"
      ],
      "metadata": {
        "id": "0ssLJHRp77yi"
      },
      "id": "0ssLJHRp77yi",
      "execution_count": 33,
      "outputs": []
    },
    {
      "cell_type": "code",
      "source": [
        "\n",
        "def fill_nulls_with_mean_or_mode(df):\n",
        "    \"\"\"\n",
        "    Fills null values in a DataFrame with the mean for numerical columns\n",
        "    and the mode for string columns.\n",
        "    \"\"\"\n",
        "    # Calculate null counts for each column\n",
        "    null_counts = df.agg(*(sum(col(c).isNull().cast(\"integer\")).alias(c) for c in df.columns)).collect()[0]\n",
        "\n",
        "    for col_name in df.columns:\n",
        "        null_count = null_counts[col_name]\n",
        "        # Check if the column has null values\n",
        "        if(null_count != 0):\n",
        "            print(f\"In DataFrame column '{col_name}' has {null_count} null values. Filling the null values with {'mean' if df.schema[col_name].dataType in [IntegerType(), FloatType()] else 'mode'}.\")\n",
        "\n",
        "            # Filling the null values in the string type column with the mode\n",
        "            if df.schema[col_name].dataType == StringType():\n",
        "                mode_col = df.agg(mode(col(col_name))).collect()[0][0]\n",
        "                # Check if mode_col is not None before filling\n",
        "                if mode_col is not None:\n",
        "                  df = df.withColumn(col_name, when(col(col_name).isNull(), mode_col).otherwise(col(col_name)))\n",
        "                else:\n",
        "                  print(f\"Skipping fill for column '{col_name}' as mode is None.\")\n",
        "\n",
        "\n",
        "            # Filling the null values in the integer type column with the mean\n",
        "            elif df.schema[col_name].dataType == IntegerType():\n",
        "                mean_col = df.agg(mean(col(col_name))).collect()[0][0]\n",
        "                # Check if mean_col is not None before filling\n",
        "                if mean_col is not None:\n",
        "                  df = df.withColumn(col_name, when(col(col_name).isNull(), mean_col).otherwise(col(col_name)))\n",
        "                else:\n",
        "                  print(f\"Skipping fill for column '{col_name}' as mean is None.\")\n",
        "\n",
        "            # Filing the null values in the float type column with the mean\n",
        "            elif df.schema[col_name].dataType == FloatType():\n",
        "                mean_col = df.agg(mean(col(col_name))).collect()[0][0]\n",
        "                # Check if mean_col is not None before filling\n",
        "                if mean_col is not None:\n",
        "                  df = df.withColumn(col_name, when(col(col_name).isNull(), mean_col).otherwise(col(col_name)))\n",
        "                else:\n",
        "                  print(f\"Skipping fill for column '{col_name}' as mean is None.\")\n",
        "\n",
        "    return df\n",
        "\n",
        "# Apply the function to each dataframe\n",
        "customers_df = fill_nulls_with_mean_or_mode(customers_df)\n",
        "orders_df = fill_nulls_with_mean_or_mode(orders_df)\n",
        "products_df = fill_nulls_with_mean_or_mode(products_df)\n",
        "\n",
        "\n",
        "print(\"Null counts for customers_df after filling nulls:\")\n",
        "customers_df.agg(*(sum(col(c).isNull().cast(\"integer\")).alias(c) for c in customers_df.columns)).show()\n",
        "\n",
        "print(\"Null counts for orders_df after filling nulls:\")\n",
        "orders_df.agg(*(sum(col(c).isNull().cast(\"integer\")).alias(c) for c in orders_df.columns)).show()\n",
        "\n",
        "print(\"Null counts for products_df after filling nulls:\")\n",
        "products_df.agg(*(sum(col(c).isNull().cast(\"integer\")).alias(c) for c in products_df.columns)).show()"
      ],
      "metadata": {
        "id": "9Y2v1ufu9QrP",
        "outputId": "d7567517-e93c-4d71-fd8b-1c3ed3be2bb3",
        "colab": {
          "base_uri": "https://localhost:8080/"
        }
      },
      "id": "9Y2v1ufu9QrP",
      "execution_count": 34,
      "outputs": [
        {
          "output_type": "stream",
          "name": "stdout",
          "text": [
            "In DataFrame column 'email' has 5 null values. Filling the null values with mode.\n",
            "In DataFrame column 'preferences' has 5 null values. Filling the null values with mode.\n",
            "In DataFrame column 'shipping_address' has 23 null values. Filling the null values with mode.\n",
            "Null counts for customers_df after filling nulls:\n",
            "+-----------+----+---+-----+-----------+-------+\n",
            "|customer_id|name|age|email|preferences|address|\n",
            "+-----------+----+---+-----+-----------+-------+\n",
            "|          0|   0|  0|    0|          0|      0|\n",
            "+-----------+----+---+-----+-----------+-------+\n",
            "\n",
            "Null counts for orders_df after filling nulls:\n",
            "+--------+-----------+----------+-----+----------------+------------+\n",
            "|order_id|customer_id|order_date|items|shipping_address|total_amount|\n",
            "+--------+-----------+----------+-----+----------------+------------+\n",
            "|       0|          0|         0|    0|               0|           0|\n",
            "+--------+-----------+----------+-----+----------------+------------+\n",
            "\n",
            "Null counts for products_df after filling nulls:\n",
            "+----------+----+--------+-----+----+\n",
            "|product_id|name|category|price|tags|\n",
            "+----------+----+--------+-----+----+\n",
            "|         0|   0|       0|    0|   0|\n",
            "+----------+----+--------+-----+----+\n",
            "\n"
          ]
        }
      ]
    },
    {
      "cell_type": "markdown",
      "source": [
        "Compute total spending by each customer"
      ],
      "metadata": {
        "id": "leWQKXvgtabD"
      },
      "id": "leWQKXvgtabD"
    },
    {
      "cell_type": "code",
      "source": [
        "# Total spending by each customer\n",
        "customer_spending = orders_df.groupBy(\"customer_id\").agg(sum(\"total_amount\").alias(\"total_spending\"))\n",
        "customer_spending = customer_spending.orderBy(\"customer_id\")\n",
        "print(\"Total spending by each customer:\")\n",
        "customer_spending.show()"
      ],
      "metadata": {
        "colab": {
          "base_uri": "https://localhost:8080/"
        },
        "id": "YuWuWjXOtfUk",
        "outputId": "72521bd8-2f17-41c2-84c6-95cef777c613"
      },
      "id": "YuWuWjXOtfUk",
      "execution_count": 36,
      "outputs": [
        {
          "output_type": "stream",
          "name": "stdout",
          "text": [
            "Total spending by each customer:\n",
            "+-----------+------------------+\n",
            "|customer_id|    total_spending|\n",
            "+-----------+------------------+\n",
            "| CUST000001| 7837.950028419495|\n",
            "| CUST000002| 6334.889953613281|\n",
            "| CUST000003| 8870.059913635254|\n",
            "| CUST000004| 4024.570053100586|\n",
            "| CUST000005| 6235.429955482483|\n",
            "| CUST000006|10116.099697589874|\n",
            "| CUST000007|4060.5299305915833|\n",
            "| CUST000008|            3159.5|\n",
            "| CUST000009|  4424.84614944458|\n",
            "| CUST000010| 2295.570068359375|\n",
            "| CUST000011| 5725.100067138672|\n",
            "| CUST000012| 2700.850028991699|\n",
            "| CUST000013| 8379.286041259766|\n",
            "| CUST000014|2717.8399658203125|\n",
            "| CUST000015|4083.1600646972656|\n",
            "| CUST000016|13439.240074157715|\n",
            "| CUST000017| 7496.780090332031|\n",
            "| CUST000018|1528.8999633789062|\n",
            "| CUST000019| 7249.889976501465|\n",
            "| CUST000020|  1283.52001953125|\n",
            "+-----------+------------------+\n",
            "only showing top 20 rows\n",
            "\n"
          ]
        }
      ]
    },
    {
      "cell_type": "markdown",
      "source": [
        "Identify top 3 products per customer by quantity"
      ],
      "metadata": {
        "id": "gxW-U2EZuBP3"
      },
      "id": "gxW-U2EZuBP3"
    },
    {
      "cell_type": "code",
      "source": [
        "from pyspark.sql.functions import explode, split, regexp_extract, rank, from_json, col, sum as sum_, struct\n",
        "from pyspark.sql.types import ArrayType, StructType, StructField, StringType, IntegerType, FloatType\n",
        "from pyspark.sql.window import Window\n",
        "\n",
        "# Define the schema for the items within the JSON string\n",
        "item_schema = ArrayType(\n",
        "    StructType([\n",
        "        StructField(\"product_id\", StringType(), True),\n",
        "        StructField(\"quantity\", IntegerType(), True),\n",
        "        StructField(\"price\", FloatType(), True) # Include price in schema as it's in the JSON\n",
        "    ])\n",
        ")\n",
        "\n",
        "# Parse the 'items' column from JSON string to a structured type\n",
        "orders_with_parsed_items = orders_df.withColumn(\"parsed_items\", from_json(col(\"items\"), item_schema))\n",
        "\n",
        "# Explode the 'parsed_items' array to get one row per item\n",
        "order_items_df = orders_with_parsed_items.withColumn(\"item\", explode(col(\"parsed_items\"))) \\\n",
        "    .select(\"customer_id\", col(\"item.product_id\").alias(\"product_id\"), col(\"item.quantity\").alias(\"quantity\"))\n",
        "\n",
        "# Group by customer and product to get total quantity per customer-product pair\n",
        "customer_product_quantity = order_items_df.groupBy(\"customer_id\", \"product_id\") \\\n",
        "    .agg(sum_(\"quantity\").alias(\"total_quantity\"))\n",
        "\n",
        "# Define a window function to rank products within each customer\n",
        "window_spec = Window.partitionBy(\"customer_id\").orderBy(col(\"total_quantity\").desc())\n",
        "\n",
        "# Apply the window function to rank products\n",
        "ranked_products = customer_product_quantity.withColumn(\"rank\", rank().over(window_spec))\n",
        "\n",
        "# Filter for the top 3 products per customer\n",
        "top_3_products_per_customer = ranked_products.filter(col(\"rank\") <= 3)\n",
        "\n",
        "print(\"Top 3 products per customer by quantity:\")\n",
        "top_3_products_per_customer.show()"
      ],
      "metadata": {
        "colab": {
          "base_uri": "https://localhost:8080/"
        },
        "id": "98lhaNywuA04",
        "outputId": "99e7c935-bc9f-4e62-e62b-16822ad5dded"
      },
      "id": "98lhaNywuA04",
      "execution_count": 44,
      "outputs": [
        {
          "output_type": "stream",
          "name": "stdout",
          "text": [
            "Top 3 products per customer by quantity:\n",
            "+-----------+----------+--------------+----+\n",
            "|customer_id|product_id|total_quantity|rank|\n",
            "+-----------+----------+--------------+----+\n",
            "| CUST000001| PROD00002|            12|   1|\n",
            "| CUST000001| PROD00001|            11|   2|\n",
            "| CUST000001| PROD00003|             7|   3|\n",
            "| CUST000002| PROD00009|             8|   1|\n",
            "| CUST000002| PROD00007|             6|   2|\n",
            "| CUST000002| PROD00001|             5|   3|\n",
            "| CUST000002| PROD00010|             5|   3|\n",
            "| CUST000003| PROD00004|            12|   1|\n",
            "| CUST000003| PROD00005|             7|   2|\n",
            "| CUST000003| PROD00001|             7|   2|\n",
            "| CUST000004| PROD00002|             6|   1|\n",
            "| CUST000004| PROD00010|             5|   2|\n",
            "| CUST000004| PROD00007|             3|   3|\n",
            "| CUST000004| PROD00006|             3|   3|\n",
            "| CUST000004| PROD00001|             3|   3|\n",
            "| CUST000005| PROD00008|            10|   1|\n",
            "| CUST000005| PROD00003|             6|   2|\n",
            "| CUST000005| PROD00005|             6|   2|\n",
            "| CUST000005| PROD00002|             6|   2|\n",
            "| CUST000006| PROD00009|            11|   1|\n",
            "+-----------+----------+--------------+----+\n",
            "only showing top 20 rows\n",
            "\n"
          ]
        }
      ]
    },
    {
      "cell_type": "markdown",
      "source": [
        "Create a summary dataframe with\n",
        "•customer id\n",
        "•total orders\n",
        "•total spent\n",
        "•top 3 product ids"
      ],
      "metadata": {
        "id": "YI6BnK2putRL"
      },
      "id": "YI6BnK2putRL"
    },
    {
      "cell_type": "code",
      "source": [
        "from pyspark.sql.functions import collect_list, concat_ws\n",
        "\n",
        "# Calculate total orders per customer\n",
        "customer_total_orders = orders_df.groupBy(\"customer_id\").count().withColumnRenamed(\"count\", \"total_orders\")\n",
        "\n",
        "# Join total orders and total spending\n",
        "summary_df = customer_total_orders.join(customer_spending, \"customer_id\")\n",
        "\n",
        "# Collect the top 3 product IDs into a list for each customer\n",
        "top_products_list = top_3_products_per_customer.groupBy(\"customer_id\") \\\n",
        "    .agg(collect_list(\"product_id\").alias(\"top_product_ids\"))\n",
        "\n",
        "# Join the summary dataframe with the top products list\n",
        "summary_df = summary_df.join(top_products_list, \"customer_id\")\n",
        "\n",
        "# Display the summary dataframe\n",
        "print(\"Summary DataFrame:\")\n",
        "summary_df.show(truncate=False)"
      ],
      "metadata": {
        "id": "zH9mVsr6zgcX",
        "outputId": "2cdf6474-9745-4bf6-b862-e4c87f3642d1",
        "colab": {
          "base_uri": "https://localhost:8080/"
        }
      },
      "id": "zH9mVsr6zgcX",
      "execution_count": 45,
      "outputs": [
        {
          "output_type": "stream",
          "name": "stdout",
          "text": [
            "Summary DataFrame:\n",
            "+-----------+------------+------------------+-------------------------------------------------------+\n",
            "|customer_id|total_orders|total_spending    |top_product_ids                                        |\n",
            "+-----------+------------+------------------+-------------------------------------------------------+\n",
            "|CUST000084 |4           |5978.809997558594 |[PROD00004, PROD00005, PROD00003]                      |\n",
            "|CUST000082 |3           |4824.7000732421875|[PROD00003, PROD00001, PROD00002, PROD00007, PROD00004]|\n",
            "|CUST000007 |5           |4060.5299305915833|[PROD00004, PROD00006, PROD00008]                      |\n",
            "|CUST000015 |4           |4083.1600646972656|[PROD00003, PROD00009, PROD00008, PROD00002]           |\n",
            "|CUST000099 |7           |8306.859985351562 |[PROD00003, PROD00005, PROD00007]                      |\n",
            "|CUST000075 |5           |6893.740081787109 |[PROD00005, PROD00001, PROD00003, PROD00007]           |\n",
            "|CUST000085 |6           |4631.476043701172 |[PROD00001, PROD00009, PROD00007, PROD00010]           |\n",
            "|CUST000040 |2           |2406.1160888671875|[PROD00001, PROD00006, PROD00007]                      |\n",
            "|CUST000018 |2           |1528.8999633789062|[PROD00005, PROD00006, PROD00007]                      |\n",
            "|CUST000003 |9           |8870.059913635254 |[PROD00004, PROD00005, PROD00001]                      |\n",
            "|CUST000049 |4           |3702.6199645996094|[PROD00008, PROD00004, PROD00006, PROD00005, PROD00003]|\n",
            "|CUST000077 |5           |5332.550094604492 |[PROD00010, PROD00002, PROD00008]                      |\n",
            "|CUST000047 |7           |8009.660064697266 |[PROD00009, PROD00004, PROD00010, PROD00007, PROD00008]|\n",
            "|CUST000056 |4           |6371.199951171875 |[PROD00009, PROD00007, PROD00010]                      |\n",
            "|CUST000035 |5           |5080.709930419922 |[PROD00009, PROD00010, PROD00003]                      |\n",
            "|CUST000026 |5           |3828.280059814453 |[PROD00001, PROD00010, PROD00004]                      |\n",
            "|CUST000059 |7           |8158.830032348633 |[PROD00008, PROD00006, PROD00010]                      |\n",
            "|CUST000064 |7           |7825.330169677734 |[PROD00003, PROD00004, PROD00002]                      |\n",
            "|CUST000096 |4           |2994.599998474121 |[PROD00008, PROD00004, PROD00005]                      |\n",
            "|CUST000044 |6           |6232.240135192871 |[PROD00006, PROD00009, PROD00008, PROD00005]           |\n",
            "+-----------+------------+------------------+-------------------------------------------------------+\n",
            "only showing top 20 rows\n",
            "\n"
          ]
        }
      ]
    },
    {
      "cell_type": "markdown",
      "source": [
        "Display top 50 customers in terms of total orders"
      ],
      "metadata": {
        "id": "UP5hG4e8zvYV"
      },
      "id": "UP5hG4e8zvYV"
    },
    {
      "cell_type": "code",
      "source": [
        "# Order the summary DataFrame by total orders in descending order\n",
        "top_50_customers_by_orders = summary_df.orderBy(col(\"total_orders\").desc())\n",
        "\n",
        "# Display the top 50 customers\n",
        "print(\"Top 50 customers in terms of total orders:\")\n",
        "top_50_customers_by_orders.show(50, truncate=False)"
      ],
      "metadata": {
        "id": "Yp_JLJnCzvGE",
        "outputId": "9771ebc9-909a-46ef-c727-1e52ad01e345",
        "colab": {
          "base_uri": "https://localhost:8080/"
        }
      },
      "id": "Yp_JLJnCzvGE",
      "execution_count": 46,
      "outputs": [
        {
          "output_type": "stream",
          "name": "stdout",
          "text": [
            "Top 50 customers in terms of total orders:\n",
            "+-----------+------------+------------------+------------------------------------------------------------------+\n",
            "|customer_id|total_orders|total_spending    |top_product_ids                                                   |\n",
            "+-----------+------------+------------------+------------------------------------------------------------------+\n",
            "|CUST000033 |12          |14896.74008178711 |[PROD00002, PROD00001, PROD00005]                                 |\n",
            "|CUST000083 |11          |12215.219970703125|[PROD00009, PROD00004, PROD00006, PROD00003, PROD00002]           |\n",
            "|CUST000006 |10          |10116.099697589874|[PROD00009, PROD00006, PROD00010]                                 |\n",
            "|CUST000003 |9           |8870.059913635254 |[PROD00004, PROD00005, PROD00001]                                 |\n",
            "|CUST000016 |9           |13439.240074157715|[PROD00003, PROD00006, PROD00007]                                 |\n",
            "|CUST000001 |9           |7837.950028419495 |[PROD00002, PROD00001, PROD00003]                                 |\n",
            "|CUST000050 |9           |10136.719940185547|[PROD00003, PROD00007, PROD00009]                                 |\n",
            "|CUST000071 |9           |9687.320045471191 |[PROD00009, PROD00006, PROD00008]                                 |\n",
            "|CUST000054 |8           |7758.959892749786 |[PROD00003, PROD00002, PROD00004]                                 |\n",
            "|CUST000055 |8           |5199.350014209747 |[PROD00004, PROD00008, PROD00001]                                 |\n",
            "|CUST000090 |8           |8016.246063232422 |[PROD00008, PROD00005, PROD00010]                                 |\n",
            "|CUST000017 |8           |7496.780090332031 |[PROD00010, PROD00007, PROD00004]                                 |\n",
            "|CUST000034 |8           |7249.126129150391 |[PROD00009, PROD00004, PROD00003, PROD00010, PROD00008, PROD00005]|\n",
            "|CUST000005 |8           |6235.429955482483 |[PROD00008, PROD00003, PROD00005, PROD00002]                      |\n",
            "|CUST000099 |7           |8306.859985351562 |[PROD00003, PROD00005, PROD00007]                                 |\n",
            "|CUST000047 |7           |8009.660064697266 |[PROD00009, PROD00004, PROD00010, PROD00007, PROD00008]           |\n",
            "|CUST000059 |7           |8158.830032348633 |[PROD00008, PROD00006, PROD00010]                                 |\n",
            "|CUST000064 |7           |7825.330169677734 |[PROD00003, PROD00004, PROD00002]                                 |\n",
            "|CUST000097 |7           |5842.349876403809 |[PROD00004, PROD00001, PROD00008, PROD00006]                      |\n",
            "|CUST000068 |7           |9170.069946289062 |[PROD00005, PROD00003, PROD00009]                                 |\n",
            "|CUST000058 |7           |9482.508178710938 |[PROD00010, PROD00008, PROD00009, PROD00005]                      |\n",
            "|CUST000091 |7           |6792.569976806641 |[PROD00001, PROD00009, PROD00010]                                 |\n",
            "|CUST000074 |7           |8760.049880981445 |[PROD00005, PROD00001, PROD00006]                                 |\n",
            "|CUST000013 |7           |8379.286041259766 |[PROD00008, PROD00007, PROD00005]                                 |\n",
            "|CUST000021 |7           |9579.229858398438 |[PROD00006, PROD00010, PROD00001]                                 |\n",
            "|CUST000019 |7           |7249.889976501465 |[PROD00008, PROD00007, PROD00004, PROD00005]                      |\n",
            "|CUST000045 |7           |9210.699920654297 |[PROD00006, PROD00010, PROD00009]                                 |\n",
            "|CUST000085 |6           |4631.476043701172 |[PROD00001, PROD00009, PROD00007, PROD00010]                      |\n",
            "|CUST000044 |6           |6232.240135192871 |[PROD00006, PROD00009, PROD00008, PROD00005]                      |\n",
            "|CUST000072 |6           |2652.719970703125 |[PROD00001, PROD00005, PROD00008]                                 |\n",
            "|CUST000086 |6           |3773.839973449707 |[PROD00002, PROD00010, PROD00004]                                 |\n",
            "|CUST000060 |6           |4232.590026855469 |[PROD00010, PROD00001, PROD00006, PROD00005]                      |\n",
            "|CUST000076 |6           |5699.420036315918 |[PROD00001, PROD00006, PROD00003, PROD00005]                      |\n",
            "|CUST000095 |6           |7170.100036621094 |[PROD00005, PROD00009, PROD00004, PROD00010]                      |\n",
            "|CUST000031 |6           |3778.859920501709 |[PROD00001, PROD00007, PROD00004, PROD00009]                      |\n",
            "|CUST000002 |6           |6334.889953613281 |[PROD00009, PROD00007, PROD00001, PROD00010]                      |\n",
            "|CUST000007 |5           |4060.5299305915833|[PROD00004, PROD00006, PROD00008]                                 |\n",
            "|CUST000075 |5           |6893.740081787109 |[PROD00005, PROD00001, PROD00003, PROD00007]                      |\n",
            "|CUST000077 |5           |5332.550094604492 |[PROD00010, PROD00002, PROD00008]                                 |\n",
            "|CUST000035 |5           |5080.709930419922 |[PROD00009, PROD00010, PROD00003]                                 |\n",
            "|CUST000026 |5           |3828.280059814453 |[PROD00001, PROD00010, PROD00004]                                 |\n",
            "|CUST000025 |5           |6006.049850463867 |[PROD00003, PROD00010, PROD00002, PROD00005]                      |\n",
            "|CUST000011 |5           |5725.100067138672 |[PROD00001, PROD00009, PROD00010, PROD00003]                      |\n",
            "|CUST000080 |5           |3792.260078430176 |[PROD00001, PROD00005, PROD00002]                                 |\n",
            "|CUST000094 |5           |5849.740074157715 |[PROD00003, PROD00007, PROD00010, PROD00008]                      |\n",
            "|CUST000052 |5           |6478.939866065979 |[PROD00005, PROD00002, PROD00009]                                 |\n",
            "|CUST000046 |5           |6769.469970703125 |[PROD00010, PROD00003, PROD00006]                                 |\n",
            "|CUST000051 |5           |5198.650054931641 |[PROD00005, PROD00006, PROD00001]                                 |\n",
            "|CUST000063 |5           |4857.3760986328125|[PROD00009, PROD00007, PROD00002]                                 |\n",
            "|CUST000093 |5           |6600.066162109375 |[PROD00005, PROD00008, PROD00001, PROD00006, PROD00004]           |\n",
            "+-----------+------------+------------------+------------------------------------------------------------------+\n",
            "only showing top 50 rows\n",
            "\n"
          ]
        }
      ]
    }
  ],
  "metadata": {
    "kernelspec": {
      "display_name": ".venv",
      "language": "python",
      "name": "python3"
    },
    "language_info": {
      "codemirror_mode": {
        "name": "ipython",
        "version": 3
      },
      "file_extension": ".py",
      "mimetype": "text/x-python",
      "name": "python",
      "nbconvert_exporter": "python",
      "pygments_lexer": "ipython3",
      "version": "3.10.12"
    },
    "colab": {
      "provenance": [],
      "include_colab_link": true
    }
  },
  "nbformat": 4,
  "nbformat_minor": 5
}