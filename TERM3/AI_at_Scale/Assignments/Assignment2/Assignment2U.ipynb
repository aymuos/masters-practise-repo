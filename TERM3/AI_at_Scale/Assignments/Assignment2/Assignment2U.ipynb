{
  "nbformat": 4,
  "nbformat_minor": 0,
  "metadata": {
    "colab": {
      "provenance": [],
      "authorship_tag": "ABX9TyPuOaaKgMgzHPFB75fJ/utv",
      "include_colab_link": true
    },
    "kernelspec": {
      "name": "python3",
      "display_name": "Python 3"
    },
    "language_info": {
      "name": "python"
    }
  },
  "cells": [
    {
      "cell_type": "markdown",
      "metadata": {
        "id": "view-in-github",
        "colab_type": "text"
      },
      "source": [
        "<a href=\"https://colab.research.google.com/github/aymuos/masters-practise-repo/blob/main/TERM3/AI_at_Scale/Assignments/Assignment2/Assignment2U.ipynb\" target=\"_parent\"><img src=\"https://colab.research.google.com/assets/colab-badge.svg\" alt=\"Open In Colab\"/></a>"
      ]
    },
    {
      "cell_type": "code",
      "execution_count": 18,
      "metadata": {
        "id": "cBC68pZCaSow",
        "colab": {
          "base_uri": "https://localhost:8080/"
        },
        "outputId": "bb4c60a1-1892-4aa1-bc0e-e2caee8f2c44"
      },
      "outputs": [
        {
          "output_type": "stream",
          "name": "stdout",
          "text": [
            "Requirement already satisfied: pyspark in /usr/local/lib/python3.11/dist-packages (3.5.1)\n",
            "Requirement already satisfied: pandas in /usr/local/lib/python3.11/dist-packages (2.2.2)\n",
            "Requirement already satisfied: imbalanced-learn in /usr/local/lib/python3.11/dist-packages (0.13.0)\n",
            "Requirement already satisfied: py4j==0.10.9.7 in /usr/local/lib/python3.11/dist-packages (from pyspark) (0.10.9.7)\n",
            "Requirement already satisfied: numpy>=1.23.2 in /usr/local/lib/python3.11/dist-packages (from pandas) (2.0.2)\n",
            "Requirement already satisfied: python-dateutil>=2.8.2 in /usr/local/lib/python3.11/dist-packages (from pandas) (2.9.0.post0)\n",
            "Requirement already satisfied: pytz>=2020.1 in /usr/local/lib/python3.11/dist-packages (from pandas) (2025.2)\n",
            "Requirement already satisfied: tzdata>=2022.7 in /usr/local/lib/python3.11/dist-packages (from pandas) (2025.2)\n",
            "Requirement already satisfied: scipy<2,>=1.10.1 in /usr/local/lib/python3.11/dist-packages (from imbalanced-learn) (1.15.3)\n",
            "Requirement already satisfied: scikit-learn<2,>=1.3.2 in /usr/local/lib/python3.11/dist-packages (from imbalanced-learn) (1.6.1)\n",
            "Requirement already satisfied: sklearn-compat<1,>=0.1 in /usr/local/lib/python3.11/dist-packages (from imbalanced-learn) (0.1.3)\n",
            "Requirement already satisfied: joblib<2,>=1.1.1 in /usr/local/lib/python3.11/dist-packages (from imbalanced-learn) (1.5.1)\n",
            "Requirement already satisfied: threadpoolctl<4,>=2.0.0 in /usr/local/lib/python3.11/dist-packages (from imbalanced-learn) (3.6.0)\n",
            "Requirement already satisfied: six>=1.5 in /usr/local/lib/python3.11/dist-packages (from python-dateutil>=2.8.2->pandas) (1.17.0)\n"
          ]
        }
      ],
      "source": [
        "!pip install pyspark pandas imbalanced-learn"
      ]
    },
    {
      "cell_type": "markdown",
      "source": [
        "Use the Bank Marketing dataset (saved in drive) to build a binary\n",
        "classifier that predicts whether a customer will subscribe to a term deposit\n",
        "using Spark MLlib.\n",
        "\n",
        "\n",
        "Do the following tasks on the dataset:\n",
        "\n",
        "\n",
        "Problem 1 : Data Understanding (Marks : 10)"
      ],
      "metadata": {
        "id": "W7fzCKr8sYSx"
      }
    },
    {
      "cell_type": "code",
      "source": [
        "from pyspark.sql import SparkSession\n",
        "import pandas as pd\n",
        "from pyspark.sql.functions import regexp_replace, col, countDistinct, col, sum\n",
        "from pyspark.sql.types import StringType, DoubleType, IntegerType ,StructType,StructField\n",
        "from pyspark.ml.feature import Imputer, VectorAssembler,StandardScaler\n",
        "from pyspark.ml.tuning import CrossValidator,ParamGridBuilder\n",
        "import time\n",
        "from pyspark.ml.regression import RandomForestRegressor, DecisionTreeRegressor\n",
        "from pyspark.ml import PipelineModel"
      ],
      "metadata": {
        "id": "98UUQTdqtgxG"
      },
      "execution_count": 19,
      "outputs": []
    },
    {
      "cell_type": "code",
      "metadata": {
        "colab": {
          "base_uri": "https://localhost:8080/"
        },
        "id": "4e3829ee",
        "outputId": "361dec4c-3fd9-4009-fa25-2958d85167c0"
      },
      "source": [
        "import csv\n",
        "\n",
        "def sniff_delimiter(file_path):\n",
        "    with open(file_path, 'r') as f:\n",
        "        # Read a sample of the file\n",
        "        sample = f.read(4096)\n",
        "        # Use the sniffer to guess the delimiter\n",
        "        sniffer = csv.Sniffer()\n",
        "        try:\n",
        "            dialect = sniffer.sniff(sample)\n",
        "            return dialect.delimiter\n",
        "        except csv.Error:\n",
        "            return \"Could not determine delimiter automatically. Please inspect the file manually.\"\n",
        "\n",
        "file_path = 'bank-full.csv'\n",
        "delimiter = sniff_delimiter(file_path)\n",
        "print(f\"Detected delimiter: {delimiter}\")"
      ],
      "execution_count": 20,
      "outputs": [
        {
          "output_type": "stream",
          "name": "stdout",
          "text": [
            "Detected delimiter: ;\n"
          ]
        }
      ]
    },
    {
      "cell_type": "code",
      "source": [
        "def get_schema():\n",
        "    return StructType([\n",
        "    StructField(\"age\", IntegerType(), True),\n",
        "    StructField(\"job\", StringType(), True),\n",
        "    StructField(\"marital\", StringType(), True),\n",
        "    StructField(\"education\", StringType(), True),\n",
        "    StructField(\"default\", StringType(), True),\n",
        "    StructField(\"balance\", DoubleType(), True),\n",
        "    StructField(\"housing\", StringType(), True),\n",
        "    StructField(\"loan\", StringType(), True),\n",
        "    StructField(\"contact\", StringType(), True),\n",
        "    StructField(\"day\", IntegerType(), True),\n",
        "    StructField(\"month\", StringType(), True),\n",
        "    StructField(\"duration\", IntegerType(), True),\n",
        "    StructField(\"campaign\", IntegerType(), True),\n",
        "    StructField(\"pdays\", IntegerType(), True),\n",
        "    StructField(\"previous\", IntegerType(), True),\n",
        "    StructField(\"poutcome\", StringType(), True),\n",
        "    StructField(\"y\", StringType(), True)\n",
        "\n",
        "])"
      ],
      "metadata": {
        "id": "nVyGDU_XvuWL"
      },
      "execution_count": 40,
      "outputs": []
    },
    {
      "cell_type": "code",
      "source": [
        "# Load the dataset and print schema\n",
        "def create_spark_session(executor_cores=\"1\", max_cores=\"2\", executor_memory=\"1g\"):\n",
        "    return SparkSession.builder \\\n",
        "        .appName(\"Assignment2_ch24m571\") \\\n",
        "        .config(\"spark.executor.cores\", executor_cores) \\\n",
        "        .config(\"spark.cores.max\", max_cores) \\\n",
        "        .config(\"spark.executor.memory\", executor_memory) \\\n",
        "        .config(\"spark.driver.memory\", \"2g\") \\\n",
        "        .getOrCreate()\n",
        "# spark_c = SparkSession.builder \\\n",
        "#     .appName(\"Assignment2\") \\\n",
        "#     .config(\"spark.executor.cores\",\"2\") \\\n",
        "#     .config(\"spark.executor.memory\", \"1g\") \\\n",
        "#     .config(\"spark.driver.memory\", \"2g\") \\\n",
        "#     .getOrCreate()\n",
        "\n",
        "# data = spark_c.read.csv(\"bank-full.csv\", header=True, schema=customSchema, sep=';')\n",
        "# data.printSchema()"
      ],
      "metadata": {
        "id": "KPvlnTRUglYj"
      },
      "execution_count": 42,
      "outputs": []
    },
    {
      "cell_type": "code",
      "source": [
        "# data.show()"
      ],
      "metadata": {
        "colab": {
          "base_uri": "https://localhost:8080/"
        },
        "id": "On-X6aVQui-a",
        "outputId": "83c29d09-c213-495c-ffe7-a06ad0ca1ace"
      },
      "execution_count": 23,
      "outputs": [
        {
          "output_type": "stream",
          "name": "stdout",
          "text": [
            "+---+------------+--------+---------+-------+-------+-------+----+-------+---+-----+--------+--------+-----+--------+--------+---+\n",
            "|age|         job| marital|education|default|balance|housing|loan|contact|day|month|duration|campaign|pdays|previous|poutcome|  y|\n",
            "+---+------------+--------+---------+-------+-------+-------+----+-------+---+-----+--------+--------+-----+--------+--------+---+\n",
            "| 58|  management| married| tertiary|     no| 2143.0|    yes|  no|unknown|  5|  may|     261|       1|   -1|       0| unknown| no|\n",
            "| 44|  technician|  single|secondary|     no|   29.0|    yes|  no|unknown|  5|  may|     151|       1|   -1|       0| unknown| no|\n",
            "| 33|entrepreneur| married|secondary|     no|    2.0|    yes| yes|unknown|  5|  may|      76|       1|   -1|       0| unknown| no|\n",
            "| 47| blue-collar| married|  unknown|     no| 1506.0|    yes|  no|unknown|  5|  may|      92|       1|   -1|       0| unknown| no|\n",
            "| 33|     unknown|  single|  unknown|     no|    1.0|     no|  no|unknown|  5|  may|     198|       1|   -1|       0| unknown| no|\n",
            "| 35|  management| married| tertiary|     no|  231.0|    yes|  no|unknown|  5|  may|     139|       1|   -1|       0| unknown| no|\n",
            "| 28|  management|  single| tertiary|     no|  447.0|    yes| yes|unknown|  5|  may|     217|       1|   -1|       0| unknown| no|\n",
            "| 42|entrepreneur|divorced| tertiary|    yes|    2.0|    yes|  no|unknown|  5|  may|     380|       1|   -1|       0| unknown| no|\n",
            "| 58|     retired| married|  primary|     no|  121.0|    yes|  no|unknown|  5|  may|      50|       1|   -1|       0| unknown| no|\n",
            "| 43|  technician|  single|secondary|     no|  593.0|    yes|  no|unknown|  5|  may|      55|       1|   -1|       0| unknown| no|\n",
            "| 41|      admin.|divorced|secondary|     no|  270.0|    yes|  no|unknown|  5|  may|     222|       1|   -1|       0| unknown| no|\n",
            "| 29|      admin.|  single|secondary|     no|  390.0|    yes|  no|unknown|  5|  may|     137|       1|   -1|       0| unknown| no|\n",
            "| 53|  technician| married|secondary|     no|    6.0|    yes|  no|unknown|  5|  may|     517|       1|   -1|       0| unknown| no|\n",
            "| 58|  technician| married|  unknown|     no|   71.0|    yes|  no|unknown|  5|  may|      71|       1|   -1|       0| unknown| no|\n",
            "| 57|    services| married|secondary|     no|  162.0|    yes|  no|unknown|  5|  may|     174|       1|   -1|       0| unknown| no|\n",
            "| 51|     retired| married|  primary|     no|  229.0|    yes|  no|unknown|  5|  may|     353|       1|   -1|       0| unknown| no|\n",
            "| 45|      admin.|  single|  unknown|     no|   13.0|    yes|  no|unknown|  5|  may|      98|       1|   -1|       0| unknown| no|\n",
            "| 57| blue-collar| married|  primary|     no|   52.0|    yes|  no|unknown|  5|  may|      38|       1|   -1|       0| unknown| no|\n",
            "| 60|     retired| married|  primary|     no|   60.0|    yes|  no|unknown|  5|  may|     219|       1|   -1|       0| unknown| no|\n",
            "| 33|    services| married|secondary|     no|    0.0|    yes|  no|unknown|  5|  may|      54|       1|   -1|       0| unknown| no|\n",
            "+---+------------+--------+---------+-------+-------+-------+----+-------+---+-----+--------+--------+-----+--------+--------+---+\n",
            "only showing top 20 rows\n",
            "\n"
          ]
        }
      ]
    },
    {
      "cell_type": "code",
      "source": [
        "# Count how many customers subscribed (y = yes) vs not.\n",
        "\n",
        "subscription_counts = data.groupBy(\"y\").count()\n",
        "subscription_counts.show()\n"
      ],
      "metadata": {
        "colab": {
          "base_uri": "https://localhost:8080/"
        },
        "id": "tVNooT9XyZTK",
        "outputId": "f18fe576-7089-4e01-8e2f-6e68232d5202"
      },
      "execution_count": 24,
      "outputs": [
        {
          "output_type": "stream",
          "name": "stdout",
          "text": [
            "+---+-----+\n",
            "|  y|count|\n",
            "+---+-----+\n",
            "| no|39922|\n",
            "|yes| 5289|\n",
            "+---+-----+\n",
            "\n"
          ]
        }
      ]
    },
    {
      "cell_type": "code",
      "source": [
        "\n",
        "import matplotlib.pyplot as plt\n",
        "\n",
        "# spark to pandas df\n",
        "subscription_counts_pd = subscription_counts.toPandas()\n",
        "\n",
        "# pie chart\n",
        "plt.figure(figsize=(6, 6))\n",
        "plt.pie(subscription_counts_pd['count'], labels=subscription_counts_pd['y'], autopct='%1.1f%%', startangle=140)\n",
        "plt.title('Distribution of Subscriptions (y)')\n",
        "plt.axis('equal')\n",
        "plt.show()\n"
      ],
      "metadata": {
        "id": "tB-i8r_lytFY",
        "colab": {
          "base_uri": "https://localhost:8080/",
          "height": 521
        },
        "outputId": "a48fe3d6-d27f-46e3-d819-75746833d5e6"
      },
      "execution_count": 25,
      "outputs": [
        {
          "output_type": "display_data",
          "data": {
            "text/plain": [
              "<Figure size 600x600 with 1 Axes>"
            ],
            "image/png": "[encoded data removed]"
          },
          "metadata": {}
        }
      ]
    },
    {
      "cell_type": "code",
      "metadata": {
        "colab": {
          "base_uri": "https://localhost:8080/"
        },
        "id": "97879cca",
        "outputId": "ab18b832-802c-487c-f4dc-305cfb0ca954"
      },
      "source": [
        "# Print the distinct values of job and education and count of each value\n",
        "\n",
        "print(\"Distinct values and counts for 'job':\")\n",
        "data.groupBy(\"job\").count().show(truncate=False)\n",
        "\n",
        "print(\"Distinct values and counts for 'education':\")\n",
        "data.groupBy(\"education\").count().show(truncate=False)"
      ],
      "execution_count": 26,
      "outputs": [
        {
          "output_type": "stream",
          "name": "stdout",
          "text": [
            "Distinct values and counts for 'job':\n",
            "+-------------+-----+\n",
            "|job          |count|\n",
            "+-------------+-----+\n",
            "|management   |9458 |\n",
            "|retired      |2264 |\n",
            "|unknown      |288  |\n",
            "|self-employed|1579 |\n",
            "|student      |938  |\n",
            "|blue-collar  |9732 |\n",
            "|entrepreneur |1487 |\n",
            "|admin.       |5171 |\n",
            "|technician   |7597 |\n",
            "|services     |4154 |\n",
            "|housemaid    |1240 |\n",
            "|unemployed   |1303 |\n",
            "+-------------+-----+\n",
            "\n",
            "Distinct values and counts for 'education':\n",
            "+---------+-----+\n",
            "|education|count|\n",
            "+---------+-----+\n",
            "|unknown  |1857 |\n",
            "|tertiary |13301|\n",
            "|secondary|23202|\n",
            "|primary  |6851 |\n",
            "+---------+-----+\n",
            "\n"
          ]
        }
      ]
    },
    {
      "cell_type": "code",
      "source": [
        "# split the data in train and test dataset and report distribution of output values in train and test dataset\n",
        "\n",
        "train_df, test_df = data.randomSplit([.8, .2], seed=42)\n",
        "print(f\"\"\" {train_df.count()} rows -> training set | {test_df.count()} -> test set\"\"\")"
      ],
      "metadata": {
        "colab": {
          "base_uri": "https://localhost:8080/"
        },
        "id": "tMMp_al7z8si",
        "outputId": "e17abaee-63a2-49dd-8cac-33ca0bccb35a"
      },
      "execution_count": 27,
      "outputs": [
        {
          "output_type": "stream",
          "name": "stdout",
          "text": [
            " 36180 rows -> training set | 9031 -> test set\n"
          ]
        }
      ]
    },
    {
      "cell_type": "code",
      "source": [
        "train_counts = train_df.groupBy(\"y\").count().collect()\n",
        "yes_count = [row['count'] for row in train_counts if row['y'] == 'yes'][0]\n",
        "no_count = [row['count'] for row in train_counts if row['y'] == 'no'][0]\n",
        "imbalance_ratio = no_count / yes_count\n",
        "print(f\"Imbalance ratio (no/yes): {imbalance_ratio:.2f}\")"
      ],
      "metadata": {
        "colab": {
          "base_uri": "https://localhost:8080/"
        },
        "id": "pTBRiVD0YtP2",
        "outputId": "eae3ae72-57ee-4c55-c7af-22e7b21ffd51"
      },
      "execution_count": 28,
      "outputs": [
        {
          "output_type": "stream",
          "name": "stdout",
          "text": [
            "Imbalance ratio (no/yes): 7.45\n"
          ]
        }
      ]
    },
    {
      "cell_type": "markdown",
      "source": [
        "Data is heavily imbalanced , hence need to balance"
      ],
      "metadata": {
        "id": "2r6OvdabXzjl"
      }
    },
    {
      "cell_type": "code",
      "source": [
        "''' Use your favorite strategy to balance the dataset, if you find that data is imbalanced\n",
        "and is important to balance the dataset before training the model. Provide\n",
        "explanation of your decision. '''\n",
        "\n",
        "def apply_smoteenc_balancing(spark,train_df):\n",
        "  ''' since smoteenc works on pandas dataframe , we shall convert to pandas and work\n",
        "  '''\n",
        "  from imblearn.over_sampling import SMOTENC\n",
        "\n",
        "  try:\n",
        "    # Convert Spark DataFrame to Pandas DataFrame\n",
        "    pandas_df = train_df.toPandas()\n",
        "\n",
        "    # feature and target split\n",
        "\n",
        "    feature_cols = [col for col in pandas_df.columns if col != 'y']\n",
        "    X = pandas_df[feature_cols]\n",
        "    y = pandas_df['y']\n",
        "\n",
        "  # Identify categorical columns for SMOTENC\n",
        "    categorical_cols = ['job', 'marital', 'education', 'default', 'housing', 'loan', 'contact', 'month', 'poutcome']\n",
        "    categorical_indices = [X.columns.get_loc(col) for col in categorical_cols if col in X.columns]\n",
        "\n",
        "    print(f\"Categorical column indices for SMOTENC: {categorical_indices}\")\n",
        "    # Apply SMOTENC\n",
        "    smoteenc = SMOTENC(categorical_features=categorical_indices, random_state=42)\n",
        "    X_resampled, y_resampled = smoteenc.fit_resample(X, y)\n",
        "\n",
        "    # Create resampled DataFrame\n",
        "    resampled_df = X_resampled.copy()\n",
        "    resampled_df['y'] = y_resampled\n",
        "\n",
        "    print(f\"Original dataset size: {len(pandas_df)}\")\n",
        "    print(f\"Resampled dataset size: {len(resampled_df)}\")\n",
        "    print(\"Class distribution after SMOTEENC:\")\n",
        "    print(resampled_df['y'].value_counts())\n",
        "\n",
        "    resampled_spark_df = spark.createDataFrame(resampled_df)\n",
        "    return resampled_spark_df, True\n",
        "  except Exception as e:\n",
        "    print(f\"Error applying SMOTENC: {str(e)}\")\n",
        "    return train_df, False\n",
        "\n"
      ],
      "metadata": {
        "id": "md1XzcnV5xOs"
      },
      "execution_count": 29,
      "outputs": []
    },
    {
      "cell_type": "code",
      "source": [
        "apply_smoteenc_balancing(spark_c,train_df)"
      ],
      "metadata": {
        "colab": {
          "base_uri": "https://localhost:8080/"
        },
        "id": "VR66IfDbc2s1",
        "outputId": "7b79fc40-006f-40f0-c4d4-66e3fa359d7a"
      },
      "execution_count": 30,
      "outputs": [
        {
          "output_type": "stream",
          "name": "stdout",
          "text": [
            "Categorical column indices for SMOTENC: [1, 2, 3, 4, 6, 7, 8, 10, 15]\n",
            "Original dataset size: 36180\n",
            "Resampled dataset size: 63798\n",
            "Class distribution after SMOTEENC:\n",
            "y\n",
            "yes    31899\n",
            "no     31899\n",
            "Name: count, dtype: int64\n"
          ]
        },
        {
          "output_type": "execute_result",
          "data": {
            "text/plain": [
              "(DataFrame[age: bigint, job: string, marital: string, education: string, default: string, balance: double, housing: string, loan: string, contact: string, day: bigint, month: string, duration: bigint, campaign: bigint, pdays: bigint, previous: bigint, poutcome: string, y: string],\n",
              " True)"
            ]
          },
          "metadata": {},
          "execution_count": 30
        }
      ]
    },
    {
      "cell_type": "markdown",
      "source": [
        "Reasoning for applying SMOTENC as balancing strategy\n",
        "- for numerical categories it applies normal SMOTE\n",
        "- for categorical items it applies most frequent occurence from its neighouring values\n",
        "- this is applied to training data only\n",
        "- ideally this could be hyperparameter tuned"
      ],
      "metadata": {
        "id": "ZNmyB5LKeJ_y"
      }
    },
    {
      "cell_type": "markdown",
      "source": [
        "Q2--------------"
      ],
      "metadata": {
        "id": "9bMLZGXpghuE"
      }
    },
    {
      "cell_type": "code",
      "metadata": {
        "id": "c2607e97",
        "colab": {
          "base_uri": "https://localhost:8080/"
        },
        "outputId": "01d49fc5-778b-47fd-85b9-e82c162d4c3e"
      },
      "source": [
        "# Identify categorical and numerical columns.\n",
        "\n",
        "numerical_columns = [col for col in train_df.columns if isinstance(train_df.schema[col].dataType,DoubleType) or isinstance(train_df.schema[col].dataType,IntegerType)]\n",
        "\n",
        "categorical_columns = [col for col in train_df.columns if isinstance(train_df.schema[col].dataType,StringType)]\n",
        "\n",
        "print(\"Numerical columns:\", numerical_columns)\n",
        "print(\"Categorical columns:\", categorical_columns)"
      ],
      "execution_count": 31,
      "outputs": [
        {
          "output_type": "stream",
          "name": "stdout",
          "text": [
            "Numerical columns: ['age', 'balance', 'day', 'duration', 'campaign', 'pdays', 'previous']\n",
            "Categorical columns: ['job', 'marital', 'education', 'default', 'housing', 'loan', 'contact', 'month', 'poutcome', 'y']\n"
          ]
        }
      ]
    },
    {
      "cell_type": "code",
      "source": [
        "# Use StringIndexer and OneHotEncoder on all categorical features.\n",
        "\n",
        "from pyspark.ml.feature import StringIndexer, OneHotEncoder, VectorAssembler\n",
        "def problem_2_data_preprocessing(train_df, test_df):\n",
        "    \"\"\"Problem 2: Data Preprocessing\"\"\"\n",
        "    print(\"\\n\" + \"=\" * 60)\n",
        "    print(\"PROBLEM 2: DATA PREPROCESSING\")\n",
        "    print(\"=\" * 60)\n",
        "\n",
        "    categorical_columns = ['job', 'marital', 'education', 'default', 'housing', 'loan', 'contact', 'month', 'poutcome']\n",
        "    numerical_columns = ['age', 'balance', 'day', 'duration', 'campaign', 'pdays', 'previous']\n",
        "\n",
        "    indexers = [StringIndexer(inputCol=col, outputCol=f\"{col}_indexed\", handleInvalid=\"keep\")\n",
        "                    for col in categorical_columns]\n",
        "\n",
        "    encoders = [OneHotEncoder(inputCol=f\"{col}_indexed\", outputCol=f\"{col}_encoded\")\n",
        "                    for col in categorical_columns]\n",
        "\n",
        "\n",
        "    # Assemble all features using VectorAssembler.\n",
        "\n",
        "    feature_cols = numerical_columns + [f\"{col}_encoded\" for col in categorical_columns]\n",
        "    assembler = VectorAssembler(inputCols=feature_cols, outputCol=\"features\")\n",
        "\n",
        "    # Use StringIndexer on the label column y.\n",
        "    label_indexer = StringIndexer(inputCol=\"y\", outputCol=\"label\")\n",
        "\n",
        "    return indexers, encoders, assembler, label_indexer, feature_cols\n"
      ],
      "metadata": {
        "id": "5o2u6tu1BApq"
      },
      "execution_count": 32,
      "outputs": []
    },
    {
      "cell_type": "markdown",
      "source": [
        "Q3"
      ],
      "metadata": {
        "id": "jKdZmENtChAM"
      }
    },
    {
      "cell_type": "code",
      "source": [
        "'''\n",
        "Problem 3: Model Building (Marks : 10)\n",
        "1. Build a pipeline using Logistic Regression.\n",
        "2. Train a random forest.\n",
        "3. Evaluate using accuracy, precision, and recall.\n",
        "4. Print the name of the best model and show confusion matrix for the best model.\n",
        "'''\n",
        "from pyspark.ml.classification import LogisticRegression, RandomForestClassifier\n",
        "from pyspark.ml import Pipeline\n",
        "from pyspark.ml.evaluation import BinaryClassificationEvaluator, MulticlassClassificationEvaluator\n",
        "from pyspark.mllib.evaluation import MulticlassMetrics\n",
        "\n",
        "def problem_3_model_building(train_df, test_df, indexers, encoders, assembler, label_indexer):\n",
        "  # 1. LR model\n",
        "\n",
        "  lr = LogisticRegression(featuresCol=\"features\", labelCol=\"label\", weightCol=\"classWeight\")\n",
        "  lr_pipeline = Pipeline(stages=indexers + encoders + [assembler, label_indexer, lr])\n",
        "\n",
        "  print(\"Training Logistic Regression model...\")\n",
        "\n",
        "  start_time = time.time()\n",
        "  lr_model = lr_pipeline.fit(train_df)\n",
        "  lr_train_time = time.time() - start_time\n",
        "  print(f\"Logistic Regression training time: {lr_train_time:.2f} seconds\")\n",
        "\n",
        "\n",
        "  # 2. Random Forest\n",
        "  rf = RandomForestClassifier(featuresCol=\"features\", labelCol=\"label\", weightCol=\"classWeight\",\n",
        "                              numTrees=10, seed=42)\n",
        "  rf_pipeline = Pipeline(stages=indexers + encoders + [assembler, label_indexer, rf])\n",
        "\n",
        "  print(\"Training Random Forest model...\")\n",
        "  start_time = time.time()\n",
        "  rf_model = rf_pipeline.fit(train_df)\n",
        "  rf_train_time = time.time() - start_time\n",
        "  print(f\"Random Forest training time: {rf_train_time:.2f} seconds\")\n",
        "\n",
        "  # 3. Evaluate models\n",
        "  print(\"\\n3. Model Evaluation:\")\n",
        "\n",
        "  # Predictions\n",
        "  lr_predictions = lr_model.transform(test_df)\n",
        "  rf_predictions = rf_model.transform(test_df)\n",
        "\n",
        "  # Evaluators\n",
        "  accuracy_evaluator = MulticlassClassificationEvaluator(labelCol=\"label\", predictionCol=\"prediction\",\n",
        "                                                        metricName=\"accuracy\")\n",
        "  precision_evaluator = MulticlassClassificationEvaluator(labelCol=\"label\", predictionCol=\"prediction\",\n",
        "                                                          metricName=\"weightedPrecision\")\n",
        "  recall_evaluator = MulticlassClassificationEvaluator(labelCol=\"label\", predictionCol=\"prediction\",\n",
        "                                                      metricName=\"weightedRecall\")\n",
        "\n",
        "  # Calculate metrics\n",
        "  models_metrics = {}\n",
        "\n",
        "  for name, predictions in [(\"Logistic Regression\", lr_predictions), (\"Random Forest\", rf_predictions)]:\n",
        "      accuracy = accuracy_evaluator.evaluate(predictions)\n",
        "      precision = precision_evaluator.evaluate(predictions)\n",
        "      recall = recall_evaluator.evaluate(predictions)\n",
        "\n",
        "      models_metrics[name] = {\n",
        "          'accuracy': accuracy,\n",
        "          'precision': precision,\n",
        "          'recall': recall\n",
        "      }\n",
        "\n",
        "      print(f\"\\n{name} Metrics:\")\n",
        "      print(f\"Accuracy: {accuracy:.4f}\")\n",
        "      print(f\"Precision: {precision:.4f}\")\n",
        "      print(f\"Recall: {recall:.4f}\")\n",
        "  # 4. Find best model and show confusion matrix\n",
        "  best_model_name = max(models_metrics.keys(), key=lambda x: models_metrics[x]['accuracy'])\n",
        "  print(f\"\\nBest model: {best_model_name}\")\n",
        "\n",
        "  best_predictions = lr_predictions if best_model_name == \"Logistic Regression\" else rf_predictions\n",
        "\n",
        "  # Confusion Matrix\n",
        "  print(f\"\\nConfusion Matrix for {best_model_name}:\")\n",
        "  predictionAndLabels = best_predictions.select(\"prediction\", \"label\").rdd.map(lambda x: (float(x[0]), float(x[1])))\n",
        "  metrics = MulticlassMetrics(predictionAndLabels)\n",
        "  confusion_matrix = metrics.confusionMatrix().toArray()\n",
        "  print(confusion_matrix)\n",
        "\n",
        "  return lr_model, rf_model, models_metrics, best_model_name"
      ],
      "metadata": {
        "id": "7C-XS0h9CgwL"
      },
      "execution_count": 37,
      "outputs": []
    },
    {
      "cell_type": "markdown",
      "source": [
        "Q4 : Hyper parameter tuning"
      ],
      "metadata": {
        "id": "WOgXP6uskXVc"
      }
    },
    {
      "cell_type": "code",
      "source": [
        "'''Problem 4: Hyperparameter tuning and parallelism (Marks : 10)\n",
        "      1. Select hyperparameters for tuning and their values and justify your selection\n",
        "      2. Perform cross validation for random forest.\n",
        "\n",
        "      3. Compare the accuracy results of logistic regression, random forest without hyper-\n",
        "      parameter tuning, random forest with hyperparameter tuning models.\n",
        "'''\n",
        "\n",
        "def problem_4_hyperparameter_tuning(train_df, test_df, indexers, encoders, assembler, label_indexer, models_metrics):\n",
        "    \"\"\"Problem 4: Hyperparameter Tuning and Parallelism\"\"\"\n",
        "    print(\"\\n\" + \"=\" * 60)\n",
        "    print(\"PROBLEM 4: HYPERPARAMETER TUNING\")\n",
        "    print(\"=\" * 60)\n",
        "\n",
        "    # 1. Select hyperparameters for Random Forest\n",
        "    print(\"1. Hyperparameter selection for Random Forest:\")\n",
        "    print(\"Selected hyperparameters:\")\n",
        "    print(\"- numTrees: Controls the number of trees in the forest (more trees = better performance but slower)\")\n",
        "    print(\"- maxDepth: Controls overfitting (deeper trees can overfit)\")\n",
        "    print(\"- minInstancesPerNode: Prevents overfitting by requiring minimum samples per leaf\")\n",
        "\n",
        "    rf = RandomForestClassifier(featuresCol=\"features\", labelCol=\"label\", weightCol=\"classWeight\", seed=42)\n",
        "    rf_pipeline = Pipeline(stages=indexers + encoders + [assembler, label_indexer, rf])\n",
        "\n",
        "    # Parameter grid\n",
        "    paramGrid = ParamGridBuilder() \\\n",
        "        .addGrid(rf.numTrees, [10, 20, 30]) \\\n",
        "        .addGrid(rf.maxDepth, [5, 10, 15]) \\\n",
        "        .addGrid(rf.minInstancesPerNode, [1, 5, 10]) \\\n",
        "        .build()\n",
        "\n",
        "    # 2. Cross validation\n",
        "    print(f\"\\n2. Performing cross-validation with {len(paramGrid)} parameter combinations...\")\n",
        "\n",
        "    evaluator = MulticlassClassificationEvaluator(labelCol=\"label\", predictionCol=\"prediction\",\n",
        "                                                 metricName=\"accuracy\")\n",
        "\n",
        "    crossval = CrossValidator(estimator=rf_pipeline,\n",
        "                             estimatorParamMaps=paramGrid,\n",
        "                             evaluator=evaluator,\n",
        "                             numFolds=3,\n",
        "                             seed=42)\n",
        "\n",
        "    start_time = time.time()\n",
        "    cv_model = crossval.fit(train_df)\n",
        "    cv_train_time = time.time() - start_time\n",
        "    print(f\"Cross-validation training time: {cv_train_time:.2f} seconds\")\n",
        "\n",
        "    # Best model evaluation\n",
        "    best_rf_predictions = cv_model.transform(test_df)\n",
        "    best_rf_accuracy = evaluator.evaluate(best_rf_predictions)\n",
        "\n",
        "    # 3. Compare accuracies\n",
        "    print(\"\\n3. Accuracy Comparison:\")\n",
        "    print(f\"Logistic Regression: {models_metrics['Logistic Regression']['accuracy']:.4f}\")\n",
        "    print(f\"Random Forest (no tuning): {models_metrics['Random Forest']['accuracy']:.4f}\")\n",
        "    print(f\"Random Forest (with hyperparameter tuning): {best_rf_accuracy:.4f}\")\n",
        "\n",
        "    return cv_model, best_rf_accuracy"
      ],
      "metadata": {
        "id": "XpmYrZFshOSW"
      },
      "execution_count": 38,
      "outputs": []
    },
    {
      "cell_type": "code",
      "source": [
        "def problem_5_performance_profiling():\n",
        "    \"\"\"Problem 5: Performance Profiling\"\"\"\n",
        "    print(\"\\n\" + \"=\" * 60)\n",
        "    print(\"PROBLEM 5: PERFORMANCE PROFILING\")\n",
        "    print(\"=\" * 60)\n",
        "\n",
        "    from pyspark.sql.functions import col, count, sum as spark_sum, when, lit, create_map\n",
        "\n",
        "    configurations = [\n",
        "        {\"executor_cores\": \"1\", \"max_cores\": \"2\", \"executor_memory\": \"1g\", \"parallelism\": None},\n",
        "        {\"executor_cores\": \"2\", \"max_cores\": \"2\", \"executor_memory\": \"1g\", \"parallelism\": None},\n",
        "        {\"executor_cores\": \"2\", \"max_cores\": \"2\", \"executor_memory\": \"1g\", \"parallelism\": \"1\"},\n",
        "        {\"executor_cores\": \"2\", \"max_cores\": \"2\", \"executor_memory\": \"1g\", \"parallelism\": \"2\"}\n",
        "    ]\n",
        "\n",
        "    results = []\n",
        "\n",
        "    for i, config in enumerate(configurations):\n",
        "        print(f\"\\nConfiguration {i+1}: {config}\")\n",
        "\n",
        "        # Create new Spark session with specific configuration\n",
        "        spark = create_spark_session(config[\"executor_cores\"], config[\"max_cores\"], config[\"executor_memory\"])\n",
        "\n",
        "        if config[\"parallelism\"]:\n",
        "            spark.conf.set(\"spark.sql.adaptive.coalescePartitions.parallelismFirst\", \"true\")\n",
        "            spark.conf.set(\"spark.default.parallelism\", config[\"parallelism\"])\n",
        "\n",
        "        try:\n",
        "            # Time each section\n",
        "            times = {}\n",
        "\n",
        "            # Data loading\n",
        "            start_time = time.time()\n",
        "            data_path = \"bank-full.csv\"  # TODO: Update this path for server\n",
        "            customSchema = get_schema()\n",
        "            data = spark.read.csv(data_path, header=True, schema=customSchema, sep=';')\n",
        "            train_df, test_df = data.randomSplit([0.8, 0.2], seed=42)\n",
        "            times['Data Loading'] = time.time() - start_time\n",
        "\n",
        "            # Preprocessing\n",
        "            start_time = time.time()\n",
        "            categorical_cols = ['job', 'marital', 'education', 'default', 'housing', 'loan', 'contact', 'month', 'poutcome']\n",
        "            numerical_cols = ['age', 'balance', 'day', 'duration', 'campaign', 'pdays', 'previous']\n",
        "\n",
        "            indexers = [StringIndexer(inputCol=col, outputCol=f\"{col}_indexed\", handleInvalid=\"keep\")\n",
        "                       for col in categorical_cols]\n",
        "            encoders = [OneHotEncoder(inputCol=f\"{col}_indexed\", outputCol=f\"{col}_encoded\")\n",
        "                       for col in categorical_cols]\n",
        "            feature_cols = numerical_cols + [f\"{col}_encoded\" for col in categorical_cols]\n",
        "            assembler = VectorAssembler(inputCols=feature_cols, outputCol=\"features\")\n",
        "            label_indexer = StringIndexer(inputCol=\"y\", outputCol=\"label\")\n",
        "            times['Preprocessing'] = time.time() - start_time\n",
        "\n",
        "            # Model training\n",
        "            start_time = time.time()\n",
        "            train_df = train_df.withColumn(\"classWeight\", lit(1.0))  # Simplified for timing\n",
        "            rf = RandomForestClassifier(featuresCol=\"features\", labelCol=\"label\", numTrees=10, seed=42)\n",
        "            pipeline = Pipeline(stages=indexers + encoders + [assembler, label_indexer, rf])\n",
        "            model = pipeline.fit(train_df)\n",
        "            times['Model Training'] = time.time() - start_time\n",
        "\n",
        "            # Model evaluation\n",
        "            start_time = time.time()\n",
        "            predictions = model.transform(test_df)\n",
        "            accuracy = MulticlassClassificationEvaluator(labelCol=\"label\", predictionCol=\"prediction\",\n",
        "                                                       metricName=\"accuracy\").evaluate(predictions)\n",
        "            times['Model Evaluation'] = time.time() - start_time\n",
        "\n",
        "            total_time = sum(times.values())\n",
        "            times['Total'] = total_time\n",
        "\n",
        "            results.append({\n",
        "                'Configuration': f\"Cores: {config['executor_cores']}, Max: {config['max_cores']}, \" +\n",
        "                               f\"Memory: {config['executor_memory']}\" +\n",
        "                               (f\", Parallelism: {config['parallelism']}\" if config['parallelism'] else \"\"),\n",
        "                **times\n",
        "            })\n",
        "\n",
        "        except Exception as e:\n",
        "            print(f\"Error in configuration {i+1}: {str(e)}\")\n",
        "            results.append({\n",
        "                'Configuration': f\"Cores: {config['executor_cores']}, Max: {config['max_cores']}, \" +\n",
        "                               f\"Memory: {config['executor_memory']}\" +\n",
        "                               (f\", Parallelism: {config['parallelism']}\" if config['parallelism'] else \"\"),\n",
        "                'Error': str(e)\n",
        "            })\n",
        "\n",
        "        finally:\n",
        "            spark.stop()"
      ],
      "metadata": {
        "id": "asbZWUJVkpG7"
      },
      "execution_count": 41,
      "outputs": []
    }
  ]
}