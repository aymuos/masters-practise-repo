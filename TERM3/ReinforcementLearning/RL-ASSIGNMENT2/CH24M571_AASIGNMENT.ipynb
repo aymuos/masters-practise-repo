{
  "cells": [
    {
      "cell_type": "markdown",
      "metadata": {
        "id": "view-in-github",
        "colab_type": "text"
      },
      "source": [
        "<a href=\"https://colab.research.google.com/github/aymuos/masters-practise-repo/blob/main/TERM3/ReinforcementLearning/RL-ASSIGNMENT2/CH24M571_AASIGNMENT.ipynb\" target=\"_parent\"><img src=\"https://colab.research.google.com/assets/colab-badge.svg\" alt=\"Open In Colab\"/></a>"
      ]
    },
    {
      "cell_type": "markdown",
      "id": "5f323383",
      "metadata": {
        "id": "5f323383"
      },
      "source": [
        "Soumya Mukherjee - ch24m571"
      ]
    },
    {
      "cell_type": "code",
      "execution_count": 1,
      "id": "9c334467",
      "metadata": {
        "colab": {
          "base_uri": "https://localhost:8080/"
        },
        "id": "9c334467",
        "outputId": "1757cc0b-6dd7-48be-ba23-d40f9c6075e6"
      },
      "outputs": [
        {
          "output_type": "stream",
          "name": "stdout",
          "text": [
            "Requirement already satisfied: beautifulsoup4 in /usr/local/lib/python3.11/dist-packages (4.13.4)\n",
            "Requirement already satisfied: requests in /usr/local/lib/python3.11/dist-packages (2.32.3)\n",
            "Requirement already satisfied: soupsieve>1.2 in /usr/local/lib/python3.11/dist-packages (from beautifulsoup4) (2.7)\n",
            "Requirement already satisfied: typing-extensions>=4.0.0 in /usr/local/lib/python3.11/dist-packages (from beautifulsoup4) (4.14.1)\n",
            "Requirement already satisfied: charset-normalizer<4,>=2 in /usr/local/lib/python3.11/dist-packages (from requests) (3.4.3)\n",
            "Requirement already satisfied: idna<4,>=2.5 in /usr/local/lib/python3.11/dist-packages (from requests) (3.10)\n",
            "Requirement already satisfied: urllib3<3,>=1.21.1 in /usr/local/lib/python3.11/dist-packages (from requests) (2.5.0)\n",
            "Requirement already satisfied: certifi>=2017.4.17 in /usr/local/lib/python3.11/dist-packages (from requests) (2025.8.3)\n"
          ]
        }
      ],
      "source": [
        "!pip install beautifulsoup4 requests\n"
      ]
    },
    {
      "cell_type": "code",
      "source": [
        "# imports\n",
        "from collections import defaultdict, Counter\n",
        "from typing import List, Tuple, Dict\n",
        "import requests\n",
        "from bs4 import BeautifulSoup\n",
        "import numpy as np\n",
        "import random\n",
        "from math import log2"
      ],
      "metadata": {
        "id": "H5XVQv4KRyxb"
      },
      "id": "H5XVQv4KRyxb",
      "execution_count": 4,
      "outputs": []
    },
    {
      "cell_type": "code",
      "source": [],
      "metadata": {
        "id": "nI5fk5CCSeHp"
      },
      "id": "nI5fk5CCSeHp",
      "execution_count": 8,
      "outputs": []
    },
    {
      "cell_type": "code",
      "execution_count": 25,
      "id": "7a9da539",
      "metadata": {
        "colab": {
          "base_uri": "https://localhost:8080/"
        },
        "id": "7a9da539",
        "outputId": "12ab33a0-13c6-4982-ba94-44abf73394a7"
      },
      "outputs": [
        {
          "output_type": "stream",
          "name": "stdout",
          "text": [
            "Loaded 4309 valid words\n",
            "Step 1: Guess=TARS, Cats=1, Dogs=0, Remaining=4309\n",
            "Step 2: Guess=POET, Cats=1, Dogs=0, Remaining=1017\n",
            "Step 3: Guess=EINA, Cats=1, Dogs=0, Remaining=265\n",
            "Step 4: Guess=SLUE, Cats=1, Dogs=1, Remaining=69\n",
            "Step 5: Guess=URDE, Cats=1, Dogs=0, Remaining=7\n",
            "Step 6: Guess=SEXY, Cats=0, Dogs=4, Remaining=2\n",
            "Solved in 6 steps! Secret was SEXY\n"
          ]
        }
      ],
      "source": [
        "\n",
        "\n",
        "# -----------------\n",
        "# Load words function\n",
        "# -----------------\n",
        "def load_words(file_path: str = \"words.txt\") -> List[str]:\n",
        "    '''\n",
        "    This will return back a list of strings read from a local file,\n",
        "    filtered by length (4 letters) and with duplicates removed.\n",
        "    '''\n",
        "    words = []\n",
        "    try:\n",
        "\n",
        "      with open(\"words.txt\", 'r') as f:\n",
        "        for line in f:\n",
        "            # Split the line by whitespace and add each word to the list\n",
        "            for word in line.split():\n",
        "                if len(word) == 4 and len(set(word)) == 4: # Filter for 4-letter unique-letter words\n",
        "                    words.append(word)\n",
        "\n",
        "    except FileNotFoundError:\n",
        "        print(f\"Error: The file '{file_path}' was not found.\")\n",
        "        return []\n",
        "\n",
        "    return list(set(words))\n",
        "\n",
        "\n",
        "# -----------------\n",
        "# Feedback function\n",
        "# -----------------\n",
        "def cats_dogs(secret: str, guess: str) -> Tuple[int,int]:\n",
        "    \"\"\"Return (cats, dogs) feedback between secret and guess.\n",
        "       dogs = correct letter in correct position\n",
        "       cats = correct letter but wrong position\n",
        "    \"\"\"\n",
        "    dogs = sum(s == g for s,g in zip(secret, guess))\n",
        "    cats = sum((Counter(secret) & Counter(guess)).values()) - dogs\n",
        "    return cats, dogs\n",
        "\n",
        "def is_consistent(candidate: str, guess: str, feedback: Tuple[int,int]) -> bool:\n",
        "    \"\"\"Check if candidate word is consistent with given guess+feedback\"\"\"\n",
        "    return cats_dogs(candidate, guess) == feedback\n",
        "\n",
        "# -----------------\n",
        "# Minimax strategy (expensive but strong)\n",
        "# -----------------\n",
        "def partition_sizes_for_guess(guess: str, candidates: List[str]) -> Dict[Tuple[int,int], int]:\n",
        "    buckets = defaultdict(int)\n",
        "    for c in candidates:\n",
        "        buckets[cats_dogs(c, guess)] += 1\n",
        "    return buckets\n",
        "\n",
        "def next_guess_minimax(candidates: List[str]) -> str:\n",
        "    \"\"\"Choose the guess that minimizes the worst-case remaining candidates.\"\"\"\n",
        "    best_guess, best_score = None, float('inf')\n",
        "    for g in candidates:\n",
        "        worst = max(partition_sizes_for_guess(g, candidates).values())\n",
        "        if worst < best_score:\n",
        "            best_score, best_guess = worst, g\n",
        "    return best_guess\n",
        "\n",
        "# -----------------\n",
        "# Overlap heuristic (light + fast)\n",
        "# -----------------\n",
        "def likely_fixed_positions(candidates: List[str]):\n",
        "    \"\"\"Identify positions that are fixed (all candidates agree on the letter).\"\"\"\n",
        "    fixed = {}\n",
        "    for i in range(len(candidates[0])):\n",
        "        letters = {w[i] for w in candidates}\n",
        "        if len(letters) == 1:\n",
        "            fixed[i] = next(iter(letters))\n",
        "    return fixed\n",
        "\n",
        "\n",
        "def next_guess_overlap(candidates: List[str]) -> str:\n",
        "    \"\"\"Pick guess biased by letter frequency and fixed 'dog' positions.\"\"\"\n",
        "    letter_counts = Counter(\"\".join(candidates))\n",
        "    fixed = likely_fixed_positions(candidates)\n",
        "\n",
        "    def score(word):\n",
        "        s = sum(letter_counts[ch] for ch in set(word))\n",
        "        for i, ch in fixed.items():\n",
        "            if word[i] == ch:\n",
        "                s += 5  # reward matching known fixed positions\n",
        "        return s\n",
        "\n",
        "    # Ensure candidates is not empty before calling max\n",
        "    if not candidates:\n",
        "        return \"\"\n",
        "    return max(candidates, key=score)\n",
        "\n",
        "\n",
        "# -----------------\n",
        "# Hybrid controller\n",
        "# -----------------\n",
        "def hybrid_next_guess(candidates: List[str], step: int, minimax_steps: int = 2, switch_threshold: int = 300) -> str:\n",
        "    \"\"\"Hybrid: use minimax in first steps or while candidates are large, then switch.\"\"\"\n",
        "    if not candidates:\n",
        "      return \"\" # Return empty string if candidates is empty\n",
        "\n",
        "    if step <= minimax_steps or len(candidates) > switch_threshold:\n",
        "        return next_guess_minimax(candidates)\n",
        "    else:\n",
        "        return next_guess_overlap(candidates)\n",
        "\n",
        "# -----------------\n",
        "# Full play loop\n",
        "# -----------------\n",
        "def solve_secret(words: List[str], secret: str, minimax_steps: int = 2, switch_threshold: int = 300):\n",
        "    \"\"\"Simulate solving the secret with hybrid strategy.\"\"\"\n",
        "    candidates = words[:]\n",
        "    step = 1\n",
        "    history = []\n",
        "\n",
        "    while True:\n",
        "        guess = hybrid_next_guess(candidates, step, minimax_steps, switch_threshold)\n",
        "        if not guess: # Check if guess is empty due to no candidates\n",
        "            print(\"No possible words left. Could not solve.\")\n",
        "            break\n",
        "\n",
        "        cats, dogs = cats_dogs(secret, guess)\n",
        "        history.append((step, guess, cats, dogs, len(candidates)))\n",
        "\n",
        "        if guess == secret:\n",
        "            break\n",
        "\n",
        "        # prune inconsistent candidates\n",
        "        candidates = [c for c in candidates if is_consistent(c, guess, (cats, dogs))]\n",
        "        step += 1\n",
        "\n",
        "    return history\n",
        "\n",
        "# -----------------\n",
        "# Example usage\n",
        "# -----------------\n",
        "if __name__ == \"__main__\":\n",
        "    # Example word list (replace with your full list)\n",
        "    words = load_words()\n",
        "\n",
        "    print(f\"Loaded {len(words)} valid words\")\n",
        "\n",
        "    if len(words) > 0:\n",
        "        secret = \"SEXY\" # You can change this to any word from your list\n",
        "        if secret in words:\n",
        "            result = solve_secret(words, secret)\n",
        "\n",
        "            for step, guess, cats, dogs, remaining in result:\n",
        "                print(f\"Step {step}: Guess={guess}, Cats={cats}, Dogs={dogs}, Remaining={remaining}\")\n",
        "\n",
        "            print(f\"Solved in {len(result)} steps! Secret was {secret}\")\n",
        "        else:\n",
        "            print(f\"Secret word '{secret}' not found in the loaded word list.\")\n",
        "    else:\n",
        "        print(\"No valid words loaded. Cannot run the game.\")"
      ]
    },
    {
      "cell_type": "code",
      "metadata": {
        "id": "a77becf7"
      },
      "source": [
        "# from typing import List\n",
        "\n",
        "# def load_words(file_path: str = \"words.txt\") -> List[str]:\n",
        "#     '''\n",
        "#     This will return back a list of strings read from a local file,\n",
        "#     filtered by length (4 letters) and with duplicates removed.\n",
        "#     '''\n",
        "#     words = []\n",
        "#     try:\n",
        "#         with open(file_path, 'r') as f:\n",
        "#             for line in f:\n",
        "#                 word = line.strip().upper()\n",
        "#                 if len(word) == 4 and len(set(word)) == 4: # Filter for 4-letter unique-letter words\n",
        "#                     words.append(word)\n",
        "#     except FileNotFoundError:\n",
        "#         print(f\"Error: The file '{file_path}' was not found.\")\n",
        "#         return []\n",
        "\n",
        "#     return list(set(words))\n",
        "\n",
        "# # Example usage (you can replace this with your main execution block)\n",
        "# # if __name__ == \"__main__\":\n",
        "# #     words = load_words()\n",
        "# #     print(f\"Loaded {len(words)} valid words from the file.\")\n",
        "# #     # You can now use the 'words' list in your game logic\n",
        "# #     # For example, you could call your solve_secret function here\n",
        "# #     # if len(words) > 0:\n",
        "# #     #     secret = random.choice(words) # Choose a random secret word\n",
        "# #     #     print(f\"Secret word: {secret}\")\n",
        "# #     #     result = solve_secret(words, secret)\n",
        "# #     #     for step, guess, cats, dogs, remaining in result:\n",
        "# #     #         print(f\"Step {step}: Guess={guess}, Cats={cats}, Dogs={dogs}, Remaining={remaining}\")\n",
        "# #     #     print(f\"Solved in {len(result)} steps!\")\n",
        "# #     # else:\n",
        "# #     #      print(\"No valid words loaded from the file. Cannot run the game.\")"
      ],
      "id": "a77becf7",
      "execution_count": 17,
      "outputs": []
    },
    {
      "cell_type": "code",
      "source": [
        "# all_words = []\n",
        "# try:\n",
        "#     with open(\"words.txt\", 'r') as f:\n",
        "#         for line in f:\n",
        "#             # Split the line by whitespace and add each word to the list\n",
        "#             for word in line.split():\n",
        "#                 all_words.append(word.strip())\n",
        "# except FileNotFoundError:\n",
        "#     print(\"Error: the file 'words.txt' was not found.\")\n",
        "\n",
        "# print(f\"Initially Loaded {len(all_words)} words from words.txt\")\n",
        "# all_words = list(set(all_words))\n",
        "# print(f\"filtered {len(all_words)} words from words.txt\")"
      ],
      "metadata": {
        "colab": {
          "base_uri": "https://localhost:8080/"
        },
        "id": "DMBpWaQCl2Pj",
        "outputId": "6d3782f0-d10e-476f-e9c0-ce5ee67bcef8"
      },
      "id": "DMBpWaQCl2Pj",
      "execution_count": 22,
      "outputs": [
        {
          "output_type": "stream",
          "name": "stdout",
          "text": [
            "Initially Loaded 5526 words from words.txt\n",
            "filtered 5526 words from words.txt\n"
          ]
        }
      ]
    }
  ],
  "metadata": {
    "kernelspec": {
      "display_name": ".venv",
      "language": "python",
      "name": "python3"
    },
    "language_info": {
      "codemirror_mode": {
        "name": "ipython",
        "version": 3
      },
      "file_extension": ".py",
      "mimetype": "text/x-python",
      "name": "python",
      "nbconvert_exporter": "python",
      "pygments_lexer": "ipython3",
      "version": "3.12.0"
    },
    "colab": {
      "provenance": [],
      "include_colab_link": true
    }
  },
  "nbformat": 4,
  "nbformat_minor": 5
}