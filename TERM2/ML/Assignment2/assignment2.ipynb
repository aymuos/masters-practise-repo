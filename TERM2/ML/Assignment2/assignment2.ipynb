{
  "cells": [
    {
      "cell_type": "markdown",
      "metadata": {
        "id": "view-in-github",
        "colab_type": "text"
      },
      "source": [
        "<a href=\"https://colab.research.google.com/github/aymuos/masters-practise-repo/blob/main/TERM2/ML/Assignment2/assignment2.ipynb\" target=\"_parent\"><img src=\"https://colab.research.google.com/assets/colab-badge.svg\" alt=\"Open In Colab\"/></a>"
      ]
    },
    {
      "cell_type": "markdown",
      "id": "e9e610fe",
      "metadata": {
        "id": "e9e610fe"
      },
      "source": [
        "CH24M571| ML Assignment 2"
      ]
    },
    {
      "cell_type": "markdown",
      "id": "a3b3bfd6",
      "metadata": {
        "id": "a3b3bfd6"
      },
      "source": [
        "Perceptron algorithm from scratch\n",
        "\n",
        "![image.png](attachment:image.png)"
      ]
    },
    {
      "cell_type": "code",
      "execution_count": 28,
      "id": "26ffa42d",
      "metadata": {
        "id": "26ffa42d"
      },
      "outputs": [],
      "source": [
        "import numpy as np\n",
        "import matplotlib.pyplot as plt"
      ]
    },
    {
      "cell_type": "code",
      "execution_count": 29,
      "id": "dfd4b865",
      "metadata": {
        "id": "dfd4b865"
      },
      "outputs": [],
      "source": [
        "class Perceptron(object):\n",
        "\n",
        "    def __init__(self , eta = 0.01 , n_iter = 10):\n",
        "        self.eta = eta   #learning rate\n",
        "        self.n_iter = n_iter    # number of iterations\n",
        "        self.weights = None\n",
        "        self.bias = None\n",
        "\n",
        "    # given learning rates is w(t+1) = w(t) + yixi, b(t+1) = b(t) + y\n",
        "\n",
        "    # def weighted_sum(self , X):\n",
        "    #     return np.dot(X , self.w_[1:]) + self.w_[0]\n",
        "\n",
        "\n",
        "    # def fit_func(self,X):\n",
        "    #     return np.where(self.weighted_sum(X) >= 0.0, 1,-1) # condition , true_val , false_val\n",
        "\n",
        "    def fit_model(self,X,y)->None:\n",
        "        n_samples , n_features = X.shape #(rows*columns)\n",
        "        self.weights = np.zeros(n_features) # initializing weights vector\n",
        "        self.bias = 0 # scalar so initialized to zero\n",
        "\n",
        "\n",
        "        for epoch in range(self.n_iter):\n",
        "            misclassified_count = 0\n",
        "\n",
        "            for i in range(n_samples):\n",
        "                prediction = np.dot(X[i],self.weights)+ self.bias\n",
        "\n",
        "                if (prediction * y[i]) <= 0 :\n",
        "                    self.weights = self.weights + self.eta * y[i]*X[i]\n",
        "\n",
        "                    self.bias = self.eta *y[i]\n",
        "\n",
        "                    misclassified_count +=1\n",
        "\n",
        "            print(f\"Epoch {epoch+1}:\")\n",
        "            print(f\"Weights: {self.weights}\")\n",
        "            print(f\"Bias: {self.bias}\")\n",
        "            print(f\"Number of mistakes: {misclassified_count}\")\n",
        "            print()\n",
        "\n",
        "            if misclassified_count == 0:\n",
        "                break\n",
        "            # no updates if there are no misclassification\n",
        "\n",
        "    def predict_model(self , X):\n",
        "        # return the sign of the output\n",
        "        return np.sign(np.dot(X ,self.weights)+ self.bias)"
      ]
    },
    {
      "cell_type": "code",
      "execution_count": 30,
      "id": "95d343d9",
      "metadata": {
        "id": "95d343d9",
        "outputId": "1eecc532-38ce-420e-dea1-4dda0c8da2ce",
        "colab": {
          "base_uri": "https://localhost:8080/"
        }
      },
      "outputs": [
        {
          "output_type": "stream",
          "name": "stdout",
          "text": [
            "Epoch 1:\n",
            "Weights: [0.25 0.15]\n",
            "Bias: 0.1\n",
            "Number of mistakes: 5\n",
            "\n",
            "Epoch 2:\n",
            "Weights: [0.1 0.1]\n",
            "Bias: 0.1\n",
            "Number of mistakes: 7\n",
            "\n",
            "Epoch 3:\n",
            "Weights: [ 0.25 -0.05]\n",
            "Bias: 0.1\n",
            "Number of mistakes: 5\n",
            "\n",
            "Epoch 4:\n",
            "Weights: [0.1 0.1]\n",
            "Bias: 0.1\n",
            "Number of mistakes: 5\n",
            "\n",
            "Epoch 5:\n",
            "Weights: [ 0.25 -0.05]\n",
            "Bias: 0.1\n",
            "Number of mistakes: 5\n",
            "\n",
            "Epoch 6:\n",
            "Weights: [0.1 0.1]\n",
            "Bias: 0.1\n",
            "Number of mistakes: 5\n",
            "\n",
            "Epoch 7:\n",
            "Weights: [ 0.25 -0.05]\n",
            "Bias: 0.1\n",
            "Number of mistakes: 5\n",
            "\n",
            "Epoch 8:\n",
            "Weights: [0.1 0.1]\n",
            "Bias: 0.1\n",
            "Number of mistakes: 5\n",
            "\n",
            "Epoch 9:\n",
            "Weights: [ 0.25 -0.05]\n",
            "Bias: 0.1\n",
            "Number of mistakes: 5\n",
            "\n",
            "Epoch 10:\n",
            "Weights: [0.1 0.1]\n",
            "Bias: 0.1\n",
            "Number of mistakes: 5\n",
            "\n",
            "Epoch 11:\n",
            "Weights: [ 0.25 -0.05]\n",
            "Bias: 0.1\n",
            "Number of mistakes: 5\n",
            "\n",
            "Epoch 12:\n",
            "Weights: [0.1 0.1]\n",
            "Bias: 0.1\n",
            "Number of mistakes: 5\n",
            "\n",
            "Epoch 13:\n",
            "Weights: [ 0.25 -0.05]\n",
            "Bias: 0.1\n",
            "Number of mistakes: 5\n",
            "\n",
            "Epoch 14:\n",
            "Weights: [0.1 0.1]\n",
            "Bias: 0.1\n",
            "Number of mistakes: 5\n",
            "\n",
            "Epoch 15:\n",
            "Weights: [ 0.25 -0.05]\n",
            "Bias: 0.1\n",
            "Number of mistakes: 5\n",
            "\n",
            "Weights: [ 0.25 -0.05]\n",
            "Bias: 0.1\n",
            "Predictions: [1. 1. 1. 1. 1. 1. 1. 1.]\n"
          ]
        }
      ],
      "source": [
        "X = np.array([[0,0],[1,1],[1,0],[0,1],[0.5,0.5],[2,2],[2,0],[0,2]])\n",
        "y = np.array([-1,-1,1,1,-1,-1,1,1])\n",
        "\n",
        "perceptron = Perceptron(eta= 0.1 , n_iter = 15)\n",
        "perceptron.fit_model(X,y)\n",
        "\n",
        "print(\"Weights:\", perceptron.weights)\n",
        "print(\"Bias:\", perceptron.bias)\n",
        "\n",
        "predictions = perceptron.predict_model(X)\n",
        "print(\"Predictions:\", predictions)"
      ]
    },
    {
      "cell_type": "code",
      "execution_count": 31,
      "id": "b734cc03",
      "metadata": {
        "id": "b734cc03",
        "outputId": "dc3143ee-8317-41d1-dc48-1e3ec8596bfc",
        "colab": {
          "base_uri": "https://localhost:8080/"
        }
      },
      "outputs": [
        {
          "output_type": "stream",
          "name": "stdout",
          "text": [
            "[[0.  0.  0. ]\n",
            " [1.  1.  2. ]\n",
            " [1.  0.  1. ]\n",
            " [0.  1.  1. ]\n",
            " [0.5 0.5 0.5]\n",
            " [2.  2.  8. ]\n",
            " [2.  0.  4. ]\n",
            " [0.  2.  4. ]]\n",
            "Epoch 1:\n",
            "Weights: [ 0.05 -0.05  0.05]\n",
            "Bias: 0.1\n",
            "Number of mistakes: 6\n",
            "\n",
            "Epoch 2:\n",
            "Weights: [ 0.2 -0.1  0.4]\n",
            "Bias: 0.1\n",
            "Number of mistakes: 6\n",
            "\n",
            "Epoch 3:\n",
            "Weights: [ 0.05 -0.15  0.25]\n",
            "Bias: 0.1\n",
            "Number of mistakes: 7\n",
            "\n",
            "Epoch 4:\n",
            "Weights: [ 0.  -0.2  0.2]\n",
            "Bias: 0.1\n",
            "Number of mistakes: 8\n",
            "\n",
            "Epoch 5:\n",
            "Weights: [-0.05 -0.25  0.15]\n",
            "Bias: 0.1\n",
            "Number of mistakes: 8\n",
            "\n",
            "Epoch 6:\n",
            "Weights: [ 0.  -0.3  0.2]\n",
            "Bias: 0.1\n",
            "Number of mistakes: 6\n",
            "\n",
            "Epoch 7:\n",
            "Weights: [-0.05 -0.25  0.25]\n",
            "Bias: 0.1\n",
            "Number of mistakes: 6\n",
            "\n",
            "Epoch 8:\n",
            "Weights: [-0.1 -0.3  0.2]\n",
            "Bias: 0.1\n",
            "Number of mistakes: 8\n",
            "\n",
            "Epoch 9:\n",
            "Weights: [-0.05 -0.35  0.25]\n",
            "Bias: 0.1\n",
            "Number of mistakes: 6\n",
            "\n",
            "Epoch 10:\n",
            "Weights: [-0.1 -0.3  0.3]\n",
            "Bias: 0.1\n",
            "Number of mistakes: 6\n",
            "\n",
            "Epoch 11:\n",
            "Weights: [-0.15 -0.35  0.25]\n",
            "Bias: 0.1\n",
            "Number of mistakes: 8\n",
            "\n",
            "Epoch 12:\n",
            "Weights: [-0.2 -0.3  0.3]\n",
            "Bias: 0.1\n",
            "Number of mistakes: 6\n",
            "\n",
            "Epoch 13:\n",
            "Weights: [-0.25 -0.35  0.25]\n",
            "Bias: 0.1\n",
            "Number of mistakes: 8\n",
            "\n",
            "Epoch 14:\n",
            "Weights: [-0.2 -0.4  0.3]\n",
            "Bias: 0.1\n",
            "Number of mistakes: 6\n",
            "\n",
            "Epoch 15:\n",
            "Weights: [-0.25 -0.35  0.35]\n",
            "Bias: 0.1\n",
            "Number of mistakes: 6\n",
            "\n",
            "Predictions: [ 1.  1.  1.  1. -1.  1.  1.  1.]\n"
          ]
        }
      ],
      "source": [
        "# transforming dataset with non-linear mapping\n",
        "\n",
        "X_transformed = np.column_stack((X , X[:,0]**2 + X[:,1]**2))\n",
        "\n",
        "print(X_transformed)\n",
        "# now has 3 features as compared to 2 in the previous\n",
        "\n",
        "perceptron = Perceptron(eta=0.1, n_iter=15)\n",
        "perceptron.fit_model(X_transformed, y)\n",
        "\n",
        "predictions = perceptron.predict_model(X_transformed)\n",
        "print(\"Predictions:\", predictions)"
      ]
    },
    {
      "cell_type": "code",
      "execution_count": 32,
      "id": "395774a6",
      "metadata": {
        "id": "395774a6",
        "outputId": "c102101f-6f79-4088-8220-ece546d71787",
        "colab": {
          "base_uri": "https://localhost:8080/",
          "height": 564
        }
      },
      "outputs": [
        {
          "output_type": "display_data",
          "data": {
            "text/plain": [
              "<Figure size 800x600 with 1 Axes>"
            ],
            "image/png": "[encoded data removed]"
          },
          "metadata": {}
        }
      ],
      "source": [
        "# Plot the original two-dimensional dataset\n",
        "plt.figure(figsize=(8, 6))\n",
        "plt.scatter(X[y == 1, 0], X[y == 1, 1], label='Class 1')\n",
        "plt.scatter(X[y == -1, 0], X[y == -1, 1], label='Class -1')\n",
        "plt.xlabel('x1')\n",
        "plt.ylabel('x2')\n",
        "plt.title('Original Two-Dimensional Dataset')\n",
        "plt.legend()\n",
        "\n",
        "# Plot the decision boundary in the original two-dimensional space\n",
        "x1 = np.linspace(0, 4, 100)\n",
        "x2 = -(perceptron.weights[0] * x1 + perceptron.bias) / perceptron.weights[1]\n",
        "plt.plot(x1, x2, color='r', label='Decision Boundary')\n",
        "plt.legend()\n",
        "plt.show()"
      ]
    },
    {
      "cell_type": "markdown",
      "id": "77692e87",
      "metadata": {
        "id": "77692e87"
      },
      "source": [
        "Question 2 | SVM"
      ]
    },
    {
      "cell_type": "markdown",
      "id": "70b027de",
      "metadata": {
        "id": "70b027de"
      },
      "source": [
        "Find the hinge loss for this soft-margin SVM classifier on the dataset that is given in\n",
        "the table. The weight vector and bias are as follows:\n",
        "w = [1, −1]T\n",
        ", b = 1\n",
        "The coefficient C can be assumed to be 1.\n",
        "x1 x2 y\n",
        "1 4 -1\n",
        "-1 2 -1\n",
        "0 0 -1\n",
        "1 2 -1\n",
        "1 3 1\n",
        "1 0 1\n",
        "2 1 1\n",
        "2 3 1\n",
        "Note that you just need to report the hinge loss. Do not compute margin loss, which\n",
        "involves only the term w. Also, note that the hinge loss does not have a factor of 0.5\n",
        "before it. Enter the closest integer as your answer."
      ]
    },
    {
      "cell_type": "code",
      "execution_count": 33,
      "id": "d0a751c3",
      "metadata": {
        "id": "d0a751c3"
      },
      "outputs": [],
      "source": [
        "import numpy as np\n",
        "\n",
        "weight = np.array([1,-1])\n",
        "bias = 1\n",
        "\n",
        "X = np.array([\n",
        "    [1, 4],\n",
        "    [-1, 2],\n",
        "    [0, 0],\n",
        "    [1, 2],\n",
        "    [1, 3],\n",
        "    [1, 0],\n",
        "    [2, 1],\n",
        "    [2, 3]\n",
        "])\n",
        "\n",
        "y = np.array([-1, -1, -1, -1, 1, 1, 1, 1])"
      ]
    },
    {
      "cell_type": "code",
      "execution_count": 34,
      "id": "acf36050",
      "metadata": {
        "id": "acf36050",
        "outputId": "66959a52-c4f5-415c-edd1-6d2dfac9ceba",
        "colab": {
          "base_uri": "https://localhost:8080/"
        }
      },
      "outputs": [
        {
          "output_type": "stream",
          "name": "stdout",
          "text": [
            "Total Hinge Loss 6\n"
          ]
        }
      ],
      "source": [
        "def hinge_loss(X,y,w,b):\n",
        "    losses = np.maximum(0,1-y*(np.dot(X,weight)+bias))\n",
        "    total_loss = np.sum(losses)\n",
        "    return total_loss\n",
        "\n",
        "loss = hinge_loss(X,y,weight,bias)\n",
        "print(\"Total Hinge Loss\",loss)\n"
      ]
    },
    {
      "cell_type": "markdown",
      "id": "3706d493",
      "metadata": {
        "id": "3706d493"
      },
      "source": [
        "Question 3 | GMM"
      ]
    },
    {
      "cell_type": "code",
      "execution_count": 35,
      "id": "e8b38662",
      "metadata": {
        "id": "e8b38662"
      },
      "outputs": [],
      "source": [
        "import numpy as np\n",
        "import matplotlib.pyplot as plt\n",
        "from sklearn.datasets import make_blobs\n",
        "from scipy.stats import multivariate_normal"
      ]
    },
    {
      "cell_type": "code",
      "execution_count": 36,
      "id": "177fd691",
      "metadata": {
        "id": "177fd691"
      },
      "outputs": [],
      "source": [
        "X, y_true = make_blobs(n_samples=2000, centers=3, cluster_std=1.0, random_state=42)\n"
      ]
    },
    {
      "cell_type": "code",
      "execution_count": 37,
      "id": "b9ba34ab",
      "metadata": {
        "id": "b9ba34ab"
      },
      "outputs": [],
      "source": [
        "# train-test split\n",
        "\n",
        "indices = np.random.permutation(X.shape[0])\n",
        "train_size = int(0.8 * len(indices))\n",
        "train_idx, test_idx = indices[:train_size], indices[train_size:]\n",
        "X_train, X_test = X[train_idx], X[test_idx]"
      ]
    },
    {
      "cell_type": "code",
      "source": [
        "# defining the gmm function\n",
        "def gmm_fit(X, k, max_iter=100):\n",
        "    n_samples, n_features = X.shape\n",
        "\n",
        "\n",
        "\n",
        "    # Initialize\n",
        "    means = X[np.random.choice(n_samples, k, replace=False)]  # Initialize means randomly from data points\n",
        "    covariances = [np.eye(n_features) for _ in range(k)] # Initialize covariances as identity matrices\n",
        "    weights = [1/k] * k  # Initialize weights uniformly\n",
        "\n",
        "\n",
        "\n",
        "\n",
        "    for l in range(max_iter):\n",
        "\n",
        "        # This is the estimation step: Calculate responsibilities\n",
        "        responsibilities = np.zeros((n_samples, k))\n",
        "        for i in range(k):\n",
        "            responsibilities[:, i] = weights[i] * multivariate_normal.pdf(X, means[i], covariances[i])  # Calculate responsibility for each data point to each cluster\n",
        "        responsibilities /= np.sum(responsibilities, axis=1, keepdims=True)  # Normalize responsibilities to ensure they sum to 1\n",
        "\n",
        "        # This is the Maximaization step: Update parameters\n",
        "\n",
        "        N_k = np.sum(responsibilities, axis=0)\n",
        "        for i in range(k):\n",
        "            means[i] = np.sum(responsibilities[:, i, None] * X, axis=0) / N_k[i]  # Update the mean of each cluster\n",
        "\n",
        "            # Calculate the covariance matrix correctly\n",
        "            diff = X - means[i]\n",
        "            covariances[i] = np.dot((responsibilities[:, i, None] * diff).T, diff) / N_k[i]\n",
        "\n",
        "            weights[i] = N_k[i] / n_samples\n",
        "\n",
        "    return means, covariances, weights"
      ],
      "metadata": {
        "id": "RduMsCWy4q2q"
      },
      "id": "RduMsCWy4q2q",
      "execution_count": 38,
      "outputs": []
    },
    {
      "cell_type": "code",
      "source": [
        "means, covariances, weights = gmm_fit(X_train, 3)"
      ],
      "metadata": {
        "id": "IP0EC3qU4xdU"
      },
      "id": "IP0EC3qU4xdU",
      "execution_count": 39,
      "outputs": []
    },
    {
      "cell_type": "code",
      "source": [
        "# Predict the test dataset class label\n",
        "def gmm_predict(X, means, covariances, weights):\n",
        "    k = len(means)\n",
        "    probabilities = np.zeros((X.shape[0], k))\n",
        "    for i in range(k):\n",
        "        probabilities[:, i] = weights[i] * multivariate_normal.pdf(X, means[i], covariances[i])\n",
        "    return np.argmax(probabilities, axis=1)\n",
        "\n",
        "y_pred = gmm_predict(X_test, means, covariances, weights)"
      ],
      "metadata": {
        "id": "SstlNWy45QQn"
      },
      "id": "SstlNWy45QQn",
      "execution_count": 40,
      "outputs": []
    },
    {
      "cell_type": "code",
      "source": [
        "y_pred = gmm_predict(X_test, means, covariances, weights)"
      ],
      "metadata": {
        "id": "ln8G3CFT5VBW"
      },
      "id": "ln8G3CFT5VBW",
      "execution_count": 41,
      "outputs": []
    },
    {
      "cell_type": "code",
      "source": [
        "# 5. Visualize the test dataset\n",
        "\n",
        "plt.figure(figsize=(8, 6))\n",
        "plt.scatter(X_test[:, 0], X_test[:, 1], c=y_pred, cmap='viridis')\n",
        "plt.title('GMM Clustering')\n",
        "plt.xlabel('Feature 1')\n",
        "plt.ylabel('Feature 2')\n",
        "plt.show()"
      ],
      "metadata": {
        "id": "ros0L2oI5XnQ",
        "outputId": "9fccca80-cdd7-4f69-ccf4-e93bc67328c4",
        "colab": {
          "base_uri": "https://localhost:8080/",
          "height": 564
        }
      },
      "id": "ros0L2oI5XnQ",
      "execution_count": 42,
      "outputs": [
        {
          "output_type": "display_data",
          "data": {
            "text/plain": [
              "<Figure size 800x600 with 1 Axes>"
            ],
            "image/png": "[encoded data removed]"
          },
          "metadata": {}
        }
      ]
    }
  ],
  "metadata": {
    "kernelspec": {
      "display_name": "base",
      "language": "python",
      "name": "python3"
    },
    "language_info": {
      "codemirror_mode": {
        "name": "ipython",
        "version": 3
      },
      "file_extension": ".py",
      "mimetype": "text/x-python",
      "name": "python",
      "nbconvert_exporter": "python",
      "pygments_lexer": "ipython3",
      "version": "3.12.4"
    },
    "colab": {
      "provenance": [],
      "include_colab_link": true
    }
  },
  "nbformat": 4,
  "nbformat_minor": 5
}