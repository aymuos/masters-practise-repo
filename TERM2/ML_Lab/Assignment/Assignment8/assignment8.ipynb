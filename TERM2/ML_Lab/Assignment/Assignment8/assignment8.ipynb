{
 "cells": [
  {
   "cell_type": "markdown",
   "id": "5b85f996",
   "metadata": {},
   "source": [
    "![alt text](image.png)"
   ]
  },
  {
   "cell_type": "code",
   "execution_count": null,
   "id": "07681037",
   "metadata": {},
   "outputs": [],
   "source": []
  },
  {
   "cell_type": "code",
   "execution_count": null,
   "id": "2aa16ce9",
   "metadata": {},
   "outputs": [],
   "source": []
  },
  {
   "cell_type": "markdown",
   "id": "e276218e",
   "metadata": {},
   "source": [
    "Problem - 3 "
   ]
  },
  {
   "cell_type": "code",
   "execution_count": 1,
   "id": "36c4e592",
   "metadata": {},
   "outputs": [],
   "source": [
    "import sklearn.datasets\n",
    "import pandas as pd\n",
    "breast_cancer = sklearn.datasets.load_breast_cancer ()\n",
    "df = pd.DataFrame(breast_cancer.data , columns=breast_cancer.feature_names)\n",
    "df['class'] = breast_cancer.target\n",
    "# Add \"class\" column that stores the binary class labels"
   ]
  }
 ],
 "metadata": {
  "kernelspec": {
   "display_name": "base",
   "language": "python",
   "name": "python3"
  },
  "language_info": {
   "codemirror_mode": {
    "name": "ipython",
    "version": 3
   },
   "file_extension": ".py",
   "mimetype": "text/x-python",
   "name": "python",
   "nbconvert_exporter": "python",
   "pygments_lexer": "ipython3",
   "version": "3.12.4"
  }
 },
 "nbformat": 4,
 "nbformat_minor": 5
}
