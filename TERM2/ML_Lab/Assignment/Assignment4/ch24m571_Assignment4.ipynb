{
 "cells": [
  {
   "cell_type": "code",
   "execution_count": 11,
   "metadata": {},
   "outputs": [
    {
     "name": "stdout",
     "output_type": "stream",
     "text": [
      "Requirement already satisfied: matplotlib in c:\\users\\aymuo\\.pyenv\\pyenv-win\\versions\\3.12.0\\lib\\site-packages (3.10.1)\n",
      "Requirement already satisfied: seaborn in c:\\users\\aymuo\\.pyenv\\pyenv-win\\versions\\3.12.0\\lib\\site-packages (0.13.2)\n",
      "Requirement already satisfied: scikit-learn in c:\\users\\aymuo\\.pyenv\\pyenv-win\\versions\\3.12.0\\lib\\site-packages (1.6.1)\n",
      "Requirement already satisfied: contourpy>=1.0.1 in c:\\users\\aymuo\\.pyenv\\pyenv-win\\versions\\3.12.0\\lib\\site-packages (from matplotlib) (1.3.1)\n",
      "Requirement already satisfied: cycler>=0.10 in c:\\users\\aymuo\\.pyenv\\pyenv-win\\versions\\3.12.0\\lib\\site-packages (from matplotlib) (0.12.1)\n",
      "Requirement already satisfied: fonttools>=4.22.0 in c:\\users\\aymuo\\.pyenv\\pyenv-win\\versions\\3.12.0\\lib\\site-packages (from matplotlib) (4.56.0)\n",
      "Requirement already satisfied: kiwisolver>=1.3.1 in c:\\users\\aymuo\\.pyenv\\pyenv-win\\versions\\3.12.0\\lib\\site-packages (from matplotlib) (1.4.8)\n",
      "Requirement already satisfied: numpy>=1.23 in c:\\users\\aymuo\\.pyenv\\pyenv-win\\versions\\3.12.0\\lib\\site-packages (from matplotlib) (2.2.1)\n",
      "Requirement already satisfied: packaging>=20.0 in c:\\users\\aymuo\\.pyenv\\pyenv-win\\versions\\3.12.0\\lib\\site-packages (from matplotlib) (24.2)\n",
      "Requirement already satisfied: pillow>=8 in c:\\users\\aymuo\\.pyenv\\pyenv-win\\versions\\3.12.0\\lib\\site-packages (from matplotlib) (11.1.0)\n",
      "Requirement already satisfied: pyparsing>=2.3.1 in c:\\users\\aymuo\\.pyenv\\pyenv-win\\versions\\3.12.0\\lib\\site-packages (from matplotlib) (3.2.3)\n",
      "Requirement already satisfied: python-dateutil>=2.7 in c:\\users\\aymuo\\.pyenv\\pyenv-win\\versions\\3.12.0\\lib\\site-packages (from matplotlib) (2.9.0.post0)\n",
      "Requirement already satisfied: pandas>=1.2 in c:\\users\\aymuo\\.pyenv\\pyenv-win\\versions\\3.12.0\\lib\\site-packages (from seaborn) (2.2.3)\n",
      "Requirement already satisfied: scipy>=1.6.0 in c:\\users\\aymuo\\.pyenv\\pyenv-win\\versions\\3.12.0\\lib\\site-packages (from scikit-learn) (1.15.1)\n",
      "Requirement already satisfied: joblib>=1.2.0 in c:\\users\\aymuo\\.pyenv\\pyenv-win\\versions\\3.12.0\\lib\\site-packages (from scikit-learn) (1.4.2)\n",
      "Requirement already satisfied: threadpoolctl>=3.1.0 in c:\\users\\aymuo\\.pyenv\\pyenv-win\\versions\\3.12.0\\lib\\site-packages (from scikit-learn) (3.5.0)\n",
      "Requirement already satisfied: pytz>=2020.1 in c:\\users\\aymuo\\.pyenv\\pyenv-win\\versions\\3.12.0\\lib\\site-packages (from pandas>=1.2->seaborn) (2024.2)\n",
      "Requirement already satisfied: tzdata>=2022.7 in c:\\users\\aymuo\\.pyenv\\pyenv-win\\versions\\3.12.0\\lib\\site-packages (from pandas>=1.2->seaborn) (2024.2)\n",
      "Requirement already satisfied: six>=1.5 in c:\\users\\aymuo\\.pyenv\\pyenv-win\\versions\\3.12.0\\lib\\site-packages (from python-dateutil>=2.7->matplotlib) (1.17.0)\n",
      "Note: you may need to restart the kernel to use updated packages.\n"
     ]
    },
    {
     "name": "stderr",
     "output_type": "stream",
     "text": [
      "\n",
      "[notice] A new release of pip is available: 23.2.1 -> 25.0.1\n",
      "[notice] To update, run: c:\\Users\\aymuo\\.pyenv\\pyenv-win\\versions\\3.12.0\\python.exe -m pip install --upgrade pip\n"
     ]
    }
   ],
   "source": [
    "%pip install matplotlib seaborn scikit-learn"
   ]
  },
  {
   "cell_type": "code",
   "execution_count": 12,
   "metadata": {},
   "outputs": [],
   "source": [
    "import pandas as pd\n",
    "import numpy as np\n",
    "\n",
    "import matplotlib.pyplot as plt\n",
    "import seaborn as sns\n",
    "\n",
    "from sklearn.model_selection import train_test_split                                #For splitting the data into train and test\n",
    "from sklearn.ensemble import RandomForestClassifier                                 #For Random Forest Classifier\n",
    "from sklearn.metrics import accuracy_score, classification_report, confusion_matrix #For model evaluation\n",
    "from sklearn.metrics import classification_report                                   #For classification report\n",
    "\n",
    "from sklearn.feature_selection import SelectFromModel\n",
    "\n",
    "from sklearn.model_selection import GridSearchCV\n",
    "from sklearn.preprocessing import StandardScaler\n",
    "from sklearn.ensemble import AdaBoostClassifier\n",
    "from sklearn.tree import DecisionTreeClassifier\n",
    "from sklearn.neighbors import KNeighborsClassifier\n",
    "from sklearn.metrics import accuracy_score, precision_score, recall_score, f1_score, make_scorer"
   ]
  },
  {
   "cell_type": "code",
   "execution_count": 13,
   "metadata": {},
   "outputs": [
    {
     "data": {
      "text/html": [
       "<div>\n",
       "<style scoped>\n",
       "    .dataframe tbody tr th:only-of-type {\n",
       "        vertical-align: middle;\n",
       "    }\n",
       "\n",
       "    .dataframe tbody tr th {\n",
       "        vertical-align: top;\n",
       "    }\n",
       "\n",
       "    .dataframe thead th {\n",
       "        text-align: right;\n",
       "    }\n",
       "</style>\n",
       "<table border=\"1\" class=\"dataframe\">\n",
       "  <thead>\n",
       "    <tr style=\"text-align: right;\">\n",
       "      <th></th>\n",
       "      <th>feature_1</th>\n",
       "      <th>feature_2</th>\n",
       "      <th>feature_3</th>\n",
       "      <th>feature_4</th>\n",
       "      <th>feature_5</th>\n",
       "      <th>feature_6</th>\n",
       "      <th>feature_7</th>\n",
       "      <th>feature_8</th>\n",
       "      <th>feature_9</th>\n",
       "      <th>feature_10</th>\n",
       "      <th>...</th>\n",
       "      <th>feature_42</th>\n",
       "      <th>feature_43</th>\n",
       "      <th>feature_44</th>\n",
       "      <th>feature_45</th>\n",
       "      <th>feature_46</th>\n",
       "      <th>feature_47</th>\n",
       "      <th>feature_48</th>\n",
       "      <th>feature_49</th>\n",
       "      <th>feature_50</th>\n",
       "      <th>target</th>\n",
       "    </tr>\n",
       "  </thead>\n",
       "  <tbody>\n",
       "    <tr>\n",
       "      <th>0</th>\n",
       "      <td>-0.005545</td>\n",
       "      <td>32.771094</td>\n",
       "      <td>-2.885640</td>\n",
       "      <td>-5.706496</td>\n",
       "      <td>4.549712</td>\n",
       "      <td>8.549846</td>\n",
       "      <td>1.149038</td>\n",
       "      <td>7.110967</td>\n",
       "      <td>2.195233</td>\n",
       "      <td>-2.501506</td>\n",
       "      <td>...</td>\n",
       "      <td>4.766636</td>\n",
       "      <td>-1.013512</td>\n",
       "      <td>-4.120721</td>\n",
       "      <td>10.958604</td>\n",
       "      <td>23.640397</td>\n",
       "      <td>6.618708</td>\n",
       "      <td>5.185408</td>\n",
       "      <td>9.333989</td>\n",
       "      <td>25.452316</td>\n",
       "      <td>1</td>\n",
       "    </tr>\n",
       "    <tr>\n",
       "      <th>1</th>\n",
       "      <td>-7.843181</td>\n",
       "      <td>-31.177053</td>\n",
       "      <td>1.223093</td>\n",
       "      <td>0.788477</td>\n",
       "      <td>2.653031</td>\n",
       "      <td>-2.984817</td>\n",
       "      <td>17.933594</td>\n",
       "      <td>-7.733961</td>\n",
       "      <td>4.070209</td>\n",
       "      <td>6.155632</td>\n",
       "      <td>...</td>\n",
       "      <td>-5.259832</td>\n",
       "      <td>8.896424</td>\n",
       "      <td>0.279679</td>\n",
       "      <td>3.074111</td>\n",
       "      <td>-25.311549</td>\n",
       "      <td>-2.407999</td>\n",
       "      <td>5.082825</td>\n",
       "      <td>-4.524458</td>\n",
       "      <td>-6.542893</td>\n",
       "      <td>1</td>\n",
       "    </tr>\n",
       "    <tr>\n",
       "      <th>2</th>\n",
       "      <td>5.341004</td>\n",
       "      <td>-2.219577</td>\n",
       "      <td>-5.476145</td>\n",
       "      <td>-4.877195</td>\n",
       "      <td>13.104240</td>\n",
       "      <td>6.623179</td>\n",
       "      <td>-11.620419</td>\n",
       "      <td>-10.200323</td>\n",
       "      <td>-0.540033</td>\n",
       "      <td>-1.033903</td>\n",
       "      <td>...</td>\n",
       "      <td>-12.259527</td>\n",
       "      <td>-0.904153</td>\n",
       "      <td>2.373974</td>\n",
       "      <td>-5.779762</td>\n",
       "      <td>27.554678</td>\n",
       "      <td>3.560516</td>\n",
       "      <td>4.601109</td>\n",
       "      <td>-2.584374</td>\n",
       "      <td>24.237743</td>\n",
       "      <td>0</td>\n",
       "    </tr>\n",
       "    <tr>\n",
       "      <th>3</th>\n",
       "      <td>-7.886861</td>\n",
       "      <td>19.922849</td>\n",
       "      <td>8.813712</td>\n",
       "      <td>-5.075512</td>\n",
       "      <td>4.743370</td>\n",
       "      <td>7.943378</td>\n",
       "      <td>24.080336</td>\n",
       "      <td>1.961569</td>\n",
       "      <td>1.112989</td>\n",
       "      <td>0.917271</td>\n",
       "      <td>...</td>\n",
       "      <td>2.460425</td>\n",
       "      <td>5.374294</td>\n",
       "      <td>2.977644</td>\n",
       "      <td>0.028648</td>\n",
       "      <td>-12.681906</td>\n",
       "      <td>2.289113</td>\n",
       "      <td>-0.762222</td>\n",
       "      <td>-5.718011</td>\n",
       "      <td>9.672549</td>\n",
       "      <td>1</td>\n",
       "    </tr>\n",
       "    <tr>\n",
       "      <th>4</th>\n",
       "      <td>5.915363</td>\n",
       "      <td>-3.291119</td>\n",
       "      <td>-3.540508</td>\n",
       "      <td>2.653489</td>\n",
       "      <td>-5.730528</td>\n",
       "      <td>-2.816063</td>\n",
       "      <td>-8.230898</td>\n",
       "      <td>-4.454535</td>\n",
       "      <td>-0.225400</td>\n",
       "      <td>-3.410212</td>\n",
       "      <td>...</td>\n",
       "      <td>3.358961</td>\n",
       "      <td>1.495604</td>\n",
       "      <td>3.057157</td>\n",
       "      <td>-12.966752</td>\n",
       "      <td>-15.318971</td>\n",
       "      <td>5.361050</td>\n",
       "      <td>-0.445823</td>\n",
       "      <td>-6.580588</td>\n",
       "      <td>-46.121969</td>\n",
       "      <td>0</td>\n",
       "    </tr>\n",
       "  </tbody>\n",
       "</table>\n",
       "<p>5 rows × 51 columns</p>\n",
       "</div>"
      ],
      "text/plain": [
       "   feature_1  feature_2  feature_3  feature_4  feature_5  feature_6  \\\n",
       "0  -0.005545  32.771094  -2.885640  -5.706496   4.549712   8.549846   \n",
       "1  -7.843181 -31.177053   1.223093   0.788477   2.653031  -2.984817   \n",
       "2   5.341004  -2.219577  -5.476145  -4.877195  13.104240   6.623179   \n",
       "3  -7.886861  19.922849   8.813712  -5.075512   4.743370   7.943378   \n",
       "4   5.915363  -3.291119  -3.540508   2.653489  -5.730528  -2.816063   \n",
       "\n",
       "   feature_7  feature_8  feature_9  feature_10  ...  feature_42  feature_43  \\\n",
       "0   1.149038   7.110967   2.195233   -2.501506  ...    4.766636   -1.013512   \n",
       "1  17.933594  -7.733961   4.070209    6.155632  ...   -5.259832    8.896424   \n",
       "2 -11.620419 -10.200323  -0.540033   -1.033903  ...  -12.259527   -0.904153   \n",
       "3  24.080336   1.961569   1.112989    0.917271  ...    2.460425    5.374294   \n",
       "4  -8.230898  -4.454535  -0.225400   -3.410212  ...    3.358961    1.495604   \n",
       "\n",
       "   feature_44  feature_45  feature_46  feature_47  feature_48  feature_49  \\\n",
       "0   -4.120721   10.958604   23.640397    6.618708    5.185408    9.333989   \n",
       "1    0.279679    3.074111  -25.311549   -2.407999    5.082825   -4.524458   \n",
       "2    2.373974   -5.779762   27.554678    3.560516    4.601109   -2.584374   \n",
       "3    2.977644    0.028648  -12.681906    2.289113   -0.762222   -5.718011   \n",
       "4    3.057157  -12.966752  -15.318971    5.361050   -0.445823   -6.580588   \n",
       "\n",
       "   feature_50  target  \n",
       "0   25.452316       1  \n",
       "1   -6.542893       1  \n",
       "2   24.237743       0  \n",
       "3    9.672549       1  \n",
       "4  -46.121969       0  \n",
       "\n",
       "[5 rows x 51 columns]"
      ]
     },
     "execution_count": 13,
     "metadata": {},
     "output_type": "execute_result"
    }
   ],
   "source": [
    "df = pd.read_csv('./assignment4.csv')\n",
    "df.head()"
   ]
  },
  {
   "cell_type": "code",
   "execution_count": 14,
   "metadata": {},
   "outputs": [
    {
     "data": {
      "text/plain": [
       "feature_1     0\n",
       "feature_2     0\n",
       "feature_3     0\n",
       "feature_4     0\n",
       "feature_5     0\n",
       "feature_6     0\n",
       "feature_7     0\n",
       "feature_8     0\n",
       "feature_9     0\n",
       "feature_10    0\n",
       "feature_11    0\n",
       "feature_12    0\n",
       "feature_13    0\n",
       "feature_14    0\n",
       "feature_15    0\n",
       "feature_16    0\n",
       "feature_17    0\n",
       "feature_18    0\n",
       "feature_19    0\n",
       "feature_20    0\n",
       "feature_21    0\n",
       "feature_22    0\n",
       "feature_23    0\n",
       "feature_24    0\n",
       "feature_25    0\n",
       "feature_26    0\n",
       "feature_27    0\n",
       "feature_28    0\n",
       "feature_29    0\n",
       "feature_30    0\n",
       "feature_31    0\n",
       "feature_32    0\n",
       "feature_33    0\n",
       "feature_34    0\n",
       "feature_35    0\n",
       "feature_36    0\n",
       "feature_37    0\n",
       "feature_38    0\n",
       "feature_39    0\n",
       "feature_40    0\n",
       "feature_41    0\n",
       "feature_42    0\n",
       "feature_43    0\n",
       "feature_44    0\n",
       "feature_45    0\n",
       "feature_46    0\n",
       "feature_47    0\n",
       "feature_48    0\n",
       "feature_49    0\n",
       "feature_50    0\n",
       "target        0\n",
       "dtype: int64"
      ]
     },
     "execution_count": 14,
     "metadata": {},
     "output_type": "execute_result"
    }
   ],
   "source": [
    "df.isnull().sum()"
   ]
  },
  {
   "cell_type": "code",
   "execution_count": 15,
   "metadata": {},
   "outputs": [],
   "source": [
    "X= df.drop(['target'],axis=1)\n",
    "y = df['target']"
   ]
  },
  {
   "cell_type": "code",
   "execution_count": null,
   "metadata": {},
   "outputs": [],
   "source": [
    "X_train, X_test, y_train, y_test = train_test_split(X, y, test_size=0.2, random_state=12) # 80:20 split"
   ]
  },
  {
   "cell_type": "code",
   "execution_count": 18,
   "metadata": {},
   "outputs": [
    {
     "data": {
      "text/plain": [
       "((4000, 50), (1000, 50), (4000,), (1000,))"
      ]
     },
     "execution_count": 18,
     "metadata": {},
     "output_type": "execute_result"
    }
   ],
   "source": [
    "X_train.shape, X_test.shape, y_train.shape, y_test.shape"
   ]
  },
  {
   "cell_type": "code",
   "execution_count": 17,
   "metadata": {},
   "outputs": [],
   "source": [
    "sclr = StandardScaler()\n",
    "X_train_scaled = sclr.fit_transform(X_train)\n",
    "X_test_scaled = sclr.fit(X_test)"
   ]
  },
  {
   "cell_type": "code",
   "execution_count": 19,
   "metadata": {},
   "outputs": [
    {
     "name": "stdout",
     "output_type": "stream",
     "text": [
      "Fitting 5 folds for each of 288 candidates, totalling 1440 fits\n",
      "Best Hyperparameters: {'bootstrap': False, 'criterion': 'entropy', 'max_depth': 30, 'max_features': 'sqrt', 'min_samples_split': 2, 'n_estimators': 200}\n",
      "Best Score: 0.66175\n",
      "Best Estimator: RandomForestClassifier(bootstrap=False, criterion='entropy', max_depth=30,\n",
      "                       n_estimators=200, random_state=12)\n",
      "Accuracy: 0.572\n",
      "              precision    recall  f1-score   support\n",
      "\n",
      "           0       0.79      0.51      0.62       492\n",
      "           1       0.46      0.83      0.59       305\n",
      "           2       0.50      0.33      0.40       203\n",
      "\n",
      "    accuracy                           0.57      1000\n",
      "   macro avg       0.58      0.56      0.54      1000\n",
      "weighted avg       0.63      0.57      0.57      1000\n",
      "\n"
     ]
    },
    {
     "name": "stderr",
     "output_type": "stream",
     "text": [
      "c:\\Users\\aymuo\\.pyenv\\pyenv-win\\versions\\3.12.0\\Lib\\site-packages\\sklearn\\utils\\validation.py:2732: UserWarning: X has feature names, but RandomForestClassifier was fitted without feature names\n",
      "  warnings.warn(\n"
     ]
    }
   ],
   "source": [
    "# Random Forest Classifier\n",
    "\n",
    "model = RandomForestClassifier(random_state=12)\n",
    "\n",
    "param_grid = {\n",
    "    'n_estimators': [10, 100, 150 , 200],             # Number of trees in the forest\n",
    "    'max_features': ['sqrt', 'log2'],           # The number of features to consider when looking for the best split\n",
    "    'max_depth': [10, 20, 30],                  # The maximum depth of the tree (to find which one works best for the dataset)\n",
    "    'bootstrap': [True, False],                 # Whether to sample data with replacement\n",
    "    'min_samples_split': [2, 5, 10],            # Minimum samples required to split a node\n",
    "    'criterion': ['gini', 'entropy']            # The function to measure the quality of a split (to find which one works best for the dataset)\n",
    "}\n",
    "\n",
    "# Grid search\n",
    "grid_search = GridSearchCV(estimator=model, param_grid=param_grid, cv=5, n_jobs=-1, verbose=2)\n",
    "grid_search.fit(X_train_scaled, y_train)\n",
    "\n",
    "# Best parameters\n",
    "print(f\"Best Hyperparameters: {grid_search.best_params_}\")   \n",
    "print(f\"Best Score: {grid_search.best_score_}\")              \n",
    "print(f\"Best Estimator: {grid_search.best_estimator_}\")\n",
    "\n",
    "# Best estimator\n",
    "best_model = grid_search.best_estimator_\n",
    "\n",
    "# Model evaluation\n",
    "y_pred = best_model.predict(X_test)\n",
    "accuracy = accuracy_score(y_test, y_pred)\n",
    "print(f'Accuracy: {accuracy}')\n",
    "\n",
    "# Classification report\n",
    "print(classification_report(y_test, y_pred))"
   ]
  },
  {
   "cell_type": "code",
   "execution_count": 20,
   "metadata": {},
   "outputs": [
    {
     "data": {
      "text/plain": [
       "feature_8     0.025952\n",
       "feature_47    0.024533\n",
       "feature_30    0.024365\n",
       "feature_29    0.024201\n",
       "feature_16    0.024036\n",
       "feature_17    0.023342\n",
       "feature_10    0.023055\n",
       "feature_42    0.022800\n",
       "feature_4     0.022798\n",
       "feature_25    0.022652\n",
       "feature_49    0.022548\n",
       "feature_18    0.022433\n",
       "feature_7     0.022314\n",
       "feature_3     0.022264\n",
       "feature_14    0.022039\n",
       "feature_36    0.021645\n",
       "feature_46    0.021401\n",
       "feature_26    0.021396\n",
       "feature_27    0.021336\n",
       "feature_43    0.020601\n",
       "feature_13    0.020497\n",
       "feature_22    0.020342\n",
       "feature_6     0.020327\n",
       "feature_23    0.020287\n",
       "feature_1     0.020154\n",
       "feature_34    0.020041\n",
       "feature_35    0.019764\n",
       "feature_20    0.019637\n",
       "feature_28    0.019626\n",
       "feature_32    0.019543\n",
       "feature_38    0.019273\n",
       "feature_12    0.019270\n",
       "feature_37    0.019206\n",
       "feature_40    0.018826\n",
       "feature_24    0.018778\n",
       "feature_21    0.018595\n",
       "feature_48    0.018078\n",
       "feature_2     0.017806\n",
       "feature_5     0.017790\n",
       "feature_11    0.017578\n",
       "feature_15    0.017572\n",
       "feature_39    0.017447\n",
       "feature_45    0.017329\n",
       "feature_33    0.016530\n",
       "feature_50    0.016454\n",
       "feature_44    0.015250\n",
       "feature_9     0.014964\n",
       "feature_31    0.014598\n",
       "feature_19    0.014448\n",
       "feature_41    0.014277\n",
       "dtype: float64"
      ]
     },
     "execution_count": 20,
     "metadata": {},
     "output_type": "execute_result"
    }
   ],
   "source": [
    "# Feature scores\n",
    "feature_score = pd.Series(best_model.feature_importances_, index=X_train.columns).sort_values(ascending=False)\n",
    "feature_score"
   ]
  },
  {
   "cell_type": "code",
   "execution_count": 21,
   "metadata": {},
   "outputs": [
    {
     "data": {
      "image/png": "[encoded data removed]",
      "text/plain": [
       "<Figure size 1000x600 with 2 Axes>"
      ]
     },
     "metadata": {},
     "output_type": "display_data"
    }
   ],
   "source": [
    "# Confusion matrix for the Random Forest Classifier\n",
    "conf_matrix = confusion_matrix(y_test, y_pred)\n",
    "plt.figure(figsize=(10, 6))\n",
    "sns.heatmap(conf_matrix, annot=True, fmt='d', cmap='Blues')\n",
    "plt.xlabel('Predicted labels')\n",
    "plt.ylabel('True labels')\n",
    "plt.title('Confusion Matrix')\n",
    "plt.show()"
   ]
  },
  {
   "cell_type": "code",
   "execution_count": null,
   "metadata": {},
   "outputs": [],
   "source": []
  },
  {
   "cell_type": "markdown",
   "metadata": {},
   "source": [
    "Adaboost"
   ]
  },
  {
   "cell_type": "code",
   "execution_count": 22,
   "metadata": {},
   "outputs": [
    {
     "name": "stdout",
     "output_type": "stream",
     "text": [
      "Fitting 5 folds for each of 15 candidates, totalling 75 fits\n",
      "Best Hyperparameters: {'learning_rate': 1, 'n_estimators': 150}\n",
      "Best Score: 0.50325\n",
      "Best Estimator: AdaBoostClassifier(learning_rate=1, n_estimators=150, random_state=12)\n",
      "Accuracy: 0.316\n",
      "              precision    recall  f1-score   support\n",
      "\n",
      "           0       0.73      0.02      0.03       492\n",
      "           1       0.32      0.79      0.46       305\n",
      "           2       0.28      0.33      0.30       203\n",
      "\n",
      "    accuracy                           0.32      1000\n",
      "   macro avg       0.44      0.38      0.26      1000\n",
      "weighted avg       0.51      0.32      0.22      1000\n",
      "\n"
     ]
    },
    {
     "name": "stderr",
     "output_type": "stream",
     "text": [
      "c:\\Users\\aymuo\\.pyenv\\pyenv-win\\versions\\3.12.0\\Lib\\site-packages\\sklearn\\utils\\validation.py:2732: UserWarning: X has feature names, but AdaBoostClassifier was fitted without feature names\n",
      "  warnings.warn(\n"
     ]
    },
    {
     "data": {
      "image/png": "[encoded data removed]",
      "text/plain": [
       "<Figure size 1000x600 with 2 Axes>"
      ]
     },
     "metadata": {},
     "output_type": "display_data"
    }
   ],
   "source": [
    "from sklearn.ensemble import AdaBoostClassifier \n",
    "from sklearn.tree import DecisionTreeClassifier\n",
    "\n",
    "# AdaBoost Classifier model with grid \n",
    "# Defining the model\n",
    "# dtc = DecisionTreeClassifier(max_depth=1)\n",
    "model4 = AdaBoostClassifier(random_state=12)\n",
    "\n",
    "# Defining Hyperparameters to tune\n",
    "param_grid = {\n",
    "    'n_estimators': [50, 100, 150],             # Number of trees in the forest                   # The base estimator from which the boosted ensemble is built\n",
    "    'learning_rate': [0.01, 0.05, 0.1, 0.5, 1]  # Learning rate shrinks the contribution of each classifier\n",
    "}\n",
    "\n",
    "# Grid search\n",
    "grid_search = GridSearchCV(estimator=model4, param_grid=param_grid, cv=5, n_jobs=-1, verbose=2)\n",
    "grid_search.fit(X_train_scaled, y_train)\n",
    "\n",
    "# Best parameters\n",
    "print(f\"Best Hyperparameters: {grid_search.best_params_}\")   # Prints the best hyperparameter combination\n",
    "print(f\"Best Score: {grid_search.best_score_}\")              # best cross-validation accuracy score\n",
    "print(f\"Best Estimator: {grid_search.best_estimator_}\")      # Retrieves the best-tuned AdaBoost model\n",
    "\n",
    "# Best estimator\n",
    "best_model = grid_search.best_estimator_                     # Stores the best-tuned model (chosen by GridSearchCV) for evaluation\n",
    "\n",
    "# Model evaluation\n",
    "y_pred = best_model.predict(X_test)\n",
    "accuracy = accuracy_score(y_test, y_pred)\n",
    "print(f'Accuracy: {accuracy}')\n",
    "\n",
    "# Classification report\n",
    "print(classification_report(y_test, y_pred,zero_division=1))  #If precision is undefined (division by zero), it sets the precision to 1 instead of 0.\n",
    "\n",
    "# Confusion matrix\n",
    "conf_matrix = confusion_matrix(y_test, y_pred)\n",
    "plt.figure(figsize=(10, 6))\n",
    "sns.heatmap(conf_matrix, annot=True, fmt='d', cmap='Blues')\n",
    "plt.xlabel('Predicted labels')\n",
    "plt.ylabel('True labels')\n",
    "plt.title('Confusion Matrix')\n",
    "plt.show()"
   ]
  }
 ],
 "metadata": {
  "kernelspec": {
   "display_name": "Python 3",
   "language": "python",
   "name": "python3"
  },
  "language_info": {
   "codemirror_mode": {
    "name": "ipython",
    "version": 3
   },
   "file_extension": ".py",
   "mimetype": "text/x-python",
   "name": "python",
   "nbconvert_exporter": "python",
   "pygments_lexer": "ipython3",
   "version": "3.12.0"
  }
 },
 "nbformat": 4,
 "nbformat_minor": 2
}
