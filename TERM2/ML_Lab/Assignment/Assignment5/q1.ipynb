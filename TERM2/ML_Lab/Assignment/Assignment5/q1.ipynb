{
  "cells": [
    {
      "cell_type": "markdown",
      "metadata": {
        "colab_type": "text",
        "id": "view-in-github"
      },
      "source": [
        "<a href=\"https://colab.research.google.com/github/aymuos/masters-practise-repo/blob/main/TERM2/ML_Lab/Assignment/Assignment5/q1.ipynb\" target=\"_parent\"><img src=\"https://colab.research.google.com/assets/colab-badge.svg\" alt=\"Open In Colab\"/></a>"
      ]
    },
    {
      "cell_type": "markdown",
      "metadata": {
        "id": "WS4-LUjc-JAJ"
      },
      "source": [
        "The dataset for the assignment is a brain tumor data (brain tumor dataset.csv) that\n",
        "has 20 columns and 20000 rows. The first objective is to classify the data based on tumor\n",
        "type. You can use the 80:20 train-test split ratio.\n",
        "(a) Build a Support vector machine classifier model to classify whether a tumor is\n",
        "benign or malignant. [Marks:15]\n",
        "(b) Plot the AUC-ROC curve for the model built. Also print the classification report.\n",
        "[Marks:10]\n",
        "(c) Use PCA to reduce the dimension to 2 features. Build a classifier model with this\n",
        "data and plot the hyperplane and margins. [Marks:15]"
      ]
    },
    {
      "cell_type": "code",
      "execution_count": 1,
      "metadata": {
        "id": "yPUuuCTT-JAK"
      },
      "outputs": [],
      "source": [
        "from seaborn import load_dataset, pairplot\n",
        "import matplotlib.pyplot as plt\n",
        "import pandas as pd\n",
        "import sklearn\n",
        "from sklearn import svm\n",
        "\n",
        "from sklearn.svm import LinearSVC, SVC\n",
        "\n",
        "from sklearn.model_selection import train_test_split\n",
        "from sklearn.metrics import accuracy_score\n",
        "\n",
        "from sklearn.preprocessing import OneHotEncoder\n",
        "\n",
        "from sklearn import datasets\n",
        "from sklearn.datasets import make_blobs\n",
        "from sklearn.inspection import DecisionBoundaryDisplay\n",
        "from sklearn.datasets import make_classification\n",
        "\n",
        "from sklearn.preprocessing import OneHotEncoder\n",
        "from sklearn.compose import make_column_transformer\n",
        "\n",
        "from sklearn.metrics import classification_report, confusion_matrix\n",
        "from sklearn.metrics import ConfusionMatrixDisplay\n",
        "\n",
        "from sklearn.preprocessing import StandardScaler, OneHotEncoder, LabelEncoder, OrdinalEncoder\n",
        "from sklearn.compose import ColumnTransformer"
      ]
    },
    {
      "cell_type": "code",
      "execution_count": 2,
      "metadata": {
        "colab": {
          "base_uri": "https://localhost:8080/",
          "height": 278
        },
        "id": "tC0aT7A5-JAM",
        "outputId": "4b992820-d3d7-4ee7-ecaa-aaaf543797cc"
      },
      "outputs": [
        {
          "data": {
            "text/html": [
              "<div>\n",
              "<style scoped>\n",
              "    .dataframe tbody tr th:only-of-type {\n",
              "        vertical-align: middle;\n",
              "    }\n",
              "\n",
              "    .dataframe tbody tr th {\n",
              "        vertical-align: top;\n",
              "    }\n",
              "\n",
              "    .dataframe thead th {\n",
              "        text-align: right;\n",
              "    }\n",
              "</style>\n",
              "<table border=\"1\" class=\"dataframe\">\n",
              "  <thead>\n",
              "    <tr style=\"text-align: right;\">\n",
              "      <th></th>\n",
              "      <th>Patient_ID</th>\n",
              "      <th>Age</th>\n",
              "      <th>Gender</th>\n",
              "      <th>Tumor_Type</th>\n",
              "      <th>Tumor_Size</th>\n",
              "      <th>Location</th>\n",
              "      <th>Histology</th>\n",
              "      <th>Stage</th>\n",
              "      <th>Symptom_1</th>\n",
              "      <th>Symptom_2</th>\n",
              "      <th>Symptom_3</th>\n",
              "      <th>Radiation_Treatment</th>\n",
              "      <th>Surgery_Performed</th>\n",
              "      <th>Chemotherapy</th>\n",
              "      <th>Survival_Rate</th>\n",
              "      <th>Tumor_Growth_Rate</th>\n",
              "      <th>Family_History</th>\n",
              "      <th>MRI_Result</th>\n",
              "      <th>Follow_Up_Required</th>\n",
              "    </tr>\n",
              "  </thead>\n",
              "  <tbody>\n",
              "    <tr>\n",
              "      <th>0</th>\n",
              "      <td>1</td>\n",
              "      <td>73</td>\n",
              "      <td>Male</td>\n",
              "      <td>Malignant</td>\n",
              "      <td>5.375612</td>\n",
              "      <td>Temporal</td>\n",
              "      <td>Astrocytoma</td>\n",
              "      <td>III</td>\n",
              "      <td>Vision Issues</td>\n",
              "      <td>Seizures</td>\n",
              "      <td>Seizures</td>\n",
              "      <td>No</td>\n",
              "      <td>No</td>\n",
              "      <td>No</td>\n",
              "      <td>51.312579</td>\n",
              "      <td>0.111876</td>\n",
              "      <td>No</td>\n",
              "      <td>Positive</td>\n",
              "      <td>Yes</td>\n",
              "    </tr>\n",
              "    <tr>\n",
              "      <th>1</th>\n",
              "      <td>2</td>\n",
              "      <td>26</td>\n",
              "      <td>Male</td>\n",
              "      <td>Benign</td>\n",
              "      <td>4.847098</td>\n",
              "      <td>Parietal</td>\n",
              "      <td>Glioblastoma</td>\n",
              "      <td>II</td>\n",
              "      <td>Headache</td>\n",
              "      <td>Headache</td>\n",
              "      <td>Nausea</td>\n",
              "      <td>Yes</td>\n",
              "      <td>Yes</td>\n",
              "      <td>Yes</td>\n",
              "      <td>46.373273</td>\n",
              "      <td>2.165736</td>\n",
              "      <td>Yes</td>\n",
              "      <td>Positive</td>\n",
              "      <td>Yes</td>\n",
              "    </tr>\n",
              "    <tr>\n",
              "      <th>2</th>\n",
              "      <td>3</td>\n",
              "      <td>31</td>\n",
              "      <td>Male</td>\n",
              "      <td>Benign</td>\n",
              "      <td>5.588391</td>\n",
              "      <td>Parietal</td>\n",
              "      <td>Meningioma</td>\n",
              "      <td>I</td>\n",
              "      <td>Vision Issues</td>\n",
              "      <td>Headache</td>\n",
              "      <td>Seizures</td>\n",
              "      <td>No</td>\n",
              "      <td>No</td>\n",
              "      <td>No</td>\n",
              "      <td>47.072221</td>\n",
              "      <td>1.884228</td>\n",
              "      <td>No</td>\n",
              "      <td>Negative</td>\n",
              "      <td>No</td>\n",
              "    </tr>\n",
              "    <tr>\n",
              "      <th>3</th>\n",
              "      <td>4</td>\n",
              "      <td>29</td>\n",
              "      <td>Male</td>\n",
              "      <td>Malignant</td>\n",
              "      <td>1.436600</td>\n",
              "      <td>Temporal</td>\n",
              "      <td>Medulloblastoma</td>\n",
              "      <td>IV</td>\n",
              "      <td>Vision Issues</td>\n",
              "      <td>Seizures</td>\n",
              "      <td>Headache</td>\n",
              "      <td>Yes</td>\n",
              "      <td>No</td>\n",
              "      <td>Yes</td>\n",
              "      <td>51.853634</td>\n",
              "      <td>1.283342</td>\n",
              "      <td>Yes</td>\n",
              "      <td>Negative</td>\n",
              "      <td>No</td>\n",
              "    </tr>\n",
              "    <tr>\n",
              "      <th>4</th>\n",
              "      <td>5</td>\n",
              "      <td>54</td>\n",
              "      <td>Female</td>\n",
              "      <td>Benign</td>\n",
              "      <td>2.417506</td>\n",
              "      <td>Parietal</td>\n",
              "      <td>Glioblastoma</td>\n",
              "      <td>I</td>\n",
              "      <td>Headache</td>\n",
              "      <td>Headache</td>\n",
              "      <td>Seizures</td>\n",
              "      <td>No</td>\n",
              "      <td>No</td>\n",
              "      <td>Yes</td>\n",
              "      <td>54.708987</td>\n",
              "      <td>2.069477</td>\n",
              "      <td>No</td>\n",
              "      <td>Positive</td>\n",
              "      <td>Yes</td>\n",
              "    </tr>\n",
              "  </tbody>\n",
              "</table>\n",
              "</div>"
            ],
            "text/plain": [
              "   Patient_ID  Age  Gender Tumor_Type  Tumor_Size  Location        Histology  \\\n",
              "0           1   73    Male  Malignant    5.375612  Temporal      Astrocytoma   \n",
              "1           2   26    Male     Benign    4.847098  Parietal     Glioblastoma   \n",
              "2           3   31    Male     Benign    5.588391  Parietal       Meningioma   \n",
              "3           4   29    Male  Malignant    1.436600  Temporal  Medulloblastoma   \n",
              "4           5   54  Female     Benign    2.417506  Parietal     Glioblastoma   \n",
              "\n",
              "  Stage      Symptom_1 Symptom_2 Symptom_3 Radiation_Treatment  \\\n",
              "0   III  Vision Issues  Seizures  Seizures                  No   \n",
              "1    II       Headache  Headache    Nausea                 Yes   \n",
              "2     I  Vision Issues  Headache  Seizures                  No   \n",
              "3    IV  Vision Issues  Seizures  Headache                 Yes   \n",
              "4     I       Headache  Headache  Seizures                  No   \n",
              "\n",
              "  Surgery_Performed Chemotherapy  Survival_Rate  Tumor_Growth_Rate  \\\n",
              "0                No           No      51.312579           0.111876   \n",
              "1               Yes          Yes      46.373273           2.165736   \n",
              "2                No           No      47.072221           1.884228   \n",
              "3                No          Yes      51.853634           1.283342   \n",
              "4                No          Yes      54.708987           2.069477   \n",
              "\n",
              "  Family_History MRI_Result Follow_Up_Required  \n",
              "0             No   Positive                Yes  \n",
              "1            Yes   Positive                Yes  \n",
              "2             No   Negative                 No  \n",
              "3            Yes   Negative                 No  \n",
              "4             No   Positive                Yes  "
            ]
          },
          "execution_count": 2,
          "metadata": {},
          "output_type": "execute_result"
        }
      ],
      "source": [
        "df = pd.read_csv('./brain_tumor_dataset.csv')\n",
        "df.head()"
      ]
    },
    {
      "cell_type": "code",
      "execution_count": 3,
      "metadata": {
        "colab": {
          "base_uri": "https://localhost:8080/",
          "height": 278
        },
        "id": "xPBp95Ok-JAN",
        "outputId": "24b9c50b-39ce-426e-ad85-be1784ab350d"
      },
      "outputs": [
        {
          "data": {
            "text/html": [
              "<div>\n",
              "<style scoped>\n",
              "    .dataframe tbody tr th:only-of-type {\n",
              "        vertical-align: middle;\n",
              "    }\n",
              "\n",
              "    .dataframe tbody tr th {\n",
              "        vertical-align: top;\n",
              "    }\n",
              "\n",
              "    .dataframe thead th {\n",
              "        text-align: right;\n",
              "    }\n",
              "</style>\n",
              "<table border=\"1\" class=\"dataframe\">\n",
              "  <thead>\n",
              "    <tr style=\"text-align: right;\">\n",
              "      <th></th>\n",
              "      <th>Age</th>\n",
              "      <th>Gender</th>\n",
              "      <th>Tumor_Type</th>\n",
              "      <th>Tumor_Size</th>\n",
              "      <th>Location</th>\n",
              "      <th>Histology</th>\n",
              "      <th>Stage</th>\n",
              "      <th>Symptom_1</th>\n",
              "      <th>Symptom_2</th>\n",
              "      <th>Symptom_3</th>\n",
              "      <th>Radiation_Treatment</th>\n",
              "      <th>Surgery_Performed</th>\n",
              "      <th>Chemotherapy</th>\n",
              "      <th>Survival_Rate</th>\n",
              "      <th>Tumor_Growth_Rate</th>\n",
              "      <th>Family_History</th>\n",
              "      <th>MRI_Result</th>\n",
              "      <th>Follow_Up_Required</th>\n",
              "    </tr>\n",
              "  </thead>\n",
              "  <tbody>\n",
              "    <tr>\n",
              "      <th>0</th>\n",
              "      <td>73</td>\n",
              "      <td>Male</td>\n",
              "      <td>Malignant</td>\n",
              "      <td>5.375612</td>\n",
              "      <td>Temporal</td>\n",
              "      <td>Astrocytoma</td>\n",
              "      <td>III</td>\n",
              "      <td>Vision Issues</td>\n",
              "      <td>Seizures</td>\n",
              "      <td>Seizures</td>\n",
              "      <td>No</td>\n",
              "      <td>No</td>\n",
              "      <td>No</td>\n",
              "      <td>51.312579</td>\n",
              "      <td>0.111876</td>\n",
              "      <td>No</td>\n",
              "      <td>Positive</td>\n",
              "      <td>Yes</td>\n",
              "    </tr>\n",
              "    <tr>\n",
              "      <th>1</th>\n",
              "      <td>26</td>\n",
              "      <td>Male</td>\n",
              "      <td>Benign</td>\n",
              "      <td>4.847098</td>\n",
              "      <td>Parietal</td>\n",
              "      <td>Glioblastoma</td>\n",
              "      <td>II</td>\n",
              "      <td>Headache</td>\n",
              "      <td>Headache</td>\n",
              "      <td>Nausea</td>\n",
              "      <td>Yes</td>\n",
              "      <td>Yes</td>\n",
              "      <td>Yes</td>\n",
              "      <td>46.373273</td>\n",
              "      <td>2.165736</td>\n",
              "      <td>Yes</td>\n",
              "      <td>Positive</td>\n",
              "      <td>Yes</td>\n",
              "    </tr>\n",
              "    <tr>\n",
              "      <th>2</th>\n",
              "      <td>31</td>\n",
              "      <td>Male</td>\n",
              "      <td>Benign</td>\n",
              "      <td>5.588391</td>\n",
              "      <td>Parietal</td>\n",
              "      <td>Meningioma</td>\n",
              "      <td>I</td>\n",
              "      <td>Vision Issues</td>\n",
              "      <td>Headache</td>\n",
              "      <td>Seizures</td>\n",
              "      <td>No</td>\n",
              "      <td>No</td>\n",
              "      <td>No</td>\n",
              "      <td>47.072221</td>\n",
              "      <td>1.884228</td>\n",
              "      <td>No</td>\n",
              "      <td>Negative</td>\n",
              "      <td>No</td>\n",
              "    </tr>\n",
              "    <tr>\n",
              "      <th>3</th>\n",
              "      <td>29</td>\n",
              "      <td>Male</td>\n",
              "      <td>Malignant</td>\n",
              "      <td>1.436600</td>\n",
              "      <td>Temporal</td>\n",
              "      <td>Medulloblastoma</td>\n",
              "      <td>IV</td>\n",
              "      <td>Vision Issues</td>\n",
              "      <td>Seizures</td>\n",
              "      <td>Headache</td>\n",
              "      <td>Yes</td>\n",
              "      <td>No</td>\n",
              "      <td>Yes</td>\n",
              "      <td>51.853634</td>\n",
              "      <td>1.283342</td>\n",
              "      <td>Yes</td>\n",
              "      <td>Negative</td>\n",
              "      <td>No</td>\n",
              "    </tr>\n",
              "    <tr>\n",
              "      <th>4</th>\n",
              "      <td>54</td>\n",
              "      <td>Female</td>\n",
              "      <td>Benign</td>\n",
              "      <td>2.417506</td>\n",
              "      <td>Parietal</td>\n",
              "      <td>Glioblastoma</td>\n",
              "      <td>I</td>\n",
              "      <td>Headache</td>\n",
              "      <td>Headache</td>\n",
              "      <td>Seizures</td>\n",
              "      <td>No</td>\n",
              "      <td>No</td>\n",
              "      <td>Yes</td>\n",
              "      <td>54.708987</td>\n",
              "      <td>2.069477</td>\n",
              "      <td>No</td>\n",
              "      <td>Positive</td>\n",
              "      <td>Yes</td>\n",
              "    </tr>\n",
              "  </tbody>\n",
              "</table>\n",
              "</div>"
            ],
            "text/plain": [
              "   Age  Gender Tumor_Type  Tumor_Size  Location        Histology Stage  \\\n",
              "0   73    Male  Malignant    5.375612  Temporal      Astrocytoma   III   \n",
              "1   26    Male     Benign    4.847098  Parietal     Glioblastoma    II   \n",
              "2   31    Male     Benign    5.588391  Parietal       Meningioma     I   \n",
              "3   29    Male  Malignant    1.436600  Temporal  Medulloblastoma    IV   \n",
              "4   54  Female     Benign    2.417506  Parietal     Glioblastoma     I   \n",
              "\n",
              "       Symptom_1 Symptom_2 Symptom_3 Radiation_Treatment Surgery_Performed  \\\n",
              "0  Vision Issues  Seizures  Seizures                  No                No   \n",
              "1       Headache  Headache    Nausea                 Yes               Yes   \n",
              "2  Vision Issues  Headache  Seizures                  No                No   \n",
              "3  Vision Issues  Seizures  Headache                 Yes                No   \n",
              "4       Headache  Headache  Seizures                  No                No   \n",
              "\n",
              "  Chemotherapy  Survival_Rate  Tumor_Growth_Rate Family_History MRI_Result  \\\n",
              "0           No      51.312579           0.111876             No   Positive   \n",
              "1          Yes      46.373273           2.165736            Yes   Positive   \n",
              "2           No      47.072221           1.884228             No   Negative   \n",
              "3          Yes      51.853634           1.283342            Yes   Negative   \n",
              "4          Yes      54.708987           2.069477             No   Positive   \n",
              "\n",
              "  Follow_Up_Required  \n",
              "0                Yes  \n",
              "1                Yes  \n",
              "2                 No  \n",
              "3                 No  \n",
              "4                Yes  "
            ]
          },
          "execution_count": 3,
          "metadata": {},
          "output_type": "execute_result"
        }
      ],
      "source": [
        "df = df.drop('Patient_ID',axis=1)\n",
        "df.head()"
      ]
    },
    {
      "cell_type": "code",
      "execution_count": 4,
      "metadata": {
        "colab": {
          "base_uri": "https://localhost:8080/",
          "height": 649
        },
        "id": "DloZM7nW-JAN",
        "outputId": "2a320c0f-7509-4555-a33d-086d8cd083c8"
      },
      "outputs": [
        {
          "data": {
            "text/plain": [
              "Age                    0\n",
              "Gender                 0\n",
              "Tumor_Type             0\n",
              "Tumor_Size             0\n",
              "Location               0\n",
              "Histology              0\n",
              "Stage                  0\n",
              "Symptom_1              0\n",
              "Symptom_2              0\n",
              "Symptom_3              0\n",
              "Radiation_Treatment    0\n",
              "Surgery_Performed      0\n",
              "Chemotherapy           0\n",
              "Survival_Rate          0\n",
              "Tumor_Growth_Rate      0\n",
              "Family_History         0\n",
              "MRI_Result             0\n",
              "Follow_Up_Required     0\n",
              "dtype: int64"
            ]
          },
          "execution_count": 4,
          "metadata": {},
          "output_type": "execute_result"
        }
      ],
      "source": [
        "df.isnull().sum()"
      ]
    },
    {
      "cell_type": "code",
      "execution_count": 5,
      "metadata": {
        "colab": {
          "base_uri": "https://localhost:8080/"
        },
        "id": "TUt0LxyS-JAN",
        "outputId": "26e316a0-4017-4c8a-dd3c-112bd623a5e3"
      },
      "outputs": [
        {
          "name": "stdout",
          "output_type": "stream",
          "text": [
            "[73 26 31 29 54 27 72 61 50 79 58 71 62 37 20 67 65 36 46 55 76 49 41 38\n",
            " 63 44 56 70 42 64 48 52 78 23 39 33 32 34 30 25 75 43 47 28 60 66 35 57\n",
            " 22 21 59 69 45 40 51 74 24 53 68 77]\n",
            "['Male' 'Female']\n",
            "['Malignant' 'Benign']\n",
            "[5.37561155 4.84709779 5.58839071 ... 3.61863429 8.5190863  9.71676844]\n",
            "['Temporal' 'Parietal' 'Frontal' 'Occipital']\n",
            "['Astrocytoma' 'Glioblastoma' 'Meningioma' 'Medulloblastoma']\n",
            "['III' 'II' 'I' 'IV']\n",
            "['Vision Issues' 'Headache' 'Seizures' 'Nausea']\n",
            "['Seizures' 'Headache' 'Vision Issues' 'Nausea']\n",
            "['Seizures' 'Nausea' 'Headache' 'Vision Issues']\n",
            "['No' 'Yes']\n",
            "['No' 'Yes']\n",
            "['No' 'Yes']\n",
            "[51.31257903 46.37327271 47.07222097 ... 89.54380317 83.30678093\n",
            " 47.43346759]\n",
            "[0.11187562 2.16573562 1.88422778 ... 2.33288086 2.38720166 2.46407721]\n",
            "['No' 'Yes']\n",
            "['Positive' 'Negative']\n",
            "['Yes' 'No']\n"
          ]
        }
      ],
      "source": [
        "for i in df:\n",
        "    print(df[i].unique())"
      ]
    },
    {
      "cell_type": "code",
      "execution_count": 6,
      "metadata": {
        "colab": {
          "base_uri": "https://localhost:8080/"
        },
        "id": "fC8cBn61-JAO",
        "outputId": "8dec6f70-725d-4c66-e56b-b51bce6ecb1c"
      },
      "outputs": [
        {
          "data": {
            "text/plain": [
              "(20000, 18)"
            ]
          },
          "execution_count": 6,
          "metadata": {},
          "output_type": "execute_result"
        }
      ],
      "source": [
        "df.shape"
      ]
    },
    {
      "cell_type": "code",
      "execution_count": 7,
      "metadata": {
        "id": "1NSMwvW4-JAO"
      },
      "outputs": [],
      "source": [
        "# dividing the columns into types\n",
        "\n",
        "binary_cols = ['Gender', 'Radiation_Treatment', 'Surgery_Performed',\n",
        "                'Chemotherapy', 'Family_History', 'MRI_Result', 'Follow_Up_Required','Tumor_Type']\n",
        "categorical_cols = ['Location', 'Histology', 'Symptom_1', 'Symptom_2', 'Symptom_3']\n",
        "numeric_cols = ['Age', 'Tumor_Size', 'Survival_Rate', 'Tumor_Growth_Rate']\n",
        "ordinal_cols = ['Stage']\n",
        "\n",
        "# encode Tumor_Type seperately in the end -> binaryencoding\n",
        "\n",
        "# binary_cols --> BinaryEncoding\n",
        "# categorical_cols --> OneHotEncoding\n",
        "# Stage --> OrdinalEncoding"
      ]
    },
    {
      "cell_type": "code",
      "execution_count": 8,
      "metadata": {
        "id": "_UMGinZR-JAP"
      },
      "outputs": [],
      "source": [
        "# Plotting the data to see if there is class imbalance\n",
        "\n",
        "# y.value_counts().plot.pie(autopct='%1.1f%%', startangle=90, cmap='coolwarm')\n",
        "# plt.ylabel('')\n",
        "# plt.legend()\n",
        "# plt.title('Target Variable Distribution')\n",
        "# plt.show()"
      ]
    },
    {
      "cell_type": "code",
      "execution_count": 9,
      "metadata": {
        "colab": {
          "base_uri": "https://localhost:8080/",
          "height": 273
        },
        "id": "fowub0vq-JAQ",
        "outputId": "1da09370-cf65-4d6a-e45d-41a41e69ccfb"
      },
      "outputs": [
        {
          "data": {
            "text/html": [
              "<div>\n",
              "<style scoped>\n",
              "    .dataframe tbody tr th:only-of-type {\n",
              "        vertical-align: middle;\n",
              "    }\n",
              "\n",
              "    .dataframe tbody tr th {\n",
              "        vertical-align: top;\n",
              "    }\n",
              "\n",
              "    .dataframe thead th {\n",
              "        text-align: right;\n",
              "    }\n",
              "</style>\n",
              "<table border=\"1\" class=\"dataframe\">\n",
              "  <thead>\n",
              "    <tr style=\"text-align: right;\">\n",
              "      <th></th>\n",
              "      <th>Age</th>\n",
              "      <th>Gender</th>\n",
              "      <th>Tumor_Type</th>\n",
              "      <th>Tumor_Size</th>\n",
              "      <th>Stage</th>\n",
              "      <th>Radiation_Treatment</th>\n",
              "      <th>Surgery_Performed</th>\n",
              "      <th>Chemotherapy</th>\n",
              "      <th>Survival_Rate</th>\n",
              "      <th>Tumor_Growth_Rate</th>\n",
              "      <th>...</th>\n",
              "      <th>Symptom_1_Seizures</th>\n",
              "      <th>Symptom_1_Vision Issues</th>\n",
              "      <th>Symptom_2_Headache</th>\n",
              "      <th>Symptom_2_Nausea</th>\n",
              "      <th>Symptom_2_Seizures</th>\n",
              "      <th>Symptom_2_Vision Issues</th>\n",
              "      <th>Symptom_3_Headache</th>\n",
              "      <th>Symptom_3_Nausea</th>\n",
              "      <th>Symptom_3_Seizures</th>\n",
              "      <th>Symptom_3_Vision Issues</th>\n",
              "    </tr>\n",
              "  </thead>\n",
              "  <tbody>\n",
              "    <tr>\n",
              "      <th>0</th>\n",
              "      <td>73</td>\n",
              "      <td>1</td>\n",
              "      <td>1</td>\n",
              "      <td>5.375612</td>\n",
              "      <td>2.0</td>\n",
              "      <td>0</td>\n",
              "      <td>0</td>\n",
              "      <td>0</td>\n",
              "      <td>51.312579</td>\n",
              "      <td>0.111876</td>\n",
              "      <td>...</td>\n",
              "      <td>0.0</td>\n",
              "      <td>1.0</td>\n",
              "      <td>0.0</td>\n",
              "      <td>0.0</td>\n",
              "      <td>1.0</td>\n",
              "      <td>0.0</td>\n",
              "      <td>0.0</td>\n",
              "      <td>0.0</td>\n",
              "      <td>1.0</td>\n",
              "      <td>0.0</td>\n",
              "    </tr>\n",
              "    <tr>\n",
              "      <th>1</th>\n",
              "      <td>26</td>\n",
              "      <td>1</td>\n",
              "      <td>0</td>\n",
              "      <td>4.847098</td>\n",
              "      <td>1.0</td>\n",
              "      <td>1</td>\n",
              "      <td>1</td>\n",
              "      <td>1</td>\n",
              "      <td>46.373273</td>\n",
              "      <td>2.165736</td>\n",
              "      <td>...</td>\n",
              "      <td>0.0</td>\n",
              "      <td>0.0</td>\n",
              "      <td>1.0</td>\n",
              "      <td>0.0</td>\n",
              "      <td>0.0</td>\n",
              "      <td>0.0</td>\n",
              "      <td>0.0</td>\n",
              "      <td>1.0</td>\n",
              "      <td>0.0</td>\n",
              "      <td>0.0</td>\n",
              "    </tr>\n",
              "    <tr>\n",
              "      <th>2</th>\n",
              "      <td>31</td>\n",
              "      <td>1</td>\n",
              "      <td>0</td>\n",
              "      <td>5.588391</td>\n",
              "      <td>0.0</td>\n",
              "      <td>0</td>\n",
              "      <td>0</td>\n",
              "      <td>0</td>\n",
              "      <td>47.072221</td>\n",
              "      <td>1.884228</td>\n",
              "      <td>...</td>\n",
              "      <td>0.0</td>\n",
              "      <td>1.0</td>\n",
              "      <td>1.0</td>\n",
              "      <td>0.0</td>\n",
              "      <td>0.0</td>\n",
              "      <td>0.0</td>\n",
              "      <td>0.0</td>\n",
              "      <td>0.0</td>\n",
              "      <td>1.0</td>\n",
              "      <td>0.0</td>\n",
              "    </tr>\n",
              "    <tr>\n",
              "      <th>3</th>\n",
              "      <td>29</td>\n",
              "      <td>1</td>\n",
              "      <td>1</td>\n",
              "      <td>1.436600</td>\n",
              "      <td>3.0</td>\n",
              "      <td>1</td>\n",
              "      <td>0</td>\n",
              "      <td>1</td>\n",
              "      <td>51.853634</td>\n",
              "      <td>1.283342</td>\n",
              "      <td>...</td>\n",
              "      <td>0.0</td>\n",
              "      <td>1.0</td>\n",
              "      <td>0.0</td>\n",
              "      <td>0.0</td>\n",
              "      <td>1.0</td>\n",
              "      <td>0.0</td>\n",
              "      <td>1.0</td>\n",
              "      <td>0.0</td>\n",
              "      <td>0.0</td>\n",
              "      <td>0.0</td>\n",
              "    </tr>\n",
              "    <tr>\n",
              "      <th>4</th>\n",
              "      <td>54</td>\n",
              "      <td>0</td>\n",
              "      <td>0</td>\n",
              "      <td>2.417506</td>\n",
              "      <td>0.0</td>\n",
              "      <td>0</td>\n",
              "      <td>0</td>\n",
              "      <td>1</td>\n",
              "      <td>54.708987</td>\n",
              "      <td>2.069477</td>\n",
              "      <td>...</td>\n",
              "      <td>0.0</td>\n",
              "      <td>0.0</td>\n",
              "      <td>1.0</td>\n",
              "      <td>0.0</td>\n",
              "      <td>0.0</td>\n",
              "      <td>0.0</td>\n",
              "      <td>0.0</td>\n",
              "      <td>0.0</td>\n",
              "      <td>1.0</td>\n",
              "      <td>0.0</td>\n",
              "    </tr>\n",
              "  </tbody>\n",
              "</table>\n",
              "<p>5 rows × 33 columns</p>\n",
              "</div>"
            ],
            "text/plain": [
              "   Age  Gender  Tumor_Type  Tumor_Size  Stage  Radiation_Treatment  \\\n",
              "0   73       1           1    5.375612    2.0                    0   \n",
              "1   26       1           0    4.847098    1.0                    1   \n",
              "2   31       1           0    5.588391    0.0                    0   \n",
              "3   29       1           1    1.436600    3.0                    1   \n",
              "4   54       0           0    2.417506    0.0                    0   \n",
              "\n",
              "   Surgery_Performed  Chemotherapy  Survival_Rate  Tumor_Growth_Rate  ...  \\\n",
              "0                  0             0      51.312579           0.111876  ...   \n",
              "1                  1             1      46.373273           2.165736  ...   \n",
              "2                  0             0      47.072221           1.884228  ...   \n",
              "3                  0             1      51.853634           1.283342  ...   \n",
              "4                  0             1      54.708987           2.069477  ...   \n",
              "\n",
              "   Symptom_1_Seizures  Symptom_1_Vision Issues  Symptom_2_Headache  \\\n",
              "0                 0.0                      1.0                 0.0   \n",
              "1                 0.0                      0.0                 1.0   \n",
              "2                 0.0                      1.0                 1.0   \n",
              "3                 0.0                      1.0                 0.0   \n",
              "4                 0.0                      0.0                 1.0   \n",
              "\n",
              "   Symptom_2_Nausea  Symptom_2_Seizures  Symptom_2_Vision Issues  \\\n",
              "0               0.0                 1.0                      0.0   \n",
              "1               0.0                 0.0                      0.0   \n",
              "2               0.0                 0.0                      0.0   \n",
              "3               0.0                 1.0                      0.0   \n",
              "4               0.0                 0.0                      0.0   \n",
              "\n",
              "   Symptom_3_Headache  Symptom_3_Nausea  Symptom_3_Seizures  \\\n",
              "0                 0.0               0.0                 1.0   \n",
              "1                 0.0               1.0                 0.0   \n",
              "2                 0.0               0.0                 1.0   \n",
              "3                 1.0               0.0                 0.0   \n",
              "4                 0.0               0.0                 1.0   \n",
              "\n",
              "   Symptom_3_Vision Issues  \n",
              "0                      0.0  \n",
              "1                      0.0  \n",
              "2                      0.0  \n",
              "3                      0.0  \n",
              "4                      0.0  \n",
              "\n",
              "[5 rows x 33 columns]"
            ]
          },
          "execution_count": 9,
          "metadata": {},
          "output_type": "execute_result"
        }
      ],
      "source": [
        "# Create label encoder for binary columns\n",
        "label_encoder = LabelEncoder()\n",
        "onehot = OneHotEncoder(sparse_output=False)\n",
        "\n",
        "ordinal_categories = [['I', 'II', 'III', 'IV']]\n",
        "ordinal = OrdinalEncoder(categories=ordinal_categories)\n",
        "\n",
        "\n",
        "# Create a copy of X to avoid modifying the original dataframe\n",
        "df_encoded = df.copy()\n",
        "\n",
        "# Encode binary columns using LabelEncoder\n",
        "for col in binary_cols:\n",
        "    df_encoded[col] = label_encoder.fit_transform(df_encoded[col])\n",
        "\n",
        "# Encode categorical columns using OneHotEncoder\n",
        "\n",
        "categorical_encoded = onehot.fit_transform(df_encoded[categorical_cols])\n",
        "categorical_feature_names = onehot.get_feature_names_out(categorical_cols)\n",
        "\n",
        "# Encode ordinal column (Stage)\n",
        "\n",
        "df_encoded[ordinal_cols] = ordinal.fit_transform(df_encoded[ordinal_cols])\n",
        "\n",
        "# Convert categorical encoded array to dataframe\n",
        "categorical_df = pd.DataFrame(categorical_encoded, columns=categorical_feature_names)\n",
        "\n",
        "# Drop original categorical columns and concatenate with one-hot encoded columns\n",
        "df_encoded = df_encoded.drop(columns=categorical_cols)\n",
        "df_encoded = pd.concat([df_encoded, categorical_df], axis=1)\n",
        "\n",
        "df_encoded.head()\n"
      ]
    },
    {
      "cell_type": "code",
      "execution_count": 10,
      "metadata": {
        "colab": {
          "base_uri": "https://localhost:8080/"
        },
        "id": "goz7lLivB_3g",
        "outputId": "b62ba9c9-5c9a-4ae3-9c58-762802eba2d9"
      },
      "outputs": [
        {
          "data": {
            "text/plain": [
              "Index(['Age', 'Gender', 'Tumor_Type', 'Tumor_Size', 'Stage',\n",
              "       'Radiation_Treatment', 'Surgery_Performed', 'Chemotherapy',\n",
              "       'Survival_Rate', 'Tumor_Growth_Rate', 'Family_History', 'MRI_Result',\n",
              "       'Follow_Up_Required', 'Location_Frontal', 'Location_Occipital',\n",
              "       'Location_Parietal', 'Location_Temporal', 'Histology_Astrocytoma',\n",
              "       'Histology_Glioblastoma', 'Histology_Medulloblastoma',\n",
              "       'Histology_Meningioma', 'Symptom_1_Headache', 'Symptom_1_Nausea',\n",
              "       'Symptom_1_Seizures', 'Symptom_1_Vision Issues', 'Symptom_2_Headache',\n",
              "       'Symptom_2_Nausea', 'Symptom_2_Seizures', 'Symptom_2_Vision Issues',\n",
              "       'Symptom_3_Headache', 'Symptom_3_Nausea', 'Symptom_3_Seizures',\n",
              "       'Symptom_3_Vision Issues'],\n",
              "      dtype='object')"
            ]
          },
          "execution_count": 10,
          "metadata": {},
          "output_type": "execute_result"
        }
      ],
      "source": [
        "df_encoded.columns"
      ]
    },
    {
      "cell_type": "code",
      "execution_count": 11,
      "metadata": {
        "id": "jNTFRejv-JAR"
      },
      "outputs": [],
      "source": [
        "X=df_encoded.drop(['Tumor_Type'],axis=1)\n",
        "y = df_encoded['Tumor_Type']"
      ]
    },
    {
      "cell_type": "code",
      "execution_count": 12,
      "metadata": {
        "colab": {
          "base_uri": "https://localhost:8080/",
          "height": 428
        },
        "id": "MD3B7O5lC_FL",
        "outputId": "11b672db-043d-4ba8-c896-620212e57ba8"
      },
      "outputs": [
        {
          "data": {
            "image/png": "[encoded data removed]",
            "text/plain": [
              "<Figure size 640x480 with 1 Axes>"
            ]
          },
          "metadata": {},
          "output_type": "display_data"
        }
      ],
      "source": [
        "# Plotting the data to see if there is class imbalance\n",
        "\n",
        "y.value_counts().plot.pie(autopct='%1.1f%%', startangle=90, cmap='coolwarm')\n",
        "plt.ylabel('')\n",
        "plt.legend()\n",
        "plt.title('Target Variable Distribution')\n",
        "plt.show()"
      ]
    },
    {
      "cell_type": "code",
      "execution_count": 13,
      "metadata": {},
      "outputs": [
        {
          "data": {
            "image/png": "[encoded data removed]",
            "text/plain": [
              "<Figure size 6000x3600 with 1 Axes>"
            ]
          },
          "metadata": {},
          "output_type": "display_data"
        }
      ],
      "source": [
        "import seaborn as sns\n",
        "import matplotlib.pyplot as plt\n",
        "# Create a box plot to see scale of the datas\n",
        "\n",
        "plt.figure(figsize=(60,36))\n",
        "sns.boxplot(data=df_encoded)\n",
        "plt.title(\"Box Plot of Numeric Features\")\n",
        "plt.xlabel(\"Features\")\n",
        "plt.ylabel(\"Value\")\n",
        "plt.show()\n"
      ]
    },
    {
      "cell_type": "code",
      "execution_count": 14,
      "metadata": {
        "id": "rmOJOAQhBVXh"
      },
      "outputs": [],
      "source": [
        "X_train , X_test , y_train , y_test = train_test_split(X,y,test_size=0.2,random_state=40)"
      ]
    },
    {
      "cell_type": "code",
      "execution_count": 15,
      "metadata": {
        "colab": {
          "base_uri": "https://localhost:8080/",
          "height": 273
        },
        "id": "tFWyWd7WBXjG",
        "outputId": "a617851a-2a5e-4dd4-ed46-358a1d3d0ed5"
      },
      "outputs": [],
      "source": [
        "scaler = StandardScaler()\n",
        "\n",
        "# Apply the scaler only to the selected columns\n",
        "X_train_scl = scaler.fit_transform(X_train)\n",
        "X_test_scl = scaler.transform(X_test)"
      ]
    },
    {
      "cell_type": "code",
      "execution_count": 16,
      "metadata": {
        "colab": {
          "base_uri": "https://localhost:8080/",
          "height": 241
        },
        "id": "D50lR0rI-JAT",
        "outputId": "97b6bc34-ce59-4722-c11d-2cffa6e0c82e"
      },
      "outputs": [
        {
          "data": {
            "text/plain": [
              "10213    1\n",
              "3210     0\n",
              "2443     1\n",
              "4445     1\n",
              "9192     1\n",
              "Name: Tumor_Type, dtype: int64"
            ]
          },
          "execution_count": 16,
          "metadata": {},
          "output_type": "execute_result"
        }
      ],
      "source": [
        "y_train.head()"
      ]
    },
    {
      "cell_type": "code",
      "execution_count": 17,
      "metadata": {
        "colab": {
          "base_uri": "https://localhost:8080/"
        },
        "id": "qsrlqJ4fHMES",
        "outputId": "70ee46f3-9109-48a3-d1f7-a38e4be3bef8"
      },
      "outputs": [
        {
          "data": {
            "text/plain": [
              "((16000, 32), (4000, 32), (16000,), (4000,))"
            ]
          },
          "execution_count": 17,
          "metadata": {},
          "output_type": "execute_result"
        }
      ],
      "source": [
        "X_train_scl.shape , X_test_scl.shape , y_train.shape , y_test.shape"
      ]
    },
    {
      "cell_type": "code",
      "execution_count": 26,
      "metadata": {
        "colab": {
          "base_uri": "https://localhost:8080/"
        },
        "id": "gnUKFUn7HwVZ",
        "outputId": "03883ef2-fdff-4b0e-d0d1-03bcdf0d1526"
      },
      "outputs": [
        {
          "name": "stdout",
          "output_type": "stream",
          "text": [
            "LinearSVC training accuracy score 0.5115\n",
            "SVC training accuracy score 0.512625\n"
          ]
        }
      ],
      "source": [
        "clf_1 = LinearSVC().fit(X_train_scl, y_train)  # possible to state loss='hinge'\n",
        "clf_2 = SVC(kernel='linear').fit(X_train_scl, y_train)\n",
        "\n",
        "score_1 = clf_1.score(X_train_scl, y_train)\n",
        "score_2 = clf_2.score(X_train_scl, y_train)\n",
        "\n",
        "print('LinearSVC training accuracy score %s' % score_1)\n",
        "print('SVC training accuracy score %s' % score_2)"
      ]
    },
    {
      "cell_type": "code",
      "execution_count": 19,
      "metadata": {},
      "outputs": [
        {
          "name": "stdout",
          "output_type": "stream",
          "text": [
            "Training accuracy of LinearSVC: 0.511\n",
            "Training accuracy of SVC: 0.513\n"
          ]
        }
      ],
      "source": [
        "# Print training accuracy for each model\n",
        "y_train_pred = clf_1.predict(X_train_scl)\n",
        "train_accuracy = accuracy_score(y_train, y_train_pred)\n",
        "print(f\"Training accuracy of LinearSVC: {train_accuracy:.3f}\")\n",
        "\n",
        "y_train_pred1 = clf_2.predict(X_train_scl)\n",
        "train_accuracy = accuracy_score(y_train, y_train_pred1)\n",
        "print(f\"Training accuracy of SVC: {train_accuracy:.3f}\")"
      ]
    },
    {
      "cell_type": "code",
      "execution_count": null,
      "metadata": {
        "id": "DHcknbYngizG"
      },
      "outputs": [],
      "source": [
        "# starting all models\n",
        "\n",
        "C = 1.0\n",
        "models = (\n",
        "    svm.SVC(kernel=\"linear\", C=C),\n",
        "    svm.LinearSVC(C=C, max_iter=10000),\n",
        "    svm.SVC(kernel=\"rbf\", gamma=0.7, C=C),\n",
        "    svm.SVC(kernel=\"poly\", degree=3, gamma='scale', C=C),\n",
        ")\n",
        "\n",
        "models = (clf.fit(X, y) for clf in models)\n",
        "\n",
        "titles = (\n",
        "    \"SVC with linear kernel\",\n",
        "    \"LinearSVC (linear kernel)\",\n",
        "    \"SVC with RBF kernel\",\n",
        "    \"SVC with polynomial (degree 3) kernel\",\n",
        ")\n",
        "\n",
        "# polynomial kernel is taking more than 3 hrs to execute"
      ]
    },
    {
      "cell_type": "code",
      "execution_count": null,
      "metadata": {
        "colab": {
          "base_uri": "https://localhost:8080/"
        },
        "id": "H17iFsaeheH5",
        "outputId": "44816264-3e6d-47f6-995b-e06d3325a47d"
      },
      "outputs": [
        {
          "name": "stderr",
          "output_type": "stream",
          "text": [
            "d:\\Documents\\Github\\masters-practise-repo\\TERM2\\.venv\\Lib\\site-packages\\sklearn\\utils\\validation.py:2739: UserWarning: X does not have valid feature names, but SVC was fitted with feature names\n",
            "  warnings.warn(\n"
          ]
        },
        {
          "name": "stdout",
          "output_type": "stream",
          "text": [
            "Accuracy of SVC with linear kernel: 0.528\n",
            "Accuracy of LinearSVC (linear kernel): 0.528\n"
          ]
        },
        {
          "name": "stderr",
          "output_type": "stream",
          "text": [
            "d:\\Documents\\Github\\masters-practise-repo\\TERM2\\.venv\\Lib\\site-packages\\sklearn\\utils\\validation.py:2739: UserWarning: X does not have valid feature names, but LinearSVC was fitted with feature names\n",
            "  warnings.warn(\n",
            "d:\\Documents\\Github\\masters-practise-repo\\TERM2\\.venv\\Lib\\site-packages\\sklearn\\utils\\validation.py:2739: UserWarning: X does not have valid feature names, but SVC was fitted with feature names\n",
            "  warnings.warn(\n"
          ]
        },
        {
          "name": "stdout",
          "output_type": "stream",
          "text": [
            "Accuracy of SVC with RBF kernel: 0.501\n"
          ]
        }
      ],
      "source": [
        "\n",
        "from sklearn.metrics import accuracy_score\n",
        "\n",
        "accuracy_scores = []\n",
        "\n",
        "for clf, title in zip(models, titles):\n",
        "    y_pred = clf.predict(X_test_scl)\n",
        "    accuracy = accuracy_score(y_test, y_pred)\n",
        "    accuracy_scores.append(accuracy)\n",
        "    print(f\"Test Accuracy of {title}: {accuracy}\")\n"
      ]
    },
    {
      "cell_type": "code",
      "execution_count": 22,
      "metadata": {},
      "outputs": [],
      "source": [
        "clf_3 = svm.SVC(kernel=\"poly\", degree=3, gamma=\"scale\", C=C).fit(X_train_scl, y_train)"
      ]
    },
    {
      "cell_type": "code",
      "execution_count": 24,
      "metadata": {},
      "outputs": [],
      "source": [
        "score_3 = clf_3.score(X_train_scl, y_train)"
      ]
    },
    {
      "cell_type": "code",
      "execution_count": null,
      "metadata": {},
      "outputs": [
        {
          "data": {
            "text/plain": [
              "0.6786875"
            ]
          },
          "execution_count": 25,
          "metadata": {},
          "output_type": "execute_result"
        }
      ],
      "source": [
        "print('Polynomial Kernel of degree 3 training accuracy score %s' % score_3)"
      ]
    },
    {
      "cell_type": "code",
      "execution_count": 23,
      "metadata": {
        "id": "tBjq6bg3hwqI"
      },
      "outputs": [
        {
          "data": {
            "image/png": "[encoded data removed]",
            "text/plain": [
              "<Figure size 800x600 with 1 Axes>"
            ]
          },
          "metadata": {},
          "output_type": "display_data"
        },
        {
          "name": "stdout",
          "output_type": "stream",
          "text": [
            "Classification Report for clf_1:\n",
            "              precision    recall  f1-score   support\n",
            "\n",
            "           0       0.51      0.35      0.41      1996\n",
            "           1       0.50      0.66      0.57      2004\n",
            "\n",
            "    accuracy                           0.50      4000\n",
            "   macro avg       0.50      0.50      0.49      4000\n",
            "weighted avg       0.50      0.50      0.49      4000\n",
            "\n",
            "\n",
            "Classification Report for clf_2:\n"
          ]
        },
        {
          "name": "stderr",
          "output_type": "stream",
          "text": [
            "d:\\Documents\\Github\\masters-practise-repo\\TERM2\\.venv\\Lib\\site-packages\\sklearn\\utils\\validation.py:2732: UserWarning: X has feature names, but LinearSVC was fitted without feature names\n",
            "  warnings.warn(\n",
            "d:\\Documents\\Github\\masters-practise-repo\\TERM2\\.venv\\Lib\\site-packages\\sklearn\\utils\\validation.py:2732: UserWarning: X has feature names, but SVC was fitted without feature names\n",
            "  warnings.warn(\n"
          ]
        },
        {
          "name": "stdout",
          "output_type": "stream",
          "text": [
            "              precision    recall  f1-score   support\n",
            "\n",
            "           0       0.50      0.54      0.52      1996\n",
            "           1       0.51      0.47      0.49      2004\n",
            "\n",
            "    accuracy                           0.51      4000\n",
            "   macro avg       0.51      0.51      0.50      4000\n",
            "weighted avg       0.51      0.51      0.50      4000\n",
            "\n"
          ]
        }
      ],
      "source": [
        "from sklearn.metrics import roc_curve, auc\n",
        "import matplotlib.pyplot as plt\n",
        "\n",
        "\n",
        "\n",
        "y_pred_proba_1 = clf_1.decision_function(X_test_scl) # decision_function for LinearSVC\n",
        "y_pred_proba_2 = clf_2.decision_function(X_test_scl) # decision_function for SVC\n",
        "\n",
        "# y_pred_proba_3 = clf_3.decision_function(X_test_scl)\n",
        "\n",
        "# Calculate ROC curve and AUC for clf_1\n",
        "fpr1, tpr1, _ = roc_curve(y_test, y_pred_proba_1)\n",
        "roc_auc1 = auc(fpr1, tpr1)\n",
        "\n",
        "# Calculate ROC curve and AUC for clf_2\n",
        "fpr2, tpr2, _ = roc_curve(y_test, y_pred_proba_2)\n",
        "roc_auc2 = auc(fpr2, tpr2)\n",
        "\n",
        "\n",
        "# Plot the ROC curves\n",
        "plt.figure(figsize=(8, 6))\n",
        "plt.plot(fpr1, tpr1, color='darkorange', lw=2, label=f'ROC curve (clf_1) (area = {roc_auc1:.2f})')\n",
        "plt.plot(fpr2, tpr2, color='darkgreen', lw=2, label=f'ROC curve (clf_2) (area = {roc_auc2:.2f})')\n",
        "plt.plot([0, 1], [0, 1], color='navy', lw=2, linestyle='--')\n",
        "plt.xlim([0.0, 1.0])\n",
        "plt.ylim([0.0, 1.05])\n",
        "plt.xlabel('False Positive Rate')\n",
        "plt.ylabel('True Positive Rate')\n",
        "plt.title('Receiver Operating Characteristic (ROC) Curve')\n",
        "plt.legend(loc=\"lower right\")\n",
        "plt.show()\n",
        "\n",
        "# Print classification reports\n",
        "print(\"Classification Report for clf_1:\")\n",
        "print(classification_report(y_test, clf_1.predict(X_test)))\n",
        "\n",
        "print(\"\\nClassification Report for clf_2:\")\n",
        "print(classification_report(y_test, clf_2.predict(X_test)))\n"
      ]
    },
    {
      "cell_type": "code",
      "execution_count": null,
      "metadata": {},
      "outputs": [],
      "source": []
    }
  ],
  "metadata": {
    "colab": {
      "include_colab_link": true,
      "provenance": []
    },
    "kernelspec": {
      "display_name": ".venv",
      "language": "python",
      "name": "python3"
    },
    "language_info": {
      "codemirror_mode": {
        "name": "ipython",
        "version": 3
      },
      "file_extension": ".py",
      "mimetype": "text/x-python",
      "name": "python",
      "nbconvert_exporter": "python",
      "pygments_lexer": "ipython3",
      "version": "3.12.0"
    }
  },
  "nbformat": 4,
  "nbformat_minor": 0
}
