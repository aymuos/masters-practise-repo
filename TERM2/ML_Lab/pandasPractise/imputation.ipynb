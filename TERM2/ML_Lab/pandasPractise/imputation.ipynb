{
  "nbformat": 4,
  "nbformat_minor": 0,
  "metadata": {
    "colab": {
      "provenance": [],
      "authorship_tag": "ABX9TyNfIjcShww+NfgrTUMrHjWP",
      "include_colab_link": true
    },
    "kernelspec": {
      "name": "python3",
      "display_name": "Python 3"
    },
    "language_info": {
      "name": "python"
    }
  },
  "cells": [
    {
      "cell_type": "markdown",
      "metadata": {
        "id": "view-in-github",
        "colab_type": "text"
      },
      "source": [
        "<a href=\"https://colab.research.google.com/github/aymuos/masters-practise-repo/blob/main/TERM2/ML_Lab/pandasPractise/imputation.ipynb\" target=\"_parent\"><img src=\"https://colab.research.google.com/assets/colab-badge.svg\" alt=\"Open In Colab\"/></a>"
      ]
    },
    {
      "cell_type": "code",
      "source": [],
      "metadata": {
        "id": "LG9Wwg6Ln3Zl"
      },
      "execution_count": null,
      "outputs": []
    },
    {
      "cell_type": "markdown",
      "source": [
        "- These imputations cam be done based on certain conditions :\n",
        "\n",
        "| **Zero Imputation** | When the missing value is expected to be zero or when the it is not informative. |\n",
        "\n",
        "| **Mean Imputation** | When data is normally distributed and missing values are random. |\n",
        "\n",
        "| **Median Imputation** | When the distributin of the data is skewed. |"
      ],
      "metadata": {
        "id": "j4ldfbmjn64g"
      }
    },
    {
      "cell_type": "code",
      "source": [
        "import numpy as np\n",
        "import pandas as pd\n",
        "\n"
      ],
      "metadata": {
        "id": "KG-zPCimoIoB"
      },
      "execution_count": null,
      "outputs": []
    }
  ]
}