{
  "cells": [
    {
      "cell_type": "markdown",
      "metadata": {
        "id": "unCSW7UgOrwq"
      },
      "source": [
        "### **Handling missing values in the dataset**\n",
        "\n",
        "| **Method**                 | **When to Use** |\n",
        "|----------------------------|----------------|\n",
        "| **Drop Rows** | When missing values are few and random. |\n",
        "| **Drop Columns** | When a column has too many missing values (>50%). |\n",
        "| **Zero Imputation** | When the missing value is expected to be zero or when the it is not informative. |\n",
        "| **Mean Imputation** | When data is normally distributed and missing values are random. |\n",
        "| **Median Imputation** | When the distributin of the data is skewed. |"
      ]
    },
    {
      "cell_type": "markdown",
      "metadata": {
        "id": "OoDyUdryOrww"
      },
      "source": [
        "### **Examples**"
      ]
    },
    {
      "cell_type": "code",
      "execution_count": null,
      "metadata": {
        "id": "GO_7cTbmOrwy",
        "outputId": "415e0cdc-1600-4b3c-c9a1-2b46d08f659f"
      },
      "outputs": [
        {
          "name": "stdout",
          "output_type": "stream",
          "text": [
            "   A    B\n",
            "0  1  NaN\n",
            "1  2  2.0\n",
            "2  5  3.0\n",
            "3  4  NaN\n"
          ]
        }
      ],
      "source": [
        "# Drop missing values\n",
        "import pandas as pd\n",
        "\n",
        "# Creating a simple dataset with NaN values for demonstration\n",
        "data = {'A': [1, 2, 5, 4], 'B':[None, 2, 3, None]}\n",
        "df = pd.DataFrame(data)\n",
        "print(df)"
      ]
    },
    {
      "cell_type": "code",
      "execution_count": null,
      "metadata": {
        "id": "tShhvtp7Orw2",
        "outputId": "dddf2113-6b77-4ffd-85a7-29581764d9f1"
      },
      "outputs": [
        {
          "name": "stdout",
          "output_type": "stream",
          "text": [
            "\n",
            "DataFrame after dropping NaN values:\n",
            "   A    B\n",
            "1  2  2.0\n",
            "2  5  3.0\n"
          ]
        }
      ],
      "source": [
        "# Drop rows with NaN values\n",
        "df_new = df.dropna()\n",
        "print(\"\\nDataFrame after dropping NaN values:\")\n",
        "print(df_new)"
      ]
    },
    {
      "cell_type": "code",
      "execution_count": null,
      "metadata": {
        "id": "GxoFMjeiOrw3",
        "outputId": "f6bc9798-45e1-4a20-9acf-f05bfe97487a"
      },
      "outputs": [
        {
          "name": "stdout",
          "output_type": "stream",
          "text": [
            "\n",
            "DataFrame after dropping columns with NaN values:\n",
            "   A\n",
            "0  1\n",
            "1  2\n",
            "2  5\n",
            "3  4\n"
          ]
        }
      ],
      "source": [
        "# Drop columns with NaN values\n",
        "df_new = df.dropna(axis=1)\n",
        "print(\"\\nDataFrame after dropping columns with NaN values:\")\n",
        "print(df_new)"
      ]
    },
    {
      "cell_type": "code",
      "execution_count": null,
      "metadata": {
        "id": "hvMJIhxCOrw5",
        "outputId": "92c87e24-eb36-4359-c894-5976ab67a760"
      },
      "outputs": [
        {
          "name": "stdout",
          "output_type": "stream",
          "text": [
            "\n",
            "DataFrame after zero imputation:\n",
            "   A    B\n",
            "0  1  0.0\n",
            "1  2  2.0\n",
            "2  5  3.0\n",
            "3  4  0.0\n"
          ]
        }
      ],
      "source": [
        "# Imputation methods\n",
        "# 1. Zero Imputation\n",
        "df1 = df\n",
        "df_filled1 = df1.fillna(0)\n",
        "print(\"\\nDataFrame after zero imputation:\")\n",
        "print(df_filled1)"
      ]
    },
    {
      "cell_type": "code",
      "execution_count": null,
      "metadata": {
        "id": "sTSXhXL6Orw7",
        "outputId": "a13bd8d6-5bb0-4294-e1c1-e63888160003"
      },
      "outputs": [
        {
          "name": "stdout",
          "output_type": "stream",
          "text": [
            "\n",
            "DataFrame after mean imputation:\n",
            "   A    B\n",
            "0  1  2.5\n",
            "1  2  2.0\n",
            "2  5  3.0\n",
            "3  4  2.5\n"
          ]
        }
      ],
      "source": [
        "# 2. Mean Imputation (method 1)\n",
        "df2 = df\n",
        "df_filled2 = df2.fillna(df.mean())\n",
        "print(\"\\nDataFrame after mean imputation:\")\n",
        "print(df_filled2)"
      ]
    },
    {
      "cell_type": "code",
      "execution_count": null,
      "metadata": {
        "id": "EootDQmoOrw9",
        "outputId": "1ddee3c5-aede-4b17-d8c2-906f41299bf7"
      },
      "outputs": [
        {
          "name": "stdout",
          "output_type": "stream",
          "text": [
            "\n",
            "DataFrame after mean imputation using SimpleImputer:\n",
            "     A    B\n",
            "0  1.0  2.5\n",
            "1  2.0  2.0\n",
            "2  5.0  3.0\n",
            "3  4.0  2.5\n"
          ]
        }
      ],
      "source": [
        "# 2. Mean Imputation (method 2: using SimpleImputer)\n",
        "from sklearn.impute import SimpleImputer\n",
        "imp = SimpleImputer(strategy='mean')\n",
        "df3 = df\n",
        "df_filled3 = pd.DataFrame(imp.fit_transform(df3),columns=df3.columns)\n",
        "print(\"\\nDataFrame after mean imputation using SimpleImputer:\")\n",
        "print(df_filled3)"
      ]
    },
    {
      "cell_type": "code",
      "execution_count": null,
      "metadata": {
        "id": "Mf4I_IcSOrw_",
        "outputId": "06f942d1-9505-4521-cc54-2faa0e12ca4e"
      },
      "outputs": [
        {
          "name": "stdout",
          "output_type": "stream",
          "text": [
            "\n",
            "DataFrame after median imputation:\n",
            "   A    B\n",
            "0  1  2.5\n",
            "1  2  2.0\n",
            "2  5  3.0\n",
            "3  4  2.5\n"
          ]
        }
      ],
      "source": [
        "# 3. Median Imputation(method 1)\n",
        "df4 = df\n",
        "df_filled4 = df4.fillna(df.median())\n",
        "print(\"\\nDataFrame after median imputation:\")\n",
        "print(df_filled4)"
      ]
    },
    {
      "cell_type": "code",
      "execution_count": null,
      "metadata": {
        "id": "2r-qBhLuOrxB",
        "outputId": "34515159-992f-4c02-eb73-18cb73307e43"
      },
      "outputs": [
        {
          "name": "stdout",
          "output_type": "stream",
          "text": [
            "\n",
            "DataFrame after median imputation using SimpleImputer:\n",
            "     A    B\n",
            "0  1.0  2.5\n",
            "1  2.0  2.0\n",
            "2  5.0  3.0\n",
            "3  4.0  2.5\n"
          ]
        }
      ],
      "source": [
        "# 3. Median Imputation (method 2: using SimpleImputer)\n",
        "imp = SimpleImputer(strategy='median')\n",
        "df5 = df\n",
        "df_filled4 = pd.DataFrame(imp.fit_transform(df5),columns=df5.columns)\n",
        "print(\"\\nDataFrame after median imputation using SimpleImputer:\")\n",
        "print(df_filled4)"
      ]
    },
    {
      "cell_type": "code",
      "execution_count": null,
      "metadata": {
        "id": "9pbKXONGOrxC"
      },
      "outputs": [],
      "source": [
        "# # Example code snippet for histogram plot comparison\n",
        "# import matplotlib.pyplot as plt\n",
        "# import seaborn as sns\n",
        "# plt.figure(figsize=(10, 5))  # Set the figure size\n",
        "# plt.subplot(1, 2, 1)         # Create a subplot\n",
        "# sns.histplot(df)             # Plot the histogram, replace 'df' with the actual data\n",
        "# plt.title(\"Label of first subplot goes here\")\n",
        "# plt.subplot(1, 2, 2)         # Creating second plot\n",
        "# sns.histplot(df_filled4)     # Plot the histogram, replace 'df_filled4' with the actual data\n",
        "# plt.title(\"Label of the second subplot goes here\") # Set the title of the second subplot\n",
        "# plt.show()"
      ]
    }
  ],
  "metadata": {
    "kernelspec": {
      "display_name": "base",
      "language": "python",
      "name": "python3"
    },
    "language_info": {
      "codemirror_mode": {
        "name": "ipython",
        "version": 3
      },
      "file_extension": ".py",
      "mimetype": "text/x-python",
      "name": "python",
      "nbconvert_exporter": "python",
      "pygments_lexer": "ipython3",
      "version": "3.12.7"
    },
    "colab": {
      "provenance": []
    }
  },
  "nbformat": 4,
  "nbformat_minor": 0
}