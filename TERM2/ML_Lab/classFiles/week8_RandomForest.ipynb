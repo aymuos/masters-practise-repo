{
 "cells": [
  {
   "cell_type": "code",
   "execution_count": 1,
   "metadata": {},
   "outputs": [
    {
     "name": "stdout",
     "output_type": "stream",
     "text": [
      "Collecting category_encoders\n",
      "  Downloading category_encoders-2.8.1-py3-none-any.whl.metadata (7.9 kB)\n",
      "Requirement already satisfied: numpy>=1.14.0 in d:\\documents\\github\\masters-practise-repo\\term2\\.venv\\lib\\site-packages (from category_encoders) (2.2.3)\n",
      "Requirement already satisfied: pandas>=1.0.5 in d:\\documents\\github\\masters-practise-repo\\term2\\.venv\\lib\\site-packages (from category_encoders) (2.2.3)\n",
      "Requirement already satisfied: patsy>=0.5.1 in d:\\documents\\github\\masters-practise-repo\\term2\\.venv\\lib\\site-packages (from category_encoders) (1.0.1)\n",
      "Requirement already satisfied: scikit-learn>=1.6.0 in d:\\documents\\github\\masters-practise-repo\\term2\\.venv\\lib\\site-packages (from category_encoders) (1.6.1)\n",
      "Requirement already satisfied: scipy>=1.0.0 in d:\\documents\\github\\masters-practise-repo\\term2\\.venv\\lib\\site-packages (from category_encoders) (1.15.2)\n",
      "Requirement already satisfied: statsmodels>=0.9.0 in d:\\documents\\github\\masters-practise-repo\\term2\\.venv\\lib\\site-packages (from category_encoders) (0.14.4)\n",
      "Requirement already satisfied: python-dateutil>=2.8.2 in d:\\documents\\github\\masters-practise-repo\\term2\\.venv\\lib\\site-packages (from pandas>=1.0.5->category_encoders) (2.9.0.post0)\n",
      "Requirement already satisfied: pytz>=2020.1 in d:\\documents\\github\\masters-practise-repo\\term2\\.venv\\lib\\site-packages (from pandas>=1.0.5->category_encoders) (2025.1)\n",
      "Requirement already satisfied: tzdata>=2022.7 in d:\\documents\\github\\masters-practise-repo\\term2\\.venv\\lib\\site-packages (from pandas>=1.0.5->category_encoders) (2025.1)\n",
      "Requirement already satisfied: joblib>=1.2.0 in d:\\documents\\github\\masters-practise-repo\\term2\\.venv\\lib\\site-packages (from scikit-learn>=1.6.0->category_encoders) (1.4.2)\n",
      "Requirement already satisfied: threadpoolctl>=3.1.0 in d:\\documents\\github\\masters-practise-repo\\term2\\.venv\\lib\\site-packages (from scikit-learn>=1.6.0->category_encoders) (3.5.0)\n",
      "Requirement already satisfied: packaging>=21.3 in d:\\documents\\github\\masters-practise-repo\\term2\\.venv\\lib\\site-packages (from statsmodels>=0.9.0->category_encoders) (24.2)\n",
      "Requirement already satisfied: six>=1.5 in d:\\documents\\github\\masters-practise-repo\\term2\\.venv\\lib\\site-packages (from python-dateutil>=2.8.2->pandas>=1.0.5->category_encoders) (1.17.0)\n",
      "Downloading category_encoders-2.8.1-py3-none-any.whl (85 kB)\n",
      "Installing collected packages: category_encoders\n",
      "Successfully installed category_encoders-2.8.1\n",
      "Note: you may need to restart the kernel to use updated packages.\n"
     ]
    }
   ],
   "source": [
    "%pip install category_encoders"
   ]
  },
  {
   "cell_type": "code",
   "execution_count": null,
   "metadata": {},
   "outputs": [],
   "source": [
    "import matplotlib.pyplot as plt\n",
    "import seaborn as sns\n",
    "\n",
    "from sklearn.model_selection import train_test_split                                #For splitting the data into train and test\n",
    "from sklearn.ensemble import RandomForestClassifier                                 #For Random Forest Classifier\n",
    "from sklearn.metrics import accuracy_score, classification_report, confusion_matrix #For model evaluation\n",
    "from sklearn.metrics import classification_report                                   #For classification report\n",
    "\n",
    "import category_encoders as ce\n",
    "from sklearn.model_selection import GridSearchCV\n",
    "from sklearn.feature_selection import SelectFromModel\n",
    "\n",
    "from sklearn import tree\n",
    "\n",
    "from sklearn.tree import DecisionTreeClassifier\n",
    "from sklearn.ensemble import BaggingClassifier\n",
    "\n",
    "from sklearn.preprocessing import LabelEncoder\n",
    "from sklearn.preprocessing import label_binarize\n",
    "from sklearn.naive_bayes import GaussianNB\n",
    "\n",
    "from sklearn.discriminant_analysis import LinearDiscriminantAnalysis\n",
    "from sklearn.discriminant_analysis import QuadraticDiscriminantAnalysis\n",
    "\n",
    "from sklearn.ensemble import AdaBoostClassifier \n",
    "from sklearn.tree import DecisionTreeClassifier\n",
    "\n",
    "from sklearn.neighbors import KNeighborsClassifier"
   ]
  },
  {
   "cell_type": "code",
   "execution_count": null,
   "metadata": {},
   "outputs": [],
   "source": [
    "model7 = KNeighborsClassifier()\n",
    "\n",
    "params_grid ={\n",
    "    \"n_neighbours\" : [3,5,7,9],\n",
    "    \"weights\" : ['uniform'] \n",
    "}\n",
    "\n",
    "gscv = GridSearchCV(estimator=model7 , params_grid = param_grid , cv=5 , n_jobs = -1)\n",
    "\n",
    "gscv.fit(X_train,y_train)\n",
    "\n",
    "y_pred = gscv.predict(X_test)\n",
    "\n",
    "accuracy_score = accuracy_score(y_test,y_pred)\n",
    "\n",
    "print(\"Best parameter\"+ gscv.best_params_)\n",
    "\n",
    "\n",
    "classification_report(y_test,y_pred)"
   ]
  }
 ],
 "metadata": {
  "kernelspec": {
   "display_name": ".venv",
   "language": "python",
   "name": "python3"
  },
  "language_info": {
   "codemirror_mode": {
    "name": "ipython",
    "version": 3
   },
   "file_extension": ".py",
   "mimetype": "text/x-python",
   "name": "python",
   "nbconvert_exporter": "python",
   "pygments_lexer": "ipython3",
   "version": "3.12.0"
  }
 },
 "nbformat": 4,
 "nbformat_minor": 2
}
