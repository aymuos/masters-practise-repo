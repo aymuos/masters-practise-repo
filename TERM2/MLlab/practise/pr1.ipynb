{
  "nbformat": 4,
  "nbformat_minor": 0,
  "metadata": {
    "colab": {
      "provenance": [],
      "authorship_tag": "ABX9TyPFMUAc+bcwFb0YaHyB5fJe",
      "include_colab_link": true
    },
    "kernelspec": {
      "name": "python3",
      "display_name": "Python 3"
    },
    "language_info": {
      "name": "python"
    }
  },
  "cells": [
    {
      "cell_type": "markdown",
      "metadata": {
        "id": "view-in-github",
        "colab_type": "text"
      },
      "source": [
        "<a href=\"https://colab.research.google.com/github/aymuos/masters-practise-repo/blob/main/TERM2/MLlab/practise/pr1.ipynb\" target=\"_parent\"><img src=\"https://colab.research.google.com/assets/colab-badge.svg\" alt=\"Open In Colab\"/></a>"
      ]
    },
    {
      "cell_type": "markdown",
      "source": [
        "Question 1:\n",
        "\n",
        "Matrix Manipulations and Statistics\n",
        "Create a\n",
        "7\n",
        "×\n",
        "7 matrix M with random integers between 1 and 50. Perform the following:\n",
        "- Find the sum of all elements in\n",
        "M.\n",
        "- Compute the row-wise and column-wise means.\n",
        "- Replace all odd numbers in M with −1."
      ],
      "metadata": {
        "id": "mtWJn1hZByt4"
      }
    },
    {
      "cell_type": "code",
      "execution_count": null,
      "metadata": {
        "id": "XhjuL0m6_ATz"
      },
      "outputs": [],
      "source": []
    }
  ]
}