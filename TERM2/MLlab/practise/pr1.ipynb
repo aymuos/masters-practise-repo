{
  "nbformat": 4,
  "nbformat_minor": 0,
  "metadata": {
    "colab": {
      "provenance": [],
      "authorship_tag": "ABX9TyP31njDNcHkGgfdA/sVZUbN",
      "include_colab_link": true
    },
    "kernelspec": {
      "name": "python3",
      "display_name": "Python 3"
    },
    "language_info": {
      "name": "python"
    }
  },
  "cells": [
    {
      "cell_type": "markdown",
      "metadata": {
        "id": "view-in-github",
        "colab_type": "text"
      },
      "source": [
        "<a href=\"https://colab.research.google.com/github/aymuos/masters-practise-repo/blob/main/TERM2/MLlab/practise/pr1.ipynb\" target=\"_parent\"><img src=\"https://colab.research.google.com/assets/colab-badge.svg\" alt=\"Open In Colab\"/></a>"
      ]
    },
    {
      "cell_type": "markdown",
      "source": [
        "Question 1:\n",
        "\n",
        "**Matrix Manipulations and Statistics**\n",
        "\n",
        "\n",
        "Create a\n",
        "7\n",
        "×\n",
        "7 matrix M with random integers between 1 and 50. Perform the following:\n",
        "- Find the sum of all elements in\n",
        "M.\n",
        "- Compute the row-wise and column-wise means.\n",
        "- Replace all odd numbers in M with −1."
      ],
      "metadata": {
        "id": "mtWJn1hZByt4"
      }
    },
    {
      "cell_type": "markdown",
      "source": [
        "Question 2: **Image-Like Gradient Matrix**\n",
        "\n",
        "\n",
        "Generate a\n",
        "10×10 matrix\n",
        "𝐺\n",
        "G such that each element\n",
        "𝐺[i,j] represents the gradient:\n",
        "𝐺\n",
        "[\n",
        "𝑖\n",
        ",\n",
        "𝑗\n",
        "]\n",
        "=\n",
        "𝑖\n",
        "+\n",
        "𝑗\n",
        " .\n",
        "\n",
        "- Find the maximum gradient value and its coordinates.\n",
        "- Create a binary matrix where values are 1 if the gradient is even, and 0 otherwise.\n",
        "- Compute the cumulative sum of all elements in\n",
        "𝐺\n",
        "G."
      ],
      "metadata": {
        "id": "RCpb0BupCO1F"
      }
    },
    {
      "cell_type": "markdown",
      "source": [
        "**Question 3: Simulating Random Data**\n",
        "\n",
        "\n",
        "Simulate a dataset of\n",
        "100 students' scores in 5 subjects using a\n",
        "100×5 NumPy array where scores range from 0 to 100. Perform the following:\n",
        "\n",
        "- Compute the average score for each student.\n",
        "- Identify students who scored above 90 in at least 3 subjects.\n",
        "- Normalize the scores for each subject (scale to the range 0–1)."
      ],
      "metadata": {
        "id": "3SuZMEeGCr0v"
      }
    },
    {
      "cell_type": "markdown",
      "source": [
        "**Question 4: Distance Calculations in 2D Space**\n",
        "\n",
        "\n",
        "Create an array of 20 random 2D points\n",
        "(\n",
        "𝑥\n",
        ",\n",
        "𝑦\n",
        ") with coordinates in the range\n",
        "[0,100].\n",
        "\n",
        "- Compute the pairwise Euclidean distances between all points.\n",
        "- Identify the two points that are farthest apart.\n",
        "- Find all points within a radius of 30 units from the origin\n",
        "(0,0)."
      ],
      "metadata": {
        "id": "_GaJtmrzDHxs"
      }
    },
    {
      "cell_type": "markdown",
      "source": [
        "**Question 5: Weather Data Simulation**\n",
        "\n",
        "Simulate a\n",
        "30\n",
        "×\n",
        "12 matrix representing daily temperatures (in °C) for 30 days across 12 months. Temperatures should range between\n",
        "−\n",
        "10 and\n",
        "40.\n",
        "\n",
        "- Find the hottest and coldest day of the year (date and temperature).\n",
        "- Compute the average temperature for each month.\n",
        "- Identify the month with the most temperature fluctuations (i.e., highest standard deviation)."
      ],
      "metadata": {
        "id": "C3hHUfdQDxBl"
      }
    },
    {
      "cell_type": "code",
      "execution_count": null,
      "metadata": {
        "id": "XhjuL0m6_ATz"
      },
      "outputs": [],
      "source": []
    }
  ]
}