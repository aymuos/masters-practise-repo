{
  "nbformat": 4,
  "nbformat_minor": 0,
  "metadata": {
    "colab": {
      "provenance": [],
      "authorship_tag": "ABX9TyPeHVSGcMs6lQ38A0/Ww2ap",
      "include_colab_link": true
    },
    "kernelspec": {
      "name": "python3",
      "display_name": "Python 3"
    },
    "language_info": {
      "name": "python"
    }
  },
  "cells": [
    {
      "cell_type": "markdown",
      "metadata": {
        "id": "view-in-github",
        "colab_type": "text"
      },
      "source": [
        "<a href=\"https://colab.research.google.com/github/aymuos/masters-practise-repo/blob/main/TERM2/MLlab/practise/lab_practise2.ipynb\" target=\"_parent\"><img src=\"https://colab.research.google.com/assets/colab-badge.svg\" alt=\"Open In Colab\"/></a>"
      ]
    },
    {
      "cell_type": "code",
      "execution_count": null,
      "metadata": {
        "id": "802TVCaFkAbx"
      },
      "outputs": [],
      "source": []
    },
    {
      "cell_type": "markdown",
      "source": [
        ". Python Interfaces\n",
        "\n",
        "\n",
        "1. Create a custom interface\n",
        "Define an interface using abc (Abstract Base Class) and implement it in a subclass to perform basic mathematical operations.\n",
        "2. Numpy Exercises\n",
        "Array Manipulation\n",
        "Create a 2D NumPy array and perform operations such as slicing, reshaping, and finding the sum along specific axes.\n",
        "Matrix Operations\n",
        "Perform matrix multiplication, element-wise multiplication, and calculate the inverse and determinant of a matrix.\n",
        "3. Scipy Exercises\n",
        "Optimization Problem\n",
        "Use SciPy's optimize module to solve a simple optimization problem, such as finding the minimum of a quadratic function.\n",
        "Statistical Analysis\n",
        "Generate random data and calculate statistical properties like mean, median, standard deviation, and perform a t-test using SciPy.\n",
        "4. Pandas Exercises\n",
        "DataFrame Basics\n",
        "Load a CSV file into a Pandas DataFrame, filter rows based on a condition, and calculate summary statistics for numeric columns.\n",
        "Group By and Aggregation\n",
        "Group data by a categorical column and compute aggregated metrics like mean, count, and sum for other columns.\n",
        "5. Data Visualization with Matplotlib\n",
        "Line and Bar Plots :\n",
        "Create a line plot showing the trend of data over time and a bar plot comparing values across categories.\n",
        "Scatter Plot with Customization\n",
        "Plot a scatter plot with annotations, custom colors, and a legend to differentiate categories.\n",
        "6. Querying Databases\n",
        "SQL Query Execution\n",
        "Connect to a SQLite database using sqlite3 or a library like SQLAlchemy, and execute SELECT, INSERT, and UPDATE queries.\n",
        "Join and Aggregation\n",
        "Write a query to perform a join between two tables and compute aggregate metrics such as total sales per product.\n",
        "7. Data Collection\n",
        "Web Scraping\n",
        "Use requests and BeautifulSoup to scrape data from a website and save it to a CSV file.\n",
        "API Integration\n",
        "Fetch data from a public API (e.g., weather data) using requests or httpx and parse the JSON response.\n",
        "8. Scikit-learn for Machine Learning\n",
        "Linear Regression\n",
        "Implement a simple linear regression model using Scikit-learn. Train the model on a dataset and evaluate it using metrics like Mean Squared Error.\n",
        "Classification Task\n",
        "Use Scikit-learn to train a classification model (e.g., Decision Tree or Logistic Regression) on a dataset like the Iris dataset and visualize the decision boundaries.\n"
      ],
      "metadata": {
        "id": "IaNyeRc9kG0n"
      }
    }
  ]
}