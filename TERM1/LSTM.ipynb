{
  "nbformat": 4,
  "nbformat_minor": 0,
  "metadata": {
    "colab": {
      "provenance": [],
      "authorship_tag": "ABX9TyOrlsdOF1wCgb2OLvkprAAu",
      "include_colab_link": true
    },
    "kernelspec": {
      "name": "python3",
      "display_name": "Python 3"
    },
    "language_info": {
      "name": "python"
    }
  },
  "cells": [
    {
      "cell_type": "markdown",
      "metadata": {
        "id": "view-in-github",
        "colab_type": "text"
      },
      "source": [
        "<a href=\"https://colab.research.google.com/github/aymuos/masters-practise-repo/blob/main/LSTM.ipynb\" target=\"_parent\"><img src=\"https://colab.research.google.com/assets/colab-badge.svg\" alt=\"Open In Colab\"/></a>"
      ]
    },
    {
      "cell_type": "code",
      "execution_count": null,
      "metadata": {
        "id": "5id793eQQ-b7"
      },
      "outputs": [],
      "source": [
        "\n",
        "import pandas as pd\n",
        "import numpy as np\n",
        "import matplotlib.pyplot as plt\n",
        "from sklearn.preprocessing import MinMaxScaler\n",
        "from keras.models import Sequential\n",
        "from keras.layers import LSTM, Dense\n",
        "from sklearn.metrics import mean_absolute_error, mean_squared_error, r2_score\n",
        "from math import sqrt\n",
        "\n",
        "train_data = pd.read_csv('NIFTY_50_2015-2023.csv', parse_dates=['Date'], index_col='Date')\n",
        "test_data = pd.read_csv('NIFTY_50_2024.csv', parse_dates=['Date'], index_col='Date')\n",
        "train_data = train_data['Close']\n",
        "test_data = test_data['Close']\n",
        "scaler = MinMaxScaler(feature_range=(0, 1))\n",
        "train_scaled = scaler.fit_transform(train_data.values.reshape(-1, 1))\n",
        "test_scaled = scaler.transform(test_data.values.reshape(-1, 1))\n",
        "\n",
        "def create_dataset(dataset, look_back=60):\n",
        "    X, y = [], []\n",
        "    for i in range(len(dataset) - look_back - 1):\n",
        "        X.append(dataset[i:(i + look_back), 0])\n",
        "        y.append(dataset[i + look_back, 0])\n",
        "    return np.array(X), np.array(y)\n",
        "\n",
        "look_back = 60\n",
        "X_train, y_train = create_dataset(train_scaled, look_back)\n",
        "X_test, y_test = create_dataset(test_scaled, look_back)\n",
        "X_train = X_train.reshape(X_train.shape[0], X_train.shape[1], 1)\n",
        "X_test = X_test.reshape(X_test.shape[0], X_test.shape[1], 1)\n",
        "model = Sequential()\n",
        "model.add(LSTM(units=50, return_sequences=True, input_shape=(X_train.shape[1], 1)))\n",
        "model.add(LSTM(units=50, return_sequences=False))\n",
        "model.add(Dense(units=1))  # Output layer\n",
        "model.compile(optimizer='adam', loss='mean_squared_error')\n",
        "model.fit(X_train, y_train, epochs=10, batch_size=32)\n",
        "predictions = model.predict(X_test)\n",
        "predictions_rescaled = scaler.inverse_transform(predictions)\n",
        "y_test_rescaled = scaler.inverse_transform(y_test.reshape(-1, 1)) ## Invert scaling for predictions and actual values to get them back to the original scale\n",
        "forecasted_prices = predictions_rescaled.flatten() #same length as the actual test data\n",
        "actual_prices = y_test_rescaled.flatten()\n",
        "forecasted_prices = forecasted_prices[:len(test_data) - look_back]  # Align with the test data (forecasted_prices will have one less value than the test data)\n",
        "mae = mean_absolute_error(actual_prices, forecasted_prices)\n",
        "rmse = sqrt(mean_squared_error(actual_prices, forecasted_prices))\n",
        "print(f'Mean Absolute Error (MAE): {mae}')\n",
        "print(f'Root Mean Squared Error (RMSE): {rmse}')\n",
        "\n",
        "r2 = r2_score(y_true, y_pred)\n",
        "print(f'R-squared (R^2): {r2}')\n",
        "\n",
        "# Calculate MAPE\n",
        "masked_actual = np.ma.masked_array(y_true, mask=y_true==0) #Mask values where y_true is 0 to avoid division by zero.\n",
        "MAPE = (np.fabs(masked_actual.filled(0) - y_pred.to_numpy())/masked_actual.filled(1)).mean() #Convert masked_actual and y_pred to NumPy arrays for compatibility.\n",
        "\n",
        "print(f'MAPE: {MAPE}')"
      ]
    }
  ]
}