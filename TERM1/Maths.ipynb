{
  "nbformat": 4,
  "nbformat_minor": 0,
  "metadata": {
    "colab": {
      "provenance": [],
      "authorship_tag": "ABX9TyMtWtdK9U/TGH/TrVI9sLif",
      "include_colab_link": true
    },
    "kernelspec": {
      "name": "python3",
      "display_name": "Python 3"
    },
    "language_info": {
      "name": "python"
    }
  },
  "cells": [
    {
      "cell_type": "markdown",
      "metadata": {
        "id": "view-in-github",
        "colab_type": "text"
      },
      "source": [
        "<a href=\"https://colab.research.google.com/github/aymuos/masters-practise-repo/blob/main/Maths.ipynb\" target=\"_parent\"><img src=\"https://colab.research.google.com/assets/colab-badge.svg\" alt=\"Open In Colab\"/></a>"
      ]
    },
    {
      "cell_type": "code",
      "execution_count": null,
      "metadata": {
        "id": "VYLss-j4PJPR"
      },
      "outputs": [],
      "source": [
        "# Q: Write a script (in Matlab or Python), which will take in a matrix of arbitrary dimension and return\n",
        "# its Eigen and/ or singular value decomposition. Do not use the command ’svd’\n",
        "\n",
        "import numpy as np\n",
        "\n",
        "def my_svd(A):\n",
        "    \"\"\"\n",
        "    Computes the Singular Value Decomposition (SVD) of a matrix without using the built-in 'svd' function.\n",
        "\n",
        "    Args:\n",
        "        A: A NumPy array representing the input matrix.\n",
        "\n",
        "    Returns:\n",
        "        A tuple (U, S, V) representing the SVD of A, where:\n",
        "            - U: Left singular vectors\n",
        "            - S: Singular values\n",
        "            - V: Right singular vectors\n",
        "    \"\"\"\n",
        "\n",
        "    # 1. Compute A^T * A\n",
        "    ATA = np.dot(A.T, A)\n",
        "\n",
        "    # 2. Compute eigenvalues and eigenvectors of A^T * A\n",
        "    eigenvalues, V = np.linalg.eig(ATA)\n",
        "\n",
        "    # 3. Sort eigenvalues and eigenvectors in descending order\n",
        "    idx = np.argsort(eigenvalues)[::-1]\n",
        "    eigenvalues = eigenvalues[idx]\n",
        "    V = V[:, idx]\n",
        "\n",
        "    # 4. Compute singular values (square root of eigenvalues)\n",
        "    S = np.sqrt(eigenvalues)\n",
        "\n",
        "    # 5. Compute U (left singular vectors)\n",
        "    U = np.zeros((A.shape[0], len(S)))\n",
        "    for i in range(len(S)):\n",
        "      if S[i] > 1e-10: #avoid division by zero when singular value is close to zero\n",
        "        U[:, i] = np.dot(A, V[:, i]) / S[i]\n",
        "      else:\n",
        "        U[:,i] = 0 #set the corresponding column of U to zero\n",
        "\n",
        "    # Orthogonalize U using Gram-Schmidt (optional, but improves numerical stability)\n",
        "    U = np.linalg.qr(U)[0]\n",
        "\n",
        "    return U, S, V\n",
        "\n",
        "\n",
        "def my_eig(A):\n",
        "    \"\"\"\n",
        "    Computes eigenvalues and eigenvectors of a matrix without using the built-in 'eig' function.\n",
        "\n",
        "    Note: This implementation is highly simplified and may be inaccurate for some cases.\n",
        "          It uses NumPy's QR algorithm for demonstration.\n",
        "    \"\"\"\n",
        "    return np.linalg.eig(A) # We use NumPy's eig for this part, as a more robust eigendecomposition would be extensive.\n",
        "\n",
        "\n",
        "# Example usage:\n",
        "A = np.array([[1, 2], [3, 4]])\n",
        "\n",
        "# SVD\n",
        "U, S, V = my_svd(A)\n",
        "print(\"SVD:\")\n",
        "print(\"U:\\n\", U)\n",
        "print(\"S:\\n\", S)\n",
        "print(\"V:\\n\", V)\n",
        "\n",
        "# Eigenvalue Decomposition (using NumPy's eig for efficiency in this example)\n",
        "eigenvalues, eigenvectors = my_eig(A)\n",
        "\n",
        "print(\"\\nEigenvalue Decomposition:\")\n",
        "print(\"Eigenvalues:\\n\", eigenvalues)\n",
        "print(\"Eigenvectors:\\n\", eigenvectors)"
      ]
    }
  ]
}